{
 "cells": [
  {
   "cell_type": "markdown",
   "metadata": {},
   "source": [
    "<img src=\"gfx/V-Cover.png\">"
   ]
  },
  {
   "cell_type": "markdown",
   "metadata": {},
   "source": [
    "<span></span>\n",
    "<h1>Värden</h1>\n",
    "<h3>\n",
    "<ul>\n",
    "    <li>Värden är viktiga byggstenar i program</li>\n",
    "    <li>Ett värde i Python kan till exempel vara ett heltal, decimaltal eller en text</li>\n",
    "    <li>Vi ska börja med att titta på heltal och text</li>\n",
    "</ul>\n",
    "<span></span>\n",
    "<ul>\n",
    "    <li>Heltal i Python kallas <span style=\"color:#BB2222\">Integer</span></li>\n",
    "    <li>Vi kan skriva ut heltal eller göra aritmetiska beräkningar</li>\n",
    "</ul>\n",
    "</h3>"
   ]
  },
  {
   "cell_type": "code",
   "execution_count": 1,
   "metadata": {},
   "outputs": [
    {
     "name": "stdout",
     "output_type": "stream",
     "text": [
      "42\n",
      "14\n",
      "27\n",
      "42\n"
     ]
    }
   ],
   "source": [
    "# Skriv ut talet 42\n",
    "print(42)\n",
    "# Skriv ut resultatet av 5+9\n",
    "print(5+9)\n",
    "# Skriv ut resultatet av 9*3\n",
    "print(9*3)\n",
    "# Skriv ut resultatet av 8*4+10\n",
    "print(8*4+10)"
   ]
  },
  {
   "cell_type": "markdown",
   "metadata": {},
   "source": [
    "<span></span>\n",
    "<h3>\n",
    "<ul>\n",
    "    <li><span style=\"color:blue\">print()</span> används för att skriva ut någonting på skärmen</li>\n",
    "    <li>Vi kan också be användaren mata in ett tal med kommandot <span style=\"color:blue\">input()</span></li>\n",
    "</ul>\n",
    "</h3>"
   ]
  },
  {
   "cell_type": "code",
   "execution_count": 2,
   "metadata": {
    "scrolled": true
   },
   "outputs": [
    {
     "name": "stdout",
     "output_type": "stream",
     "text": [
      "42\n"
     ]
    },
    {
     "data": {
      "text/plain": [
       "'42'"
      ]
     },
     "execution_count": 2,
     "metadata": {},
     "output_type": "execute_result"
    }
   ],
   "source": [
    "# Be användaren mata in ett heltal\n",
    "input()"
   ]
  },
  {
   "cell_type": "markdown",
   "metadata": {},
   "source": [
    "<span></span>\n",
    "<h3>\n",
    "<ul>\n",
    "    <li><span style=\"color:blue\">print()</span> kan också användas för att skriva ut text</li>\n",
    "    <li>Text i Python kallas <span style=\"color:#BB2222\">String</span> (sträng)</li>\n",
    "    <li>En sträng är en sekvens av en eller flera bokstäver, siffror eller specialtecken</li>\n",
    "    <li>Strängar måste anges inom citationstecken (enkla eller dubbla)</li>\n",
    "</ul>\n",
    "</h3>"
   ]
  },
  {
   "cell_type": "code",
   "execution_count": 3,
   "metadata": {
    "scrolled": true
   },
   "outputs": [
    {
     "name": "stdout",
     "output_type": "stream",
     "text": [
      "Svaret är 42\n",
      "Strängar kan bestå av bokstäver, siffor (1 5 3) och specialtecken (# $ €)\n"
     ]
    }
   ],
   "source": [
    "# Textsträng inom dubbla citationstecken\n",
    "print(\"Svaret är 42\")\n",
    "# Textsträng inom enkla citationstecken\n",
    "print('Strängar kan bestå av bokstäver, siffor (1 5 3) och specialtecken (# $ €)')"
   ]
  },
  {
   "cell_type": "code",
   "execution_count": 4,
   "metadata": {
    "scrolled": true
   },
   "outputs": [
    {
     "ename": "SyntaxError",
     "evalue": "EOL while scanning string literal (<ipython-input-4-7cbef61c1324>, line 2)",
     "output_type": "error",
     "traceback": [
      "\u001b[0;36m  File \u001b[0;32m\"<ipython-input-4-7cbef61c1324>\"\u001b[0;36m, line \u001b[0;32m2\u001b[0m\n\u001b[0;31m    print(\"Detta ger ett felmeddelande')\u001b[0m\n\u001b[0m                                        ^\u001b[0m\n\u001b[0;31mSyntaxError\u001b[0m\u001b[0;31m:\u001b[0m EOL while scanning string literal\n"
     ]
    }
   ],
   "source": [
    "# Det är inte tillåtet att blanda enkla och dubbla citationstecken\n",
    "print(\"Detta ger ett felmeddelande')"
   ]
  },
  {
   "cell_type": "markdown",
   "metadata": {},
   "source": [
    "<span></span>\n",
    "<h3>\n",
    "<ul>\n",
    "    <li>Använder vi <font color=\"#BB2222\">+</font> mellan textsträngar läggs två strängar ihop (konkatenering)</li>\n",
    "</ul>\n",
    "</h3>"
   ]
  },
  {
   "cell_type": "code",
   "execution_count": 5,
   "metadata": {
    "scrolled": true
   },
   "outputs": [
    {
     "name": "stdout",
     "output_type": "stream",
     "text": [
      "Detta är en text\n"
     ]
    }
   ],
   "source": [
    "# Lägg samman två textsträngar\n",
    "print(\"Detta är \" + \"en text\")"
   ]
  },
  {
   "cell_type": "markdown",
   "metadata": {},
   "source": [
    "<span></span>\n",
    "<h3>\n",
    "<ul>\n",
    "    <li><span style=\"color:blue\">input()</span> kan också användas för att be användaren mata in en textsträng</li>\n",
    "</ul>\n",
    "</h3>"
   ]
  },
  {
   "cell_type": "code",
   "execution_count": 6,
   "metadata": {},
   "outputs": [
    {
     "name": "stdout",
     "output_type": "stream",
     "text": [
      "Skriv in ditt namn:\n",
      "Johan\n"
     ]
    },
    {
     "data": {
      "text/plain": [
       "'Johan'"
      ]
     },
     "execution_count": 6,
     "metadata": {},
     "output_type": "execute_result"
    }
   ],
   "source": [
    "# Be användaren mata in sitt namn\n",
    "print(\"Skriv in ditt namn:\")\n",
    "input()"
   ]
  },
  {
   "cell_type": "markdown",
   "metadata": {},
   "source": [
    "<span></span>\n",
    "<h3>\n",
    "<ul>\n",
    "    <li><span style=\"color:blue\">type()</span> kan användas för att se typen på ett värde</li>\n",
    "</ul>\n",
    "</h3>"
   ]
  },
  {
   "cell_type": "code",
   "execution_count": 7,
   "metadata": {},
   "outputs": [
    {
     "name": "stdout",
     "output_type": "stream",
     "text": [
      "4 har typen:\n",
      "<class 'int'>\n",
      "'Python' har typen:\n",
      "<class 'str'>\n"
     ]
    }
   ],
   "source": [
    "# Se typen på 4\n",
    "print(\"4 har typen:\")\n",
    "print(type(4))\n",
    "# Se typen på \"Python\"\n",
    "print(\"'Python' har typen:\")\n",
    "print(type(\"Python\"))"
   ]
  },
  {
   "cell_type": "markdown",
   "metadata": {},
   "source": [
    "<span></span>\n",
    "<h3>\n",
    "<ul>\n",
    "    <li>Om ett tal anges inom citationstecken hanterar Python det som en textsträng, inte ett tal</li>\n",
    "</ul>\n",
    "</h3>"
   ]
  },
  {
   "cell_type": "code",
   "execution_count": 8,
   "metadata": {},
   "outputs": [
    {
     "name": "stdout",
     "output_type": "stream",
     "text": [
      "'42' har typen:\n",
      "<class 'str'>\n"
     ]
    }
   ],
   "source": [
    "# Se typen på '42'\n",
    "print(\"'42' har typen:\")\n",
    "print(type('42'))"
   ]
  },
  {
   "cell_type": "markdown",
   "metadata": {},
   "source": [
    "<span></span>\n",
    "<h3>\n",
    "<ul>\n",
    "    <li>Det är inte tillåtet att konkatenera strängar och heltal</li>\n",
    "</ul>\n",
    "</h3>"
   ]
  },
  {
   "cell_type": "code",
   "execution_count": 9,
   "metadata": {
    "scrolled": true
   },
   "outputs": [
    {
     "ename": "TypeError",
     "evalue": "can only concatenate str (not \"int\") to str",
     "output_type": "error",
     "traceback": [
      "\u001b[0;31m---------------------------------------------------------------------------\u001b[0m",
      "\u001b[0;31mTypeError\u001b[0m                                 Traceback (most recent call last)",
      "\u001b[0;32m<ipython-input-9-bd03c30c3ffd>\u001b[0m in \u001b[0;36m<module>\u001b[0;34m\u001b[0m\n\u001b[1;32m      1\u001b[0m \u001b[0;31m# Detta ger felmeddelande\u001b[0m\u001b[0;34m\u001b[0m\u001b[0;34m\u001b[0m\u001b[0;34m\u001b[0m\u001b[0m\n\u001b[0;32m----> 2\u001b[0;31m \u001b[0mprint\u001b[0m\u001b[0;34m(\u001b[0m\u001b[0;34m\"Svaret är \"\u001b[0m \u001b[0;34m+\u001b[0m \u001b[0;36m42\u001b[0m\u001b[0;34m)\u001b[0m\u001b[0;34m\u001b[0m\u001b[0;34m\u001b[0m\u001b[0m\n\u001b[0m",
      "\u001b[0;31mTypeError\u001b[0m: can only concatenate str (not \"int\") to str"
     ]
    }
   ],
   "source": [
    "# Detta ger felmeddelande\n",
    "print(\"Svaret är \" + 42)"
   ]
  },
  {
   "cell_type": "markdown",
   "metadata": {},
   "source": [
    "<span></span>\n",
    "<h3>\n",
    "<ul>\n",
    "    <li>Vi kan lösa detta genom att konvertera heltalet till en sträng med <span style=\"color:blue\">str()</span></li>\n",
    "</ul>\n",
    "</h3>"
   ]
  },
  {
   "cell_type": "code",
   "execution_count": 10,
   "metadata": {},
   "outputs": [
    {
     "name": "stdout",
     "output_type": "stream",
     "text": [
      "Svaret är 42\n"
     ]
    }
   ],
   "source": [
    "# Detta är tillåtet\n",
    "print(\"Svaret är \" + str(42))"
   ]
  },
  {
   "cell_type": "markdown",
   "metadata": {},
   "source": [
    "<span></span>\n",
    "<h1>Variabler</h1>\n",
    "<h3>\n",
    "<ul>\n",
    "    <li>I program behöver vi ofta komma ihåg värden</li>\n",
    "    <li>Det kan t.ex. var resultatet av en delberäkning som behövs i andra beräkningar</li>\n",
    "    <li>Eller namnet på en användare</li>\n",
    "</ul>\n",
    "<span></span>\n",
    "<ul>\n",
    "    <li>I programmering lagrar vi värden i <span style=\"color:#BB2222\">variabler</span></li>\n",
    "    <li>En variabel har ett unikt namn och ett värde</li>\n",
    "    <li>Vi kan lagra ett värde i en variabel, och sedan använda namnet på variabeln när vi behöver värdet</li>\n",
    "</ul>\n",
    "<span></span>\n",
    "<ul>\n",
    "    <li>En variabel är en namngiven del av datorns minne</li>\n",
    "    <li>När en variabel skapas allokerar datorn ett område i minnet där värdet lagras</li>\n",
    "    <li>När vi refererar till variabelns namn, vet datorn var i minnet värdet finns</li>\n",
    "</ul>\n",
    "<img src=\"gfx/VarInMem.png\" width=\"400\">\n",
    "</h3>"
   ]
  },
  {
   "cell_type": "markdown",
   "metadata": {},
   "source": [
    "<span></span>\n",
    "<h3>\n",
    "<ul>\n",
    "    <li>En variabel tilldelas ett värde med tilldelningsoperatorn <font color=\"#BB2222\">=</font></li>\n",
    "</ul>\n",
    "</h3>"
   ]
  },
  {
   "cell_type": "code",
   "execution_count": 11,
   "metadata": {},
   "outputs": [
    {
     "name": "stdout",
     "output_type": "stream",
     "text": [
      "5\n"
     ]
    }
   ],
   "source": [
    "# Tilldela variabeln med namnet x värdet 5\n",
    "x = 5\n",
    "# Skriv ut värdet på variabeln x\n",
    "print(x)"
   ]
  },
  {
   "cell_type": "markdown",
   "metadata": {},
   "source": [
    "<span></span>\n",
    "<h3>\n",
    "<ul>\n",
    "    <li>Vi kan tilldela en variabel resultatet av en beräkning</li>\n",
    "    <li>Och även uppdatera värdet vid senare tillfälle</li>\n",
    "</ul>\n",
    "</h3>"
   ]
  },
  {
   "cell_type": "code",
   "execution_count": 12,
   "metadata": {},
   "outputs": [
    {
     "name": "stdout",
     "output_type": "stream",
     "text": [
      "2^2 = \n",
      "4\n",
      "2^3 = \n",
      "8\n"
     ]
    }
   ],
   "source": [
    "# Beräkna 2^2\n",
    "x = 2*2\n",
    "print(\"2^2 = \")\n",
    "print(x)\n",
    "# Beräkna 2^3\n",
    "x = 2*2*2\n",
    "print(\"2^3 = \")\n",
    "print(x)"
   ]
  },
  {
   "cell_type": "markdown",
   "metadata": {},
   "source": [
    "<span></span>\n",
    "<h3>\n",
    "<ul>\n",
    "    <li>Vi kan också använda värdet som redan finns i variabeln när vi vill uppdatera värdet</li>\n",
    "</ul>\n",
    "</h3>"
   ]
  },
  {
   "cell_type": "code",
   "execution_count": 13,
   "metadata": {},
   "outputs": [
    {
     "name": "stdout",
     "output_type": "stream",
     "text": [
      "2^2 = \n",
      "4\n",
      "2^3 = \n",
      "8\n",
      "2^4 = \n",
      "16\n"
     ]
    }
   ],
   "source": [
    "# Beräkna 2^2\n",
    "x = 2*2\n",
    "print(\"2^2 = \")\n",
    "print(x)\n",
    "# Beräkna 2^3\n",
    "x = x*2\n",
    "print(\"2^3 = \")\n",
    "print(x)\n",
    "# Beräkna 2^4\n",
    "x = x*2\n",
    "print(\"2^4 = \")\n",
    "print(x)"
   ]
  },
  {
   "cell_type": "markdown",
   "metadata": {},
   "source": [
    "<span></span>\n",
    "<h3>\n",
    "<ul>\n",
    "    <li>Om vi försöker använda en variabel som inte har blivit initialiserad med ett värde får vi ett felmeddelande</li>\n",
    "</ul>\n",
    "</h3>"
   ]
  },
  {
   "cell_type": "code",
   "execution_count": 14,
   "metadata": {
    "scrolled": true
   },
   "outputs": [
    {
     "ename": "NameError",
     "evalue": "name 'yh' is not defined",
     "output_type": "error",
     "traceback": [
      "\u001b[0;31m---------------------------------------------------------------------------\u001b[0m",
      "\u001b[0;31mNameError\u001b[0m                                 Traceback (most recent call last)",
      "\u001b[0;32m<ipython-input-14-9f90655cf7af>\u001b[0m in \u001b[0;36m<module>\u001b[0;34m\u001b[0m\n\u001b[1;32m      1\u001b[0m \u001b[0;31m# Detta ger felmeddelande\u001b[0m\u001b[0;34m\u001b[0m\u001b[0;34m\u001b[0m\u001b[0;34m\u001b[0m\u001b[0m\n\u001b[0;32m----> 2\u001b[0;31m \u001b[0mprint\u001b[0m\u001b[0;34m(\u001b[0m\u001b[0myh\u001b[0m\u001b[0;34m)\u001b[0m\u001b[0;34m\u001b[0m\u001b[0;34m\u001b[0m\u001b[0m\n\u001b[0m",
      "\u001b[0;31mNameError\u001b[0m: name 'yh' is not defined"
     ]
    }
   ],
   "source": [
    "# Detta ger felmeddelande\n",
    "print(yh)"
   ]
  },
  {
   "cell_type": "markdown",
   "metadata": {},
   "source": [
    "<span></span>\n",
    "<h3>\n",
    "<ul>\n",
    "    <li>Vi kan utföra olika delberäkningar och spara i variabler, och sedan använda variablerna för ytterligare beräkningar</li>\n",
    "</ul>\n",
    "</h3>"
   ]
  },
  {
   "cell_type": "code",
   "execution_count": 15,
   "metadata": {},
   "outputs": [
    {
     "name": "stdout",
     "output_type": "stream",
     "text": [
      "64\n"
     ]
    }
   ],
   "source": [
    "# Delberäkning 1\n",
    "a = 5+3\n",
    "# Delberäkning 2\n",
    "b = 2*4\n",
    "# Använd dessa i en ny beräkning\n",
    "c = a * b\n",
    "print(c)"
   ]
  },
  {
   "cell_type": "markdown",
   "metadata": {},
   "source": [
    "<span></span>\n",
    "<h3>\n",
    "<ul>\n",
    "    <li>Om vi har två variabler <span style=\"color:#BB2222\">a</span> och <span style=\"color:#BB2222\">b</span> som vardera tilldelas ett värde ser det ut så här:</li>\n",
    "</ul>\n",
    "</h3>\n",
    "<img src=\"gfx/Assign_AB.png\" width=\"300\">\n",
    "<h3>\n",
    "<ul>\n",
    "    <li>Om vi sedan sätter variabeln <span style=\"color:#BB2222\">a</span> till att vara <span style=\"color:#BB2222\">b</span> skrivs värdet som <span style=\"color:#BB2222\">a</span> hade över:</li>\n",
    "</ul>\n",
    "<img src=\"gfx/Assign_AeqB.png\" width=\"300\">\n",
    "</h3>"
   ]
  },
  {
   "cell_type": "code",
   "execution_count": 16,
   "metadata": {},
   "outputs": [
    {
     "name": "stdout",
     "output_type": "stream",
     "text": [
      "a = 2\n",
      "b = 5\n",
      "Sätt a = b\n",
      "a = 5\n",
      "b = 5\n"
     ]
    }
   ],
   "source": [
    "# Exemplet i kod\n",
    "a = 2\n",
    "b = 5\n",
    "print(\"a = \" + str(a))\n",
    "print(\"b = \" + str(b))\n",
    "# Sätt a = b\n",
    "a = b\n",
    "print(\"Sätt a = b\")\n",
    "print(\"a = \" + str(a))\n",
    "print(\"b = \" + str(b))"
   ]
  },
  {
   "cell_type": "markdown",
   "metadata": {},
   "source": [
    "<span></span>\n",
    "<h3>\n",
    "<ul>\n",
    "    <li><span style=\"color:blue\">type()</span> kan också användas för att se typen på en variabel</li>\n",
    "</ul>\n",
    "</h3>"
   ]
  },
  {
   "cell_type": "code",
   "execution_count": 17,
   "metadata": {},
   "outputs": [
    {
     "name": "stdout",
     "output_type": "stream",
     "text": [
      "a har typen:\n",
      "<class 'int'>\n",
      "b har typen:\n",
      "<class 'str'>\n"
     ]
    }
   ],
   "source": [
    "# Initialisera variabler\n",
    "a = 36\n",
    "b = \"Text\"\n",
    "# Kontrollera typen på variablerna\n",
    "print(\"a har typen:\")\n",
    "print(type(a))\n",
    "print(\"b har typen:\")\n",
    "print(type(b))"
   ]
  },
  {
   "cell_type": "markdown",
   "metadata": {},
   "source": [
    "<span></span>\n",
    "<h3>\n",
    "<ul>\n",
    "    <li>I Python kan vi tilldela flera variabler värden i samma anrop (multiple assignment)</li>\n",
    "</ul>\n",
    "</h3>"
   ]
  },
  {
   "cell_type": "code",
   "execution_count": 18,
   "metadata": {},
   "outputs": [
    {
     "name": "stdout",
     "output_type": "stream",
     "text": [
      "Figuren är en Cirkel med arean 25 cm^3\n"
     ]
    }
   ],
   "source": [
    "# Tilldela flera variabler värden i samma anrop\n",
    "area, figur = 25, \"Cirkel\"\n",
    "# Skriv ut variablerna\n",
    "print(\"Figuren är en \" + figur + \" med arean \" + str(area) + \" cm^3\")"
   ]
  },
  {
   "cell_type": "markdown",
   "metadata": {},
   "source": [
    "<span></span>\n",
    "<h3>\n",
    "<ul>\n",
    "    <li>En komma-separerad lista med uttryck kallas för <span style=\"color:#BB2222\">tuple</span></li>\n",
    "    <li>En <span style=\"color:#BB2222\">tuple</span> kan ha olika antal uttryck (2 i exemplet ovan)</li>\n",
    "</ul>\n",
    "</h3>"
   ]
  },
  {
   "cell_type": "markdown",
   "metadata": {},
   "source": [
    "<span></span>\n",
    "<h1>Mer om utskrift</h1>\n",
    "<h3>\n",
    "<ul>\n",
    "    <li>Som nämnts tidigare kan vi inte konkatenera strängar med heltal i <span style=\"color:blue\">print()</span></li>\n",
    "    <li>Vi kan dock ange flera värden till <span style=\"color:blue\">print()</span> separerade med komma i stället för konkatenering</li>\n",
    "    <li>Då kan vi blanda olika typer i samma <span style=\"color:blue\">print()</span> anrop</li>\n",
    "</ul>\n",
    "</h3>"
   ]
  },
  {
   "cell_type": "code",
   "execution_count": 19,
   "metadata": {},
   "outputs": [
    {
     "name": "stdout",
     "output_type": "stream",
     "text": [
      "Variabeln a har värdet 17 och typen <class 'int'>\n"
     ]
    }
   ],
   "source": [
    "# Definiera en variabel\n",
    "a = 17\n",
    "# Skriv ut information om variabeln\n",
    "print(\"Variabeln a har värdet\", a, \"och typen\" , type(a))"
   ]
  },
  {
   "cell_type": "markdown",
   "metadata": {},
   "source": [
    "<h3>\n",
    "<ul>\n",
    "    <li>Som standard separeras värdena med ett mellanslag, men vi kan ange en godtycklig textsträng som vi vill ska separera värdena</li>\n",
    "</ul>\n",
    "</h3>"
   ]
  },
  {
   "cell_type": "code",
   "execution_count": 20,
   "metadata": {},
   "outputs": [
    {
     "name": "stdout",
     "output_type": "stream",
     "text": [
      "3,5,8\n"
     ]
    }
   ],
   "source": [
    "# Definiera variabler\n",
    "x = 3\n",
    "y = 5\n",
    "z = 8\n",
    "# Skriv ut variablerna separerade med komma\n",
    "print(x, y, z, sep=\",\")"
   ]
  },
  {
   "cell_type": "markdown",
   "metadata": {},
   "source": [
    "<span></span>\n",
    "<h3>\n",
    "<ul>\n",
    "    <li>Vi kan också ange så kallade <span style=\"color:#BB2222\">kontrollkoder</span> i en utskrift</li>\n",
    "    <li>Dessa skrivs inte ut, utan anger hur utskriften ska formateras</li>\n",
    "    <li>De vanligaste är radbrytning <span style=\"color:#BB2222\">\\n</span> och tab <span style=\"color:#BB2222\">\\t</span></li>\n",
    "</ul>\n",
    "</h3>"
   ]
  },
  {
   "cell_type": "code",
   "execution_count": 21,
   "metadata": {},
   "outputs": [
    {
     "name": "stdout",
     "output_type": "stream",
     "text": [
      "En text på\n",
      "två rader\n",
      "Här separerar vi a och b med tab: a\tb\n"
     ]
    }
   ],
   "source": [
    "# Radbrytning\n",
    "print(\"En text på\\ntvå rader\")\n",
    "# Tab\n",
    "print(\"Här separerar vi a och b med tab: a\\tb\")"
   ]
  },
  {
   "cell_type": "markdown",
   "metadata": {},
   "source": [
    "<span></span>\n",
    "<h1>Decimaltal</h1>\n",
    "<h3>\n",
    "<ul>\n",
    "    <li>Decimaltal i Python kallas <span style=\"color:#BB2222\">Float</span></li>\n",
    "    <li>En viktig sak att vara medveten om som programmerare är att decimaltal har en given <span style=\"color:#BB2222\">precision</span></li>\n",
    "    <li>Som exempel kan vi ta 1/3:</li>\n",
    "</ul>\n",
    "</h3>"
   ]
  },
  {
   "cell_type": "code",
   "execution_count": 22,
   "metadata": {},
   "outputs": [
    {
     "name": "stdout",
     "output_type": "stream",
     "text": [
      "1/3 = 0.3333333333333333\n"
     ]
    }
   ],
   "source": [
    "# Definiera 1/3\n",
    "a = 1/3\n",
    "print(\"1/3 = \" + str(a))"
   ]
  },
  {
   "cell_type": "markdown",
   "metadata": {},
   "source": [
    "<h3>\n",
    "<ul>\n",
    "    <li>1/3 har oändligt antal decimaler</li>\n",
    "    <li>Datorn har begränsat med minnesutrymme för att lagra ett decimaltal, så antalet decimaler blir därmed begränsade</li>\n",
    "    <li>I exemplet anges 1/3 med 16 decimaler</li>\n",
    "</ul>\n",
    "   </h3>\n",
    "   <h3>\n",
    "<ul>\n",
    "    <li>Vi kan alltså inte ange decimaltal med oändligt antal decimaler helt exakt i en dator</li>\n",
    "    <li>Dock kan vi ange dem tillräckligt exakt för de flesta tillämpningsområdena</li>\n",
    "    <li>Decimaltal i Python har följande egenskaper:</li>\n",
    "</ul>\n",
    "</h3>\n",
    "<img src=\"gfx/Floats.png\" width=\"700\">"
   ]
  },
  {
   "cell_type": "markdown",
   "metadata": {},
   "source": [
    "<span></span>\n",
    "<h3>\n",
    "<ul>\n",
    "    <li>Har vi väldigt små eller stora tal kan vi ange dem i exponentiell form:</li>\n",
    "</ul>\n",
    "</h3>"
   ]
  },
  {
   "cell_type": "code",
   "execution_count": 23,
   "metadata": {},
   "outputs": [
    {
     "name": "stdout",
     "output_type": "stream",
     "text": [
      "Avogadros konstant är 6.022e+23\n",
      "Ett väldigt litet tal kan anges som 1.023e-08\n"
     ]
    }
   ],
   "source": [
    "# Avogadros konstant\n",
    "av = 6.022e23\n",
    "print(\"Avogadros konstant är \" + str(av))\n",
    "sn = 1.023e-8\n",
    "print(\"Ett väldigt litet tal kan anges som \" + str(sn))"
   ]
  },
  {
   "cell_type": "markdown",
   "metadata": {},
   "source": [
    "<span></span>\n",
    "<h3>\n",
    "<ul>\n",
    "    <li>Om vi vill avrunda ett decimaltal till heltal finns det två sätt:\n",
    "        <ul>\n",
    "            <li>konvertering (typecasting) till <span style=\"color:#BB2222\">Integer</span></li>\n",
    "            <li>använda <span style=\"color:blue\">round()</span></li>\n",
    "        </ul>\n",
    "    </li>\n",
    "</ul>\n",
    "</h3>"
   ]
  },
  {
   "cell_type": "code",
   "execution_count": 24,
   "metadata": {},
   "outputs": [
    {
     "name": "stdout",
     "output_type": "stream",
     "text": [
      "a typecastat till Integer blir 19\n",
      "a avrundat med round() blir 20\n"
     ]
    }
   ],
   "source": [
    "# Definiera ett decimaltal\n",
    "a = 19.83\n",
    "# Typecasta till Integer\n",
    "ai = int(a)\n",
    "print(\"a typecastat till Integer blir \" + str(ai))\n",
    "# Använda round\n",
    "ar = round(a)\n",
    "print(\"a avrundat med round() blir \" + str(ar))"
   ]
  },
  {
   "cell_type": "markdown",
   "metadata": {},
   "source": [
    "<span></span>\n",
    "<h3>\n",
    "<ul>\n",
    "    <li>Typecasting till <span style=\"color:#BB2222\">Integer</span> avrundar alltid nedåt (decimaldelen tas bort)</li>\n",
    "    <li><span style=\"color:blue\">round()</span> avrundar till närmaste heltal som vi är vana vid från matematiken</li>\n",
    "</ul>\n",
    "</h3>"
   ]
  },
  {
   "cell_type": "markdown",
   "metadata": {},
   "source": [
    "<span></span>\n",
    "<h3>\n",
    "<ul>\n",
    "    <li><span style=\"color:blue\">round()</span> kan också användas för att begränsa antalet decimaler i ett decimaltal:</li>\n",
    "</ul>\n",
    "</h3>"
   ]
  },
  {
   "cell_type": "code",
   "execution_count": 25,
   "metadata": {},
   "outputs": [
    {
     "name": "stdout",
     "output_type": "stream",
     "text": [
      "1/3 är 0.3333333333333333\n",
      "1/3 avrundat är 0.33\n"
     ]
    }
   ],
   "source": [
    "# Beräkna 1/3\n",
    "a = 1/3\n",
    "print(\"1/3 är \" + str(a))\n",
    "b = round(a, 2)\n",
    "print(\"1/3 avrundat är \" + str(b))"
   ]
  },
  {
   "cell_type": "markdown",
   "metadata": {},
   "source": [
    "<span></span>\n",
    "<h3>\n",
    "<ul>\n",
    "    <li>Det är viktigt att vara medveten om att resultatet av en beräkning ibland inte blir exakt vad vi förväntar oss</li>\n",
    "    <li>Detta är en effekt av att datorn använder det binära talsystemet med basen 2 internt i stället för vårt talsystem med basen 10</li>\n",
    "    <li>Se följande exempel:</li>\n",
    "</ul>\n",
    "</h3>"
   ]
  },
  {
   "cell_type": "code",
   "execution_count": 26,
   "metadata": {},
   "outputs": [
    {
     "name": "stdout",
     "output_type": "stream",
     "text": [
      "1/10 = 0.1\n",
      "3/10-2/10 = 0.09999999999999998\n"
     ]
    }
   ],
   "source": [
    "# Definiera 1/10\n",
    "a = 1/10\n",
    "# Utför en beräkning som ska bli 1/10\n",
    "b = 3/10-2/10\n",
    "# Skriv ut resultaten\n",
    "print(\"1/10 = \" + str(a))\n",
    "print(\"3/10-2/10 = \" + str(b))"
   ]
  },
  {
   "cell_type": "markdown",
   "metadata": {},
   "source": [
    "<span></span>\n",
    "<h1>Aritmetik</h1>\n",
    "<h3>\n",
    "<ul>\n",
    "    <li>Vi har hittills använt de vanliga räknesätten addition, subtraktion, multiplikation och division</li>\n",
    "    <li>Det finns ett par andra användbara operationer och uttryck i Python:</li>\n",
    "</ul>\n",
    "</h3>"
   ]
  },
  {
   "cell_type": "code",
   "execution_count": 28,
   "metadata": {},
   "outputs": [
    {
     "name": "stdout",
     "output_type": "stream",
     "text": [
      "17/5 har heltalsdel 3 och rest 2\n"
     ]
    }
   ],
   "source": [
    "# Modulus-operatorn beräknar resten av en division\n",
    "heltalsdel = int(17/5)\n",
    "rest = 17 % 5\n",
    "print(\"17/5 har heltalsdel \" + str(heltalsdel) + \" och rest \" + str(rest))"
   ]
  },
  {
   "cell_type": "code",
   "execution_count": 29,
   "metadata": {},
   "outputs": [
    {
     "name": "stdout",
     "output_type": "stream",
     "text": [
      "a^2 = 4\n",
      "a^3 = 8\n"
     ]
    }
   ],
   "source": [
    "# Dubbla multiplikationstecken anger ett tal upphöjt till ett annat\n",
    "a = 2**2\n",
    "print(\"a^2 = \" + str(a))\n",
    "\n",
    "b = 2**3\n",
    "print(\"a^3 = \" + str(b))"
   ]
  },
  {
   "cell_type": "code",
   "execution_count": 30,
   "metadata": {},
   "outputs": [
    {
     "name": "stdout",
     "output_type": "stream",
     "text": [
      "a = 14\n",
      "b = 20\n"
     ]
    }
   ],
   "source": [
    "# Vi kan precis som i matematiken använda parenteser i en beräkning\n",
    "a = 2+3*4\n",
    "print(\"a = \" + str(a))\n",
    "\n",
    "b = (2+3)*4\n",
    "print(\"b = \" + str(b))"
   ]
  },
  {
   "cell_type": "markdown",
   "metadata": {},
   "source": [
    "<span></span>\n",
    "<h3>\n",
    "<ul>\n",
    "    <li>Python följer samma ordningsregler som inom matematiken:\n",
    "        <ul>\n",
    "            <li>Parenteser har högst prioritet</li>\n",
    "            <li>Därefter följer multiplikation och division</li>\n",
    "            <li>Lägst prioritet har addition och subtraktion</li>\n",
    "        </ul>\n",
    "    </li>\n",
    "</ul>\n",
    "</h3>"
   ]
  },
  {
   "cell_type": "markdown",
   "metadata": {},
   "source": [
    "<span></span>\n",
    "<h3>\n",
    "<ul>\n",
    "    <li>Matematiska uttryck ser i princip likadana ut i Python som vi är vana vid från matematiken</li>\n",
    "    <li>Undantaget är vänsterledet</li>\n",
    "    <li><font color=\"#BB2222\">=</font> är en tilldelning, och inte <em>lika med</em> i matematisk mening</li>\n",
    "    <li>Följande matematiska uttryck är inte tillåtet i Python:</li>\n",
    "</ul>\n",
    "</h3>"
   ]
  },
  {
   "cell_type": "code",
   "execution_count": 31,
   "metadata": {
    "scrolled": true
   },
   "outputs": [
    {
     "ename": "SyntaxError",
     "evalue": "can't assign to operator (<ipython-input-31-2018e992dba9>, line 1)",
     "output_type": "error",
     "traceback": [
      "\u001b[0;36m  File \u001b[0;32m\"<ipython-input-31-2018e992dba9>\"\u001b[0;36m, line \u001b[0;32m1\u001b[0m\n\u001b[0;31m    x+2=17\u001b[0m\n\u001b[0m          ^\u001b[0m\n\u001b[0;31mSyntaxError\u001b[0m\u001b[0;31m:\u001b[0m can't assign to operator\n"
     ]
    }
   ],
   "source": [
    "x+2=17"
   ]
  },
  {
   "cell_type": "markdown",
   "metadata": {},
   "source": [
    "<span></span>\n",
    "<h3>\n",
    "<ul>\n",
    "    <li>Om vi ber användaren mata in ett värde med <span style=\"color:blue\">input()</span> antar Python att det är en textsträng som matas in:</li>\n",
    "</ul>\n",
    "</h3>"
   ]
  },
  {
   "cell_type": "code",
   "execution_count": 32,
   "metadata": {},
   "outputs": [
    {
     "name": "stdout",
     "output_type": "stream",
     "text": [
      "Mata in ett heltal:\n",
      "5\n",
      "Inmatning är av typen:\n",
      "<class 'str'>\n"
     ]
    }
   ],
   "source": [
    "# Be användaren mata in ett heltal\n",
    "print(\"Mata in ett heltal:\")\n",
    "x = input()\n",
    "print(\"Inmatning är av typen:\")\n",
    "print(type(x))"
   ]
  },
  {
   "cell_type": "markdown",
   "metadata": {},
   "source": [
    "<span></span>\n",
    "<h3>\n",
    "<ul>\n",
    "    <li>Vi kan dock typecasta till <span style=\"color:#BB2222\">Integer</span> eller <span style=\"color:#BB2222\">Float</span> om vi vill att användaren ska mata in ett tal vi kan använda i en beräkning:</li>\n",
    "</ul>\n",
    "</h3>"
   ]
  },
  {
   "cell_type": "code",
   "execution_count": 33,
   "metadata": {},
   "outputs": [
    {
     "name": "stdout",
     "output_type": "stream",
     "text": [
      "Mata in ett heltal:\n",
      "5\n",
      "5*2 = 10\n"
     ]
    }
   ],
   "source": [
    "# Be användaren mata in ett heltal\n",
    "print(\"Mata in ett heltal:\")\n",
    "# Typecasta inmatning till Integer\n",
    "a = int(input())\n",
    "# Gör en beräkning\n",
    "b = a * 2\n",
    "# Skriv ut resultatet\n",
    "print(str(a) + \"*2 = \" + str(b))"
   ]
  },
  {
   "cell_type": "markdown",
   "metadata": {},
   "source": [
    "<span></span>\n",
    "<h3>\n",
    "<ul>\n",
    "    <li>Användaren kan dock göra en inmatning som inte är ett korrekt tal, vilket genererar ett felmeddelande när vi försöker typecasta</li>\n",
    "</ul>\n",
    "</h3>"
   ]
  },
  {
   "cell_type": "code",
   "execution_count": 34,
   "metadata": {},
   "outputs": [
    {
     "name": "stdout",
     "output_type": "stream",
     "text": [
      "Mata in ett heltal:\n",
      "5a\n"
     ]
    },
    {
     "ename": "ValueError",
     "evalue": "invalid literal for int() with base 10: '5a'",
     "output_type": "error",
     "traceback": [
      "\u001b[0;31m---------------------------------------------------------------------------\u001b[0m",
      "\u001b[0;31mValueError\u001b[0m                                Traceback (most recent call last)",
      "\u001b[0;32m<ipython-input-34-047619129499>\u001b[0m in \u001b[0;36m<module>\u001b[0;34m\u001b[0m\n\u001b[1;32m      2\u001b[0m \u001b[0mprint\u001b[0m\u001b[0;34m(\u001b[0m\u001b[0;34m\"Mata in ett heltal:\"\u001b[0m\u001b[0;34m)\u001b[0m\u001b[0;34m\u001b[0m\u001b[0;34m\u001b[0m\u001b[0m\n\u001b[1;32m      3\u001b[0m \u001b[0;31m# Typecasting ger fel om inmatningen inte är korrekt\u001b[0m\u001b[0;34m\u001b[0m\u001b[0;34m\u001b[0m\u001b[0;34m\u001b[0m\u001b[0m\n\u001b[0;32m----> 4\u001b[0;31m \u001b[0ma\u001b[0m \u001b[0;34m=\u001b[0m \u001b[0mint\u001b[0m\u001b[0;34m(\u001b[0m\u001b[0minput\u001b[0m\u001b[0;34m(\u001b[0m\u001b[0;34m)\u001b[0m\u001b[0;34m)\u001b[0m\u001b[0;34m\u001b[0m\u001b[0;34m\u001b[0m\u001b[0m\n\u001b[0m",
      "\u001b[0;31mValueError\u001b[0m: invalid literal for int() with base 10: '5a'"
     ]
    }
   ],
   "source": [
    "# Be användaren mata in ett heltal\n",
    "print(\"Mata in ett heltal:\")\n",
    "# Typecasting ger fel om inmatningen inte är korrekt\n",
    "a = int(input())"
   ]
  },
  {
   "cell_type": "markdown",
   "metadata": {},
   "source": [
    "<span></span>\n",
    "<h1>Boolean</h1>\n",
    "<h3>\n",
    "<ul>\n",
    "    <li><span style=\"color:#BB2222\">Integer</span>, <span style=\"color:#BB2222\">Float</span> och <span style=\"color:#BB2222\">String</span> är olika datatyper</li>\n",
    "    <li>En datatyp anger vilka värden som är tillåtna för en variabel: heltal, decimaltal eller textsträngar</li>\n",
    "    <li>Det finns ytterligare en datatyp vi inte har nämnt: <span style=\"color:#BB2222\">Boolean</span></li>\n",
    "    <li>En variabel av typen <span style=\"color:#BB2222\">Boolean</span> kan bara anta två värden: <span style=\"color:blue\">True</span> eller <span style=\"color:blue\">False</span></li>\n",
    "    <li><span style=\"color:#BB2222\">Boolean</span> har trots detta viktiga användningsområden inom programmering vilket vi återkommer till senare i kursen</li>\n",
    "</ul>\n",
    "</h3>"
   ]
  },
  {
   "cell_type": "code",
   "execution_count": 35,
   "metadata": {},
   "outputs": [
    {
     "name": "stdout",
     "output_type": "stream",
     "text": [
      "Variabeln ok har värdet True och typen <class 'bool'>\n"
     ]
    }
   ],
   "source": [
    "# Definiera en boolean\n",
    "ok = True\n",
    "print(\"Variabeln ok har värdet \" + str(ok) + \" och typen \" + str(type(ok)))"
   ]
  },
  {
   "cell_type": "markdown",
   "metadata": {},
   "source": [
    "<span></span>\n",
    "<h1>Räknare</h1>\n",
    "<h3>\n",
    "<ul>\n",
    "    <li>Ofta har vi variabler som agerar räknare och som vi måste öka/minska med ett konstant värde</li>\n",
    "    <li>Detta kan göras på lite olika sätt i Python:</li>\n",
    "</ul>\n",
    "</h3>"
   ]
  },
  {
   "cell_type": "code",
   "execution_count": 36,
   "metadata": {},
   "outputs": [
    {
     "name": "stdout",
     "output_type": "stream",
     "text": [
      "cnt = 2\n",
      "cnt = 3\n",
      "cnt = 2\n",
      "cnt = 4\n",
      "cnt = 2.0\n"
     ]
    }
   ],
   "source": [
    "# Definiera en räknare\n",
    "cnt = 1\n",
    "# Öka med 1\n",
    "cnt = cnt + 1\n",
    "print(\"cnt = \" + str(cnt))\n",
    "# Detta kan förkortas som\n",
    "cnt += 1\n",
    "print(\"cnt = \" + str(cnt))\n",
    "\n",
    "# Vi kan använda motsvarande om vi vill minska räknaren \n",
    "cnt -= 1\n",
    "print(\"cnt = \" + str(cnt))\n",
    "\n",
    "# Fungerar även med multiplikation och division\n",
    "cnt *= 2\n",
    "print(\"cnt = \" + str(cnt))\n",
    "cnt /= 2\n",
    "print(\"cnt = \" + str(cnt))\n",
    "\n",
    "# Observera att division alltid ger ett resultat av typen float"
   ]
  },
  {
   "cell_type": "markdown",
   "metadata": {},
   "source": [
    "<span></span>\n",
    "<h1>Praktiska exempel</h1>"
   ]
  },
  {
   "cell_type": "markdown",
   "metadata": {},
   "source": [
    "<span></span>\n",
    "<h3>Konvertering från Celcius till Fahrenheit</h3>"
   ]
  },
  {
   "cell_type": "code",
   "execution_count": 37,
   "metadata": {},
   "outputs": [
    {
     "name": "stdout",
     "output_type": "stream",
     "text": [
      "Celcius till Fahrenheit konverterare\n",
      "\n",
      "Ange en temperatur i grader Celcius:\n",
      "22.7\n",
      "22.7 °C = 72.86 °F\n"
     ]
    }
   ],
   "source": [
    "# Be användaren mata in en temperatur i Celcius\n",
    "print(\"Celcius till Fahrenheit konverterare\\n\")\n",
    "print(\"Ange en temperatur i grader Celcius:\")\n",
    "degC = float(input())\n",
    "\n",
    "# Konvertera till Fahrenheit\n",
    "degF = degC * 1.8 + 32\n",
    "\n",
    "# Skriv ut resultatet\n",
    "print(degC, \"°C =\", degF, \"°F\")"
   ]
  },
  {
   "cell_type": "markdown",
   "metadata": {},
   "source": [
    "<span></span>\n",
    "<h3>Valutaomvandlare</h3>"
   ]
  },
  {
   "cell_type": "code",
   "execution_count": 38,
   "metadata": {},
   "outputs": [
    {
     "name": "stdout",
     "output_type": "stream",
     "text": [
      "Valutaomvandlaren\n",
      "\n",
      "Ange summan du vill konvertera (SEK):\n",
      "100\n",
      "\n",
      "För 100 SEK får du:\n",
      "\t9.655 EURO\n",
      "\t11.285 dollar\n"
     ]
    }
   ],
   "source": [
    "print(\"Valutaomvandlaren\\n\")\n",
    "\n",
    "# Definiera valutakurser\n",
    "sekToEuro = 0.09655\n",
    "sekToDollar = 0.11285\n",
    "\n",
    "# Be användaren mata in antal SEK\n",
    "print(\"Ange summan du vill konvertera (SEK):\")\n",
    "sek = int(input())\n",
    "\n",
    "# Räkna om till andra valutor\n",
    "euro = sek * sekToEuro\n",
    "dollar = sek * sekToDollar\n",
    "\n",
    "# Skriv ut summan i andra valutor\n",
    "print(\"\\nFör \" + str(sek) + \" SEK får du:\")\n",
    "print(\"\\t\" + str(euro) + \" EURO\")\n",
    "print(\"\\t\" + str(dollar) + \" dollar\")"
   ]
  },
  {
   "cell_type": "markdown",
   "metadata": {},
   "source": [
    "<h2>Omkrets och area</h2>"
   ]
  },
  {
   "cell_type": "code",
   "execution_count": 39,
   "metadata": {},
   "outputs": [
    {
     "name": "stdout",
     "output_type": "stream",
     "text": [
      "Beräkna omkrets och area på rektangel/kvadrat\n",
      "\n",
      "Ange längden på första sidan (i cm):\n",
      "3.5\n",
      "Ange längden på andra sidan (i cm):\n",
      "7.5\n",
      "\n",
      "Arean är 26.25 cm^2\n",
      "Omkretsen är 22.0 cm\n"
     ]
    }
   ],
   "source": [
    "print(\"Beräkna omkrets och area på rektangel/kvadrat\\n\")\n",
    "\n",
    "# Be användaren mata in längden på sidorna\n",
    "print(\"Ange längden på första sidan (i cm):\")\n",
    "a = float(input())\n",
    "print(\"Ange längden på andra sidan (i cm):\")\n",
    "b = float(input())\n",
    "\n",
    "# Beräkna area och omkrets\n",
    "area = a * b\n",
    "omkrets = a*2 + b*2\n",
    "\n",
    "# Avrunda till två decimaler\n",
    "area = round(area, 2)\n",
    "omkrets = round(omkrets, 2)\n",
    "\n",
    "# Skriv ut resultatet\n",
    "print(\"\\nArean är \" + str(area) + \" cm^2\")\n",
    "print(\"Omkretsen är \" + str(omkrets) + \" cm\")"
   ]
  },
  {
   "cell_type": "code",
   "execution_count": null,
   "metadata": {},
   "outputs": [],
   "source": []
  }
 ],
 "metadata": {
  "kernelspec": {
   "display_name": "Python 3",
   "language": "python",
   "name": "python3"
  },
  "language_info": {
   "codemirror_mode": {
    "name": "ipython",
    "version": 3
   },
   "file_extension": ".py",
   "mimetype": "text/x-python",
   "name": "python",
   "nbconvert_exporter": "python",
   "pygments_lexer": "ipython3",
   "version": "3.7.2"
  }
 },
 "nbformat": 4,
 "nbformat_minor": 2
}
