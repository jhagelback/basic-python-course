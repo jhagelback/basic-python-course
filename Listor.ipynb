{
 "cells": [
  {
   "cell_type": "markdown",
   "metadata": {},
   "source": [
    "<img src=\"gfx/L-Cover.png\" width=\"830\">"
   ]
  },
  {
   "cell_type": "markdown",
   "metadata": {},
   "source": [
    "<span></span>\n",
    "<h1>Listor</h1>\n",
    "<h3>\n",
    "<ul>\n",
    "    <li>Antag att vi vill skapa ett program som sparar 5 tal och beräknar medelvärdet av dessa</li>\n",
    "    <li>Programmet kan se ut så här:</li>\n",
    "</ul>\n",
    "</h3>"
   ]
  },
  {
   "cell_type": "code",
   "execution_count": 1,
   "metadata": {},
   "outputs": [
    {
     "name": "stdout",
     "output_type": "stream",
     "text": [
      "Medelvärdet är 0.57\n"
     ]
    }
   ],
   "source": [
    "# Definiera våra 5 tal\n",
    "n1 = 0.85\n",
    "n2 = 0.43\n",
    "n3 = 0.24\n",
    "n4 = 0.76\n",
    "n5 = 0.56\n",
    "\n",
    "# Beräkna medelvärdet\n",
    "avg = (n1 + n2 + n3 + n4 + n5) / 5\n",
    "\n",
    "# Skriv ut resultatet med två decimaler\n",
    "print(\"Medelvärdet är {0:.2f}\".format(avg))"
   ]
  },
  {
   "cell_type": "markdown",
   "metadata": {},
   "source": [
    "<span></span>\n",
    "<h3>\n",
    "<ul>\n",
    "    <li>Om vi i stället vill spara och beräkna medelvärdet av 25 tal behöver vi lägga till ytterligare 20 variabler</li>\n",
    "    <li>Vi kan använda en for-loop, men då sparas inte varje enskilt värde utan endast summan:</li>\n",
    "</ul>\n",
    "</h3>"
   ]
  },
  {
   "cell_type": "code",
   "execution_count": 2,
   "metadata": {},
   "outputs": [
    {
     "name": "stdout",
     "output_type": "stream",
     "text": [
      "Medelvärdet av 25 tal blev 0.45\n"
     ]
    }
   ],
   "source": [
    "# Importera random-funktionen för slumpmässiga tal\n",
    "from random import random\n",
    "\n",
    "# Summan av talen\n",
    "sum = 0\n",
    "# Räknare för antal tal\n",
    "cnt = 0\n",
    "\n",
    "# Upprepa för 25 tal\n",
    "for n in range(0, 25):\n",
    "    sum += random()\n",
    "    cnt += 1\n",
    "    \n",
    "# Beräkna medelvärdet\n",
    "avg = sum / cnt\n",
    "\n",
    "# Skriv ut resultatet\n",
    "print(\"Medelvärdet av {0} tal blev {1:.2f}\".format(cnt, avg))"
   ]
  },
  {
   "cell_type": "markdown",
   "metadata": {},
   "source": [
    "<span></span>\n",
    "<h3>\n",
    "Vi vill ha:\n",
    "<span></span>\n",
    "<ul>\n",
    "    <li>Ett sätt att spara varje enskilt tal så att vi kan verifiera att våra beräkningar är korrekta</li>\n",
    "    <li>Flexibiliteten att kunna ha godtyckligt antal tal utan att behöva ändra i koden</li>\n",
    "</ul>\n",
    "</h3>"
   ]
  },
  {
   "cell_type": "markdown",
   "metadata": {},
   "source": [
    "<span></span>\n",
    "<h3>\n",
    "<ul>\n",
    "    <li>Detta kan vi lösa med <span style=\"color:#BB2222\">listor</span></li>\n",
    "    <li>Listor är en <span style=\"color:#BB2222\">datastruktur</span> - ett sätt att strukturera data (information) så att den kan bearbetas och lagras på ett effektivt sätt</li>\n",
    "</ul>\n",
    "<span></span>\n",
    "<ul>\n",
    "    <li>Vi har tidigare definierat en variabel som en namngiven behållare för ett värde</li>\n",
    "    <li>En lista är en namngiven behållare för en sekvens av flera värden, till exempel namn:</li>\n",
    "</ul>\n",
    "<img src=\"gfx/list.png\"/>\n",
    "<ul>\n",
    "    <li>När vi definierar en lista anger vi sekvensen av värden separerade med komma-tecken inom hakparenteser:</li>\n",
    "</ul>\n",
    "</h3>"
   ]
  },
  {
   "cell_type": "code",
   "execution_count": 3,
   "metadata": {},
   "outputs": [
    {
     "name": "stdout",
     "output_type": "stream",
     "text": [
      "Listan med tal är:\n",
      "[1, 2, 3, 4, 5, 6, 7, 8, 9, 0]\n"
     ]
    }
   ],
   "source": [
    "# Definiera en lista med heltal\n",
    "numbers = [1, 2, 3, 4, 5, 6, 7, 8, 9, 0]\n",
    "\n",
    "# Skriv ut listan\n",
    "print(\"Listan med tal är:\")\n",
    "print(numbers)"
   ]
  },
  {
   "cell_type": "markdown",
   "metadata": {},
   "source": [
    "<span></span>\n",
    "<h3>\n",
    "<ul>\n",
    "    <li>Om vi vill få tillgång till ett enskilt värde i listan anger vi dess position, kallat <span style=\"color:#BB2222\">index</span>, inom hakparenteser</li>\n",
    "    <li>Listor i Python (och i de flesta andra programspråk) använder <span style=\"color:#BB2222\">zero-indexing</span> - första positionen i listan är 0</li>\n",
    "</ul>\n",
    "</h3>"
   ]
  },
  {
   "cell_type": "code",
   "execution_count": 4,
   "metadata": {
    "scrolled": true
   },
   "outputs": [
    {
     "name": "stdout",
     "output_type": "stream",
     "text": [
      "Första talet är 1\n",
      "Fjärde talet är 4\n"
     ]
    }
   ],
   "source": [
    "# Skriv ut det första och fjärde talet i listan\n",
    "print(\"Första talet är\", numbers[0])\n",
    "print(\"Fjärde talet är\", numbers[3])"
   ]
  },
  {
   "cell_type": "markdown",
   "metadata": {},
   "source": [
    "<span></span>\n",
    "<h3>\n",
    "<ul>\n",
    "    <li>Vi kan också ange ett negativt index</li>\n",
    "    <li>Då beräknas i stället positionen baklänges från sista elementet i listan</li>\n",
    "</ul>\n",
    "</h3>"
   ]
  },
  {
   "cell_type": "code",
   "execution_count": 5,
   "metadata": {},
   "outputs": [
    {
     "name": "stdout",
     "output_type": "stream",
     "text": [
      "Sista talet är 0\n",
      "Tredje sista talet är 8\n"
     ]
    }
   ],
   "source": [
    "# Skriv ut sista och tredje sista talet i listan\n",
    "print(\"Sista talet är\", numbers[-1])\n",
    "print(\"Tredje sista talet är\", numbers[-3])"
   ]
  },
  {
   "cell_type": "markdown",
   "metadata": {},
   "source": [
    "<span></span>\n",
    "<h3>\n",
    "<ul>\n",
    "    <li>Nedan illustreras strukturen på vår lista</li>\n",
    "    <li>Namnet på listan pekar på en sekvens av element</li>\n",
    "    <li>Varje element har ett värde</li>\n",
    "    <li>Elementen kan indexeras från vänster till höger med 0 och uppåt (grön färg)</li>\n",
    "    <li>Elementen kan också indexeras från höger till vänster (baklänges) med -1 och neråt (röd färg)</li>\n",
    "</ul>\n",
    "<img src=\"gfx/indexing.png\"/>\n",
    "</h3>"
   ]
  },
  {
   "cell_type": "markdown",
   "metadata": {},
   "source": [
    "<span></span>\n",
    "<h3>\n",
    "<ul>\n",
    "    <li>Om vi anger ett index som ligger utanför listans storlek får vi ett felmeddelande:</li>\n",
    "</ul>\n",
    "</h3>"
   ]
  },
  {
   "cell_type": "code",
   "execution_count": 6,
   "metadata": {},
   "outputs": [
    {
     "ename": "IndexError",
     "evalue": "list index out of range",
     "output_type": "error",
     "traceback": [
      "\u001b[0;31m---------------------------------------------------------------------------\u001b[0m",
      "\u001b[0;31mIndexError\u001b[0m                                Traceback (most recent call last)",
      "\u001b[0;32m<ipython-input-6-3996d91a98f3>\u001b[0m in \u001b[0;36m<module>\u001b[0;34m\u001b[0m\n\u001b[1;32m      1\u001b[0m \u001b[0;31m# Detta ger felmeddelande\u001b[0m\u001b[0;34m\u001b[0m\u001b[0;34m\u001b[0m\u001b[0;34m\u001b[0m\u001b[0m\n\u001b[0;32m----> 2\u001b[0;31m \u001b[0mnumbers\u001b[0m\u001b[0;34m[\u001b[0m\u001b[0;36m42\u001b[0m\u001b[0;34m]\u001b[0m\u001b[0;34m\u001b[0m\u001b[0;34m\u001b[0m\u001b[0m\n\u001b[0m",
      "\u001b[0;31mIndexError\u001b[0m: list index out of range"
     ]
    }
   ],
   "source": [
    "# Detta ger felmeddelande\n",
    "numbers[42]"
   ]
  },
  {
   "cell_type": "markdown",
   "metadata": {},
   "source": [
    "<span></span>\n",
    "<h3>\n",
    "<ul>\n",
    "    <li>Om vi vill skriva ut alla talen i listan kan vi använda en for-loop:</li>\n",
    "</ul>\n",
    "</h3>"
   ]
  },
  {
   "cell_type": "code",
   "execution_count": 7,
   "metadata": {},
   "outputs": [
    {
     "name": "stdout",
     "output_type": "stream",
     "text": [
      "1 2 3 4 5 6 7 8 9 0 "
     ]
    }
   ],
   "source": [
    "# Skriv ut alla talen i listan\n",
    "for n in numbers:\n",
    "    print(n, end=\" \")"
   ]
  },
  {
   "cell_type": "markdown",
   "metadata": {},
   "source": [
    "<span></span>\n",
    "<h3>\n",
    "<ul>\n",
    "    <li>Vi kan också skriva ut listan i omvänd ordning</li>\n",
    "    <li>Här behöver vi använda funktionen <span style=\"color:blue\">len()</span> som returnerar längden (antalet element) på en lista</li>\n",
    "</ul>\n",
    "</h3>"
   ]
  },
  {
   "cell_type": "code",
   "execution_count": 8,
   "metadata": {},
   "outputs": [
    {
     "name": "stdout",
     "output_type": "stream",
     "text": [
      "0 9 8 7 6 5 4 3 2 1 "
     ]
    }
   ],
   "source": [
    "# Skriv ut listan i omvänd ordning\n",
    "for i in range(1, len(numbers) + 1):\n",
    "    print(numbers[-i], end=\" \")"
   ]
  },
  {
   "cell_type": "markdown",
   "metadata": {},
   "source": [
    "<span></span>\n",
    "<h3>\n",
    "<ul>\n",
    "    <li>Python har dock en inbyggd funktion, <span style=\"color:blue\">reversed()</span>,  för att gå igenom en lista i omvänd ordning:</li>\n",
    "</ul>\n",
    "</h3>"
   ]
  },
  {
   "cell_type": "code",
   "execution_count": 9,
   "metadata": {},
   "outputs": [
    {
     "name": "stdout",
     "output_type": "stream",
     "text": [
      "0 9 8 7 6 5 4 3 2 1 "
     ]
    }
   ],
   "source": [
    "# Skriv ut listan i omvänd ordning\n",
    "for n in reversed(numbers):\n",
    "    print(n, end=\" \")"
   ]
  },
  {
   "cell_type": "markdown",
   "metadata": {},
   "source": [
    "<span></span>\n",
    "<h3>\n",
    "<ul>\n",
    "    <li>Vi kan ta bort element i en lista med kommandot <span style=\"color:blue\">del</span>:</li>\n",
    "</ul>\n",
    "</h3>"
   ]
  },
  {
   "cell_type": "code",
   "execution_count": 10,
   "metadata": {},
   "outputs": [
    {
     "name": "stdout",
     "output_type": "stream",
     "text": [
      "[1, 2, 3, 4, 5, 6, 7, 8, 9, 0]\n",
      "[1, 2, 3, 5, 6, 7, 8, 9, 0]\n"
     ]
    }
   ],
   "source": [
    "# Definiera en lista med heltal\n",
    "numbers = [1, 2, 3, 4, 5, 6, 7, 8, 9, 0]\n",
    "\n",
    "# Skriv ut listan\n",
    "print(numbers)\n",
    "\n",
    "# Ta bort talet på plats 3\n",
    "del numbers[3]\n",
    "\n",
    "# Skriv ut listan\n",
    "print(numbers)"
   ]
  },
  {
   "cell_type": "markdown",
   "metadata": {},
   "source": [
    "<span></span>\n",
    "<h3>\n",
    "<ul>\n",
    "    <li>Till skillnad från många andra programspråk kan man ha listor med värden av olika typ i Python:</li>\n",
    "</ul>\n",
    "</h3>"
   ]
  },
  {
   "cell_type": "code",
   "execution_count": 11,
   "metadata": {},
   "outputs": [
    {
     "name": "stdout",
     "output_type": "stream",
     "text": [
      "Äpplen \n",
      " <class 'str'>\n",
      "10 \n",
      " <class 'int'>\n",
      "17.95 \n",
      " <class 'float'>\n",
      "Bananer \n",
      " <class 'str'>\n",
      "5 \n",
      " <class 'int'>\n",
      "19.95 \n",
      " <class 'float'>\n"
     ]
    }
   ],
   "source": [
    "# Definiera en lista med värden av olika typ\n",
    "items = [\"Äpplen\", 10, 17.95, \"Bananer\", 5, 19.95]\n",
    "\n",
    "# Skriv ut listan\n",
    "for n in items:\n",
    "    print(n, \"\\n\", type(n))"
   ]
  },
  {
   "cell_type": "markdown",
   "metadata": {},
   "source": [
    "<span></span>\n",
    "<h3>\n",
    "<ul>\n",
    "    <li>Det finns olika sätt att definiera och lägga till värden i en lista:</li>\n",
    "</ul>\n",
    "</h3>"
   ]
  },
  {
   "cell_type": "code",
   "execution_count": 12,
   "metadata": {},
   "outputs": [
    {
     "name": "stdout",
     "output_type": "stream",
     "text": [
      "[3, 6, 12]\n",
      "[3, 6, 12, 24, 48, 96]\n",
      "[3, 6, 12, 24, 48, 96, 3, 6, 12, 24, 48, 96]\n"
     ]
    }
   ],
   "source": [
    "# Skapa en tom lista\n",
    "l = []\n",
    "\n",
    "# Lägg till värden i listan\n",
    "l.append(3)\n",
    "l.append(6)\n",
    "l += [13]\n",
    "\n",
    "# Ändra ett värde\n",
    "l[2] = 12\n",
    "\n",
    "# Skriv ut listan\n",
    "print(l)\n",
    "\n",
    "# Skapa en ny lista med värden\n",
    "m = [24, 48, 96]\n",
    "\n",
    "# Kombinera ihop listorna\n",
    "n = l + m\n",
    "\n",
    "# Skriv ut nya listan\n",
    "print(n)\n",
    "\n",
    "# Duplicera listan\n",
    "n *= 2\n",
    "\n",
    "# Skriv ut listan\n",
    "print(n)"
   ]
  },
  {
   "cell_type": "markdown",
   "metadata": {},
   "source": [
    "<span></span>\n",
    "<h3>\n",
    "<ul>\n",
    "    <li>Vi kan också enkelt kontrollera om ett värde finns i en lista med <span style=\"color:blue\">in</span>:</li>\n",
    "</ul>\n",
    "</h3>"
   ]
  },
  {
   "cell_type": "code",
   "execution_count": 13,
   "metadata": {},
   "outputs": [
    {
     "name": "stdout",
     "output_type": "stream",
     "text": [
      "2 finns inte i listan\n",
      "6 finns i listan\n",
      "8 finns inte i listan\n"
     ]
    }
   ],
   "source": [
    "# Definiera en funktion som kontrollerar om ett tal finns i listan\n",
    "def check(i):\n",
    "    if i in n:\n",
    "        print(i, \"finns i listan\")\n",
    "    if i not in n:\n",
    "        print(i, \"finns inte i listan\")\n",
    "        \n",
    "# Kontrollera värden\n",
    "check(2)\n",
    "check(6)\n",
    "check(8)"
   ]
  },
  {
   "cell_type": "markdown",
   "metadata": {},
   "source": [
    "<span></span>\n",
    "<h1>Medelvärde</h1>\n",
    "<h3>\n",
    "<ul>\n",
    "    <li>Vi ska återgå till problemet med att spara och beräkna medelvärde av ett antal tal</li>\n",
    "    <li>Först skapar vi en tom lista som vi fyller med 25 slumpmässiga tal</li>\n",
    "    <li>Vi ska sedan skriva ut listan med två decimalers noggrannhet</li>\n",
    "</ul>\n",
    "</h3>"
   ]
  },
  {
   "cell_type": "code",
   "execution_count": 14,
   "metadata": {},
   "outputs": [
    {
     "name": "stdout",
     "output_type": "stream",
     "text": [
      "0.36 0.92 0.01 0.89 0.37 0.69 0.95 0.98 0.50 0.07 0.96 0.53 0.22 0.15 0.18 0.56 0.87 0.94 0.18 0.47 0.78 0.13 0.91 0.25 0.53 "
     ]
    }
   ],
   "source": [
    "# Importera random-funktionen\n",
    "from random import random\n",
    "\n",
    "# Definiera en tom lista\n",
    "l = []\n",
    "\n",
    "# Fyll listan med 25 tal\n",
    "for i in range(0, 25):\n",
    "    rnd = random()\n",
    "    l.append(rnd)\n",
    "    \n",
    "# Skriv ut listan\n",
    "for n in l:\n",
    "    print(\"{0:.2f}\".format(n), end=\" \")"
   ]
  },
  {
   "cell_type": "markdown",
   "metadata": {},
   "source": [
    "<span></span>\n",
    "<h3>\n",
    "<ul>\n",
    "    <li>Nästa steg är att beräkna medelvärdet</li>\n",
    "    <li>Detta görs enklast i en for-loop:</li>\n",
    "</ul>\n",
    "</h3>"
   ]
  },
  {
   "cell_type": "code",
   "execution_count": 15,
   "metadata": {},
   "outputs": [
    {
     "name": "stdout",
     "output_type": "stream",
     "text": [
      "Medelvärdet är 0.54\n"
     ]
    }
   ],
   "source": [
    "# Summan av talen\n",
    "sum = 0\n",
    "\n",
    "# Beräkna summan\n",
    "for n in l:\n",
    "    sum += n\n",
    "\n",
    "# Beräkna medelvärdet\n",
    "avg = sum / len(l)\n",
    "\n",
    "# Skriv ut resultatet\n",
    "print(\"Medelvärdet är {0:.2f}\".format(avg))"
   ]
  },
  {
   "cell_type": "markdown",
   "metadata": {},
   "source": [
    "<span></span>\n",
    "<h3>\n",
    "<ul>\n",
    "    <li>I Python kan vi använda modulen <span style=\"color:#BB2222\">matplotlib</span> för att rita grafer och diagram</li>\n",
    "    <li>Vi kan till exempel visualisera vår lista med slumptal i en graf:</li>\n",
    "</ul>\n",
    "</h3>"
   ]
  },
  {
   "cell_type": "code",
   "execution_count": 16,
   "metadata": {},
   "outputs": [
    {
     "data": {
      "image/png": "[encoded data removed]",
      "text/plain": [
       "<Figure size 432x288 with 1 Axes>"
      ]
     },
     "metadata": {
      "needs_background": "light"
     },
     "output_type": "display_data"
    }
   ],
   "source": [
    "# Kan behövas i vissa utvecklingsmiljöer\n",
    "%matplotlib inline\n",
    "\n",
    "# Importera plot-funktionen och tilldela den namnet plt\n",
    "import matplotlib.pyplot as plt\n",
    "\n",
    "# Skapa linjediagram från våra lista med slumptal\n",
    "plt.plot(l)\n",
    "# Sätt titel på y-axeln till Slumptal\n",
    "plt.ylabel(\"Slumptal\")\n",
    "# Visa grafen\n",
    "plt.show()"
   ]
  },
  {
   "cell_type": "markdown",
   "metadata": {},
   "source": [
    "<span></span>\n",
    "<h1>Fördelning</h1>\n",
    "<h3>\n",
    "<ul>\n",
    "    <li>Vi kan också undersöka hur våra slumptal är fördelade</li>\n",
    "    <li>Detta kan vi göra genom att skapa en ny lista där vi räknar antal förekomster av tal mellan 0.0 och 0.1, mellan 0.1 och 0.2 och upp till mellan 0.9 och 1.0</li>\n",
    "    <li>Vi får då en frekvenstabell med 10 platser</li>\n",
    "    <li>Vi behöver generera mer än 25 slumptal för att bättre kunna se fördelningen (annars är påverkan av slumpen alltför stor)</li>\n",
    "</ul>\n",
    "</h3>"
   ]
  },
  {
   "cell_type": "code",
   "execution_count": 17,
   "metadata": {},
   "outputs": [
    {
     "name": "stdout",
     "output_type": "stream",
     "text": [
      "[1036, 961, 1030, 1014, 942, 960, 1054, 1012, 971, 1020]\n"
     ]
    }
   ],
   "source": [
    "# Definiera frekvenstabell\n",
    "dist = [0, 0, 0, 0, 0, 0, 0, 0, 0, 0]\n",
    "\n",
    "# Skapa en ny lista med fler tal för att bättre se fördelningen\n",
    "l = []\n",
    "for i in range(0, 10000):\n",
    "    rnd = random()\n",
    "    l.append(rnd)\n",
    "\n",
    "# Iterera över listan med tal\n",
    "for n in l:\n",
    "    # För att få ett index mellan 0 och 9 multiplicerar vi varje tal med 10 och tar heltalsdelen\n",
    "    # Alla slumptal är mellan 0.0 <= n < 1.0 \n",
    "    i = int(n * 10)\n",
    "    # Öka räknaren på plats i med 1\n",
    "    dist[i] += 1\n",
    "    \n",
    "# Skriv ut frekvenstabellen\n",
    "print(dist)"
   ]
  },
  {
   "cell_type": "markdown",
   "metadata": {},
   "source": [
    "<span></span>\n",
    "<h3>\n",
    "<ul>\n",
    "    <li>Vi kan därefter visualisera frekvenstabellen i ett stapeldiagram:</li>\n",
    "</ul>\n",
    "</h3>"
   ]
  },
  {
   "cell_type": "code",
   "execution_count": 18,
   "metadata": {},
   "outputs": [
    {
     "data": {
      "image/png": "[encoded data removed]",
      "text/plain": [
       "<Figure size 432x288 with 1 Axes>"
      ]
     },
     "metadata": {
      "needs_background": "light"
     },
     "output_type": "display_data"
    }
   ],
   "source": [
    "# Kan behövas i vissa utvecklingsmiljöer\n",
    "%matplotlib inline\n",
    "\n",
    "# Importera plot-funktionen och tilldela den namnet plt\n",
    "import matplotlib.pyplot as plt\n",
    "\n",
    "# Namn på staplarna\n",
    "bars = [\"0.0\", \"0.1\", \"0.2\", \"0.3\", \"0.4\", \"0.5\", \"0.6\", \"0.7\", \"0.8\", \"0.9\"]\n",
    "# Skapa stapeldiagram från våra lista med slumptal\n",
    "plt.bar(bars, dist)\n",
    "# Sätt titel på y-axeln\n",
    "plt.ylabel(\"Antal förekomster\")\n",
    "# Visa grafen\n",
    "plt.show()"
   ]
  },
  {
   "cell_type": "markdown",
   "metadata": {},
   "source": [
    "<span></span>\n",
    "<h3>\n",
    "<ul>\n",
    "    <li>Våra slumpmässiga tal ser ut att vara likformigt fördelade</li>\n",
    "    <li>Python har en annan funktion som genererar normalfördelade slumptal (kallas ibland för Gaussfördelning)</li>\n",
    "    <li>Vi kan generera en ny lista med slumptal som följer normalfördelningen och sedan visualisera fördelningen på motsvarande sätt:</li>\n",
    "</ul>\n",
    "</h3>"
   ]
  },
  {
   "cell_type": "code",
   "execution_count": 19,
   "metadata": {},
   "outputs": [
    {
     "name": "stdout",
     "output_type": "stream",
     "text": [
      "[0, 13, 204, 1400, 3366, 3438, 1365, 198, 15, 1]\n"
     ]
    }
   ],
   "source": [
    "from random import gauss\n",
    "\n",
    "# Definiera frekvenstabell\n",
    "dist = [0, 0, 0, 0, 0, 0, 0, 0, 0, 0]\n",
    "\n",
    "# Skapa en ny lista med fler tal för att bättre se fördelningen\n",
    "# Definiera en tom lista\n",
    "l = []\n",
    "# Fyll listan med 10000 tal\n",
    "for i in range(0, 10000):\n",
    "    # Normalfödelade slumptal är mellan -0.5 och 0.5, så addera 0.5 för att\n",
    "    # hamna mellan 0 och 1\n",
    "    rnd = gauss(0, 0.1) + 0.5\n",
    "    l.append(rnd)\n",
    "\n",
    "# Iterera över listan med tal\n",
    "for n in l:\n",
    "    # För att få index 0 till 9 multiplicerar vi varje tal med 10 och tar heltalsdelen\n",
    "    i = int(n * 10)\n",
    "    # Öka räknaren på plats i med 1\n",
    "    dist[i] += 1\n",
    "    \n",
    "# Skriv ut frekvenstabell\n",
    "print(dist)"
   ]
  },
  {
   "cell_type": "code",
   "execution_count": 20,
   "metadata": {},
   "outputs": [
    {
     "data": {
      "image/png": "[encoded data removed]",
      "text/plain": [
       "<Figure size 432x288 with 1 Axes>"
      ]
     },
     "metadata": {
      "needs_background": "light"
     },
     "output_type": "display_data"
    }
   ],
   "source": [
    "# Kan behövas i vissa utvecklingsmiljöer\n",
    "%matplotlib inline\n",
    "\n",
    "# Importera plot-funktionen och tilldela den namnet plt\n",
    "import matplotlib.pyplot as plt\n",
    "\n",
    "# Namn på staplarna\n",
    "bars = [\"0.0\", \"0.1\", \"0.2\", \"0.3\", \"0.4\", \"0.5\", \"0.6\", \"0.7\", \"0.8\", \"0.9\"]\n",
    "# Skapa stapeldiagram från våra lista med slumptal\n",
    "plt.bar(bars, dist)\n",
    "# Visa grafen\n",
    "plt.show()"
   ]
  },
  {
   "cell_type": "markdown",
   "metadata": {},
   "source": [
    "<span></span>\n",
    "<h3>\n",
    "<ul>\n",
    "    <li>Våra slumptal ser nu ut att vara normalfördelade</li>\n",
    "</ul>\n",
    "</h3>"
   ]
  },
  {
   "cell_type": "markdown",
   "metadata": {},
   "source": [
    "<span></span>\n",
    "<h1>Matematiska funktioner</h1>\n",
    "<h3>\n",
    "<ul>\n",
    "    <li>I nästa exempel ska vi generera värden från en matematisk funktion</li>\n",
    "    <li>Värdena ska sedan visualiseras i en graf</li>\n",
    "</ul>\n",
    "</h3>"
   ]
  },
  {
   "cell_type": "code",
   "execution_count": 21,
   "metadata": {},
   "outputs": [],
   "source": [
    "# Importera sinus och cosinus funktionerna från math\n",
    "from math import sin, cos\n",
    "\n",
    "# Definiera en tom lista för sinus och en för cosinus\n",
    "s = []\n",
    "c = []\n",
    "\n",
    "# Fyll listorna med tal från 0 till 2*PI\n",
    "# Vi ökar x-värdet med 0.1 för varje steg, så range blir mellan 0 och cirka 63 (2*PI*10)\n",
    "for i in range(0, 63):\n",
    "    s.append(sin(i / 10))\n",
    "    c.append(cos(i / 10))"
   ]
  },
  {
   "cell_type": "code",
   "execution_count": 22,
   "metadata": {},
   "outputs": [
    {
     "data": {
      "image/png": "[encoded data removed]",
      "text/plain": [
       "<Figure size 432x288 with 1 Axes>"
      ]
     },
     "metadata": {
      "needs_background": "light"
     },
     "output_type": "display_data"
    }
   ],
   "source": [
    "# Kan behövas i vissa utvecklingsmiljöer\n",
    "%matplotlib inline\n",
    "\n",
    "# Importera plot-funktionen och tilldela den namnet plt\n",
    "import matplotlib.pyplot as plt\n",
    "\n",
    "# Skapa linjediagram från listorna med sinus och cosinus värden\n",
    "plt.plot(s, label=\"sin(x)\")\n",
    "plt.plot(c, label=\"cos(x)\")\n",
    "# Sätt titel på axlarna\n",
    "plt.ylabel(\"y\")\n",
    "plt.xlabel(\"x\")\n",
    "# Visa förklaring (labels)\n",
    "plt.legend()\n",
    "# Visa grafen\n",
    "plt.show()"
   ]
  },
  {
   "cell_type": "markdown",
   "metadata": {},
   "source": [
    "<span></span>\n",
    "<h3>\n",
    "<ul>\n",
    "    <li>Vi kan ändra färg på linjerna eller använda symboler i stället för heldragen linje</li>\n",
    "    <li>Vi skickar då in en sträng-parameter som först anger färg och sedan form enligt följande struktur:</li>\n",
    "</ul>\n",
    "\n",
    "<table>\n",
    "    <thead>\n",
    "        <tr>\n",
    "            <th style=\"text-align:center\"><h2>Färg</h2></th><th style=\"text-align:left\"><h2>Betydelse</h2></th><th style=\"text-align:center\"><h2>Form</h2></th><th style=\"text-align:left\"><h2>Betydelse</h2></th>\n",
    "        </tr>\n",
    "    </thead>\n",
    "    <tbody>\n",
    "        <tr><td style=\"text-align:center\"><h3>r</h3></td><td style=\"text-align:left\"><h3>Röd</h3></td><td style=\"text-align:center\"><h3>o</h3></td><td style=\"text-align:left\"><h3>Cirkel</h3></td></tr>\n",
    "        <tr><td style=\"text-align:center\"><h3>g</h3></td><td style=\"text-align:left\"><h3>Grön</h3></td><td style=\"text-align:center\"><h3>s</h3></td><td style=\"text-align:left\"><h3>Kvadrat</h3></td></tr>\n",
    "        <tr><td style=\"text-align:center\"><h3>b</h3></td><td style=\"text-align:left\"><h3>Blå</h3></td><td style=\"text-align:center\"><h3>^</h3></td><td style=\"text-align:left\"><h3>Triangel</h3></td></tr>\n",
    "        <tr><td style=\"text-align:center\"><h3>y</h3></td><td style=\"text-align:left\"><h3>Gul</h3></td><td style=\"text-align:center\"><h3>-</h3></td><td style=\"text-align:left\"><h3>Heldragen linje</h3></td></tr>\n",
    "        <tr><td style=\"text-align:center\"><h3>m</h3></td><td style=\"text-align:left\"><h3>Lila</h3></td><td style=\"text-align:center\"><h3>--</h3></td><td style=\"text-align:left\"><h3>Streckad linje</h3></td></tr>\n",
    "    </tbody>\n",
    "</table>\n",
    "\n",
    "</h3>"
   ]
  },
  {
   "cell_type": "code",
   "execution_count": 23,
   "metadata": {},
   "outputs": [
    {
     "data": {
      "image/png": "[encoded data removed]",
      "text/plain": [
       "<Figure size 432x288 with 1 Axes>"
      ]
     },
     "metadata": {
      "needs_background": "light"
     },
     "output_type": "display_data"
    }
   ],
   "source": [
    "# Kan behövas i vissa utvecklingsmiljöer\n",
    "%matplotlib inline\n",
    "\n",
    "# Importera plot-funktionen och tilldela den namnet plt\n",
    "import matplotlib.pyplot as plt\n",
    "\n",
    "# Skapa linjediagram från listorna med sinus och cosinus värden\n",
    "plt.plot(s, \"b-\", label=\"sin(x)\")\n",
    "plt.plot(c, \"r--\", label=\"cos(x)\")\n",
    "# Sätt titel på axlarna\n",
    "plt.ylabel(\"y\")\n",
    "plt.xlabel(\"x\")\n",
    "# Visa förklaring (labels)\n",
    "plt.legend()\n",
    "# Visa grafen\n",
    "plt.show()"
   ]
  },
  {
   "cell_type": "markdown",
   "metadata": {},
   "source": [
    "<span></span>\n",
    "<h1>Cirkeldiagram</h1>\n",
    "<h3>\n",
    "<ul>\n",
    "    <li>Vi kan också skapa cirkeldiagram (tårtdiagram) med <span style=\"color:#BB2222\">matplotlib</span></li>\n",
    "    <li>Som exempel ska vi visualisera antalet biobesök olika personer gör på en månad</li>\n",
    "</ul>\n",
    "</h3>"
   ]
  },
  {
   "cell_type": "code",
   "execution_count": 24,
   "metadata": {},
   "outputs": [
    {
     "data": {
      "image/png": "[encoded data removed]",
      "text/plain": [
       "<Figure size 432x288 with 1 Axes>"
      ]
     },
     "metadata": {},
     "output_type": "display_data"
    }
   ],
   "source": [
    "# Kan behövas i vissa utvecklingsmiljöer\n",
    "%matplotlib inline\n",
    "\n",
    "# Skapa data och labels\n",
    "no = [\"0 besök\", \"1 besök\", \"2 besök\", \"3 besök\", \"4 besök\", \"5 besök\"]\n",
    "freq = [5, 3, 4, 2, 5, 1]\n",
    "\n",
    "# Importera plot-funktionen och tilldela den namnet plt\n",
    "import matplotlib.pyplot as plt\n",
    "\n",
    "# Skapa cirkeldiagram från listorna med frekvens och labels\n",
    "# autopct anger att procentandel ska visas (.0f anger antal decimaler)\n",
    "plt.pie(freq, labels=no, autopct='%1.0f%%')\n",
    "# Sätt axlarna till samma storlek så att cirkeln blir rund \n",
    "plt.axis('equal')\n",
    "# Visa grafen\n",
    "plt.show()"
   ]
  },
  {
   "cell_type": "markdown",
   "metadata": {},
   "source": [
    "<span></span>\n",
    "<h1>Slicing</h1>\n",
    "<h3>\n",
    "<ul>\n",
    "    <li>Om vi vill göra en ny lista som utgörs av en del av en större lista använder vi <span style=\"color:#BB2222\">slicing</span></li>\n",
    "    <li>Slicing är ett uttryck av formen:</li>\n",
    "</ul>\n",
    "<img src=\"gfx/slicing.png\">\n",
    "<ul>\n",
    "    <li><span style=\"color:#BB2222\">lista</span>\n",
    "        <ul>\n",
    "            <li>Namnet på listan vi vill plocka ut en delsekvens av</li>\n",
    "        </ul>\n",
    "    </li>\n",
    "    <li><span style=\"color:#BB2222\">start</span>\n",
    "        <ul>\n",
    "            <li>Index där vi vill börja delsekvensen</li>\n",
    "            <li>Om inget anges antas att start är 0</li>\n",
    "        </ul>\n",
    "    </li>\n",
    "    <li><span style=\"color:#BB2222\">slut</span>\n",
    "        <ul>\n",
    "            <li>Index där vi vill sluta delsekvensen</li>\n",
    "            <li>Om inget anges antas att slut är sista elementet i listan</li>\n",
    "        </ul>\n",
    "    </li>\n",
    "    <li><span style=\"color:#BB2222\">steg</span>\n",
    "        <ul>\n",
    "            <li>Anger antal steg mellan varje värde vi plockar ut, till exempel varannat (2) eller var tredje (3) steg</li>\n",
    "            <li>Default-värde är 1 (varje värde)</li>\n",
    "            <li>Negativa stegvärden går igenom listan bakvänt</li>\n",
    "        </ul>\n",
    "    </li>\n",
    "</ul>\n",
    "<span></span>\n",
    "<ul>\n",
    "    <li>Observera att slicing skapar en ny lista</li>\n",
    "    <li>Original-listan ändras inte</li>\n",
    "</ul>\n",
    "<span></span>\n",
    "<ul>\n",
    "    <li>Nedan följer några exempel på slicing:</li>\n",
    "</ul>\n",
    "</h3>"
   ]
  },
  {
   "cell_type": "code",
   "execution_count": 25,
   "metadata": {},
   "outputs": [
    {
     "name": "stdout",
     "output_type": "stream",
     "text": [
      "[0, 1, 2, 3, 4, 5, 6, 7, 8, 9, 10, 11, 12, 13, 14, 15, 16, 17, 18, 19, 20]\n"
     ]
    }
   ],
   "source": [
    "# Skapa en lista med hjälp av range (alla heltal från 0 till 20)\n",
    "l = list(range(0, 21))\n",
    "# Skriv ut listan\n",
    "print(l)"
   ]
  },
  {
   "cell_type": "code",
   "execution_count": 26,
   "metadata": {},
   "outputs": [
    {
     "name": "stdout",
     "output_type": "stream",
     "text": [
      "5 första talen:\n",
      "[0, 1, 2, 3, 4]\n",
      "Varannat tal:\n",
      "[0, 2, 4, 6, 8, 10, 12, 14, 16, 18, 20]\n",
      "5 sista talen:\n",
      "[16, 17, 18, 19, 20]\n",
      "Alla tal förutom två första och två sista:\n",
      "[2, 3, 4, 5, 6, 7, 8, 9, 10, 11, 12, 13, 14, 15, 16, 17, 18]\n",
      "Listan omvänd:\n",
      "[20, 19, 18, 17, 16, 15, 14, 13, 12, 11, 10, 9, 8, 7, 6, 5, 4, 3, 2, 1, 0]\n",
      "Alla tal från 5 och framåt:\n",
      "[5, 6, 7, 8, 9, 10, 11, 12, 13, 14, 15, 16, 17, 18, 19, 20]\n",
      "Original-listan (0 till 20):\n",
      "[0, 1, 2, 3, 4, 5, 6, 7, 8, 9, 10, 11, 12, 13, 14, 15, 16, 17, 18, 19, 20]\n"
     ]
    }
   ],
   "source": [
    "# Plocka ut 5 första talen\n",
    "s = l[0:5]\n",
    "# ... är samma sak som\n",
    "s = l[:5]\n",
    "print(\"5 första talen:\")\n",
    "print(s)\n",
    "\n",
    "# Plocka ut varannat tal med början på 0\n",
    "s = l[::2]\n",
    "print(\"Varannat tal:\")\n",
    "print(s)\n",
    "\n",
    "# Plocka ut 5 sista talen\n",
    "s = l[-5:]\n",
    "print(\"5 sista talen:\")\n",
    "print(s)\n",
    "\n",
    "# Plocka ut alla tal förutom de två första och två sista\n",
    "s = l[2:-2]\n",
    "print(\"Alla tal förutom två första och två sista:\")\n",
    "print(s)\n",
    "\n",
    "# Omvänd lista\n",
    "s = l[::-1]\n",
    "print(\"Listan omvänd:\")\n",
    "print(s)\n",
    "\n",
    "# Alla tal från 5 och framåt\n",
    "# Vi kan använda funktionen index() för att hitta platsen på ett värde i listan\n",
    "s = l[l.index(5):]\n",
    "print(\"Alla tal från 5 och framåt:\")\n",
    "print(s)\n",
    "\n",
    "# Verifiera att original-listan är oförändrad\n",
    "print(\"Original-listan (0 till 20):\")\n",
    "print(l)"
   ]
  },
  {
   "cell_type": "markdown",
   "metadata": {},
   "source": [
    "<span></span>\n",
    "<h3>\n",
    "<ul>\n",
    "    <li>Slicing kan också användas för att ta bort en delsekvens från en lista:</li>\n",
    "</ul>\n",
    "</h3>"
   ]
  },
  {
   "cell_type": "code",
   "execution_count": 27,
   "metadata": {},
   "outputs": [
    {
     "name": "stdout",
     "output_type": "stream",
     "text": [
      "[0, 1, 2, 3, 4, 5, 6, 7, 8, 9, 10, 11, 12, 13, 14, 15, 16, 17, 18, 19, 20]\n",
      "[0, 1, 2, 3, 4, 5, 11, 12, 13, 14, 15, 16, 17, 18, 19, 20]\n"
     ]
    }
   ],
   "source": [
    "# Skapa en lista med alla heltal från 0 till 20\n",
    "l = list(range(0, 21))\n",
    "\n",
    "# Skriv ut listan\n",
    "print(l)\n",
    "\n",
    "# Ta bort 5 tal i mitten\n",
    "del l[6:11]\n",
    "\n",
    "# Skriv ut listan\n",
    "print(l)"
   ]
  },
  {
   "cell_type": "markdown",
   "metadata": {},
   "source": [
    "<span></span>\n",
    "<h1>Funktioner på listor</h1>\n",
    "<h3>\n",
    "<ul>\n",
    "    <li>Python har ett antal användbara funktioner som vi kan anropa på listor:</li>\n",
    "</ul>\n",
    "</h3>"
   ]
  },
  {
   "cell_type": "code",
   "execution_count": 28,
   "metadata": {},
   "outputs": [
    {
     "name": "stdout",
     "output_type": "stream",
     "text": [
      "[71, 13, 19, 14, 76, 9, 22, 95, 70, 45, 24, 86, 93, 92, 72, 30, 41, 91, 31, 34]\n"
     ]
    }
   ],
   "source": [
    "# Importera random()\n",
    "from random import random\n",
    "\n",
    "# Skapa en lista med 20 slumpmässiga heltal\n",
    "l = []\n",
    "for i in range(0, 20):\n",
    "    l.append(int(random() * 100))\n",
    "    \n",
    "# Skriv ut listan\n",
    "print(l)"
   ]
  },
  {
   "cell_type": "code",
   "execution_count": 29,
   "metadata": {},
   "outputs": [
    {
     "name": "stdout",
     "output_type": "stream",
     "text": [
      "76 finns på plats 4\n",
      "Lägg till 458 på plats 4 i listan:\n",
      "[71, 13, 19, 14, 458, 76, 9, 22, 95, 70, 45, 24, 86, 93, 92, 72, 30, 41, 91, 31, 34]\n",
      "Lägg till 911 sist i listan:\n",
      "[71, 13, 19, 14, 458, 76, 9, 22, 95, 70, 45, 24, 86, 93, 92, 72, 30, 41, 91, 31, 34, 911]\n",
      "458 förekommer 1 gånger\n",
      "1010 förekommer 0 gånger\n",
      "Listan sorterad:\n",
      "[9, 13, 14, 19, 22, 24, 30, 31, 34, 41, 45, 70, 71, 72, 76, 86, 91, 92, 93, 95, 458, 911]\n"
     ]
    }
   ],
   "source": [
    "# Kontrollera på vilken plats ett tal finns på i listan: index()\n",
    "tal = l[4]\n",
    "print(tal, \"finns på plats\", l.index(tal))\n",
    "\n",
    "# Lägg till element på en plats i listan: insert()\n",
    "print(\"Lägg till 458 på plats 4 i listan:\")\n",
    "l.insert(4, 458)\n",
    "print(l)\n",
    "\n",
    "# Lägg till element sist i listan: append()\n",
    "print(\"Lägg till 911 sist i listan:\")\n",
    "l.append(911)\n",
    "print(l)\n",
    "\n",
    "# Räkna antal förekomster av ett tal i listan: count()\n",
    "print(\"458 förekommer\", l.count(458), \"gånger\")\n",
    "print(\"1010 förekommer\", l.count(1010), \"gånger\")\n",
    "\n",
    "# Sortera listan: sort()\n",
    "print(\"Listan sorterad:\")\n",
    "l.sort()\n",
    "print(l)"
   ]
  },
  {
   "cell_type": "markdown",
   "metadata": {},
   "source": [
    "<span></span>\n",
    "<h1>Generera listor</h1>\n",
    "<h3>\n",
    "<ul>\n",
    "    <li>När vi tidigare skapade en lista med sinus-värden fyllde vi den med hjälp av en for-loop</li>\n",
    "    <li>Ett annat sätt att skapa en lista utifrån en matematisk funktion är med hjälp av <span style=\"color:#BB2222\">list comprehension</span></li>\n",
    "    <li>Vi anger då ett uttryck och en range inom hakparenteser:</li>\n",
    "</ul>\n",
    "</h3>"
   ]
  },
  {
   "cell_type": "code",
   "execution_count": 30,
   "metadata": {},
   "outputs": [
    {
     "name": "stdout",
     "output_type": "stream",
     "text": [
      "[0, 1, 4, 9, 16, 25, 36, 49, 64, 81, 100]\n",
      "[0, 1, 4, 9, 16, 25, 36, 49, 64, 81, 100]\n"
     ]
    }
   ],
   "source": [
    "# Definiera en tom lista för upphöjt till\n",
    "p1 = []\n",
    "\n",
    "# Fyll listan med x^2 från 0 till 10\n",
    "for x in range(0, 11):\n",
    "    p1.append(x**2)\n",
    "    \n",
    "# Skriv ut listan\n",
    "print(p1)\n",
    "\n",
    "# Generera listan med list comprehension\n",
    "p2 = [x**2 for x in range(0, 11)]\n",
    "print(p2)"
   ]
  },
  {
   "cell_type": "markdown",
   "metadata": {},
   "source": [
    "<span></span>\n",
    "<h3>\n",
    "<ul>\n",
    "    <li>Vi kan också använda villkor för vilka värden som ska inkluderas i en lista:</li>\n",
    "</ul>\n",
    "</h3>"
   ]
  },
  {
   "cell_type": "code",
   "execution_count": 31,
   "metadata": {},
   "outputs": [
    {
     "name": "stdout",
     "output_type": "stream",
     "text": [
      "[0, 3, 6, 9, 12, 15, 18, 21, 24, 27, 30]\n"
     ]
    }
   ],
   "source": [
    "# Skapa en lista med alla tal från 0 till 30 som är jämnt delbara med 3\n",
    "l = [x for x in range(0, 31) if x%3 == 0]\n",
    "print(l)"
   ]
  },
  {
   "cell_type": "markdown",
   "metadata": {},
   "source": [
    "<span></span>\n",
    "<h1>Numpy</h1>\n",
    "<h3>\n",
    "<ul>\n",
    "    <li><span style=\"color:#BB2222\">Numpy</span> är ett paket (en samling moduler) för att underlätta matematiska och statistiska beräkningar</li>\n",
    "    <li>Vi kan återigen generera en lista med 25 slumptal, och se vad vi kan göra med numpy:</li>\n",
    "</ul>\n",
    "</h3>"
   ]
  },
  {
   "cell_type": "code",
   "execution_count": 32,
   "metadata": {},
   "outputs": [
    {
     "name": "stdout",
     "output_type": "stream",
     "text": [
      "[0.99864224 0.61057024 0.10469969 0.89739524 0.24155692 0.81227939\n",
      " 0.1688868  0.91348477 0.98428341 0.73845744 0.10140313 0.63574958\n",
      " 0.21051528 0.80011687 0.79763175 0.9430141  0.44870613 0.144021\n",
      " 0.42516872 0.84667517 0.94520189 0.67513402 0.31575243 0.18467663\n",
      " 0.29330876]\n"
     ]
    }
   ],
   "source": [
    "# Importera random\n",
    "from random import random\n",
    "\n",
    "# Generera en lista med 25 likformigt fördelade slumptal mellan 0 och 1\n",
    "l = [random() for x in range(0, 25)]\n",
    "\n",
    "# Importera numpy\n",
    "import numpy as np\n",
    "\n",
    "# Konvertera till en numpy-lista\n",
    "ln = np.asarray(l)\n",
    "\n",
    "# Skriv ut listan\n",
    "print(ln)"
   ]
  },
  {
   "cell_type": "markdown",
   "metadata": {},
   "source": [
    "<span></span>\n",
    "<h3>\n",
    "<ul>\n",
    "    <li>Numpy har funktioner för att beräkna summa, medelvärde, median och standardavvikelse:</li>\n",
    "</ul>\n",
    "</h3>"
   ]
  },
  {
   "cell_type": "code",
   "execution_count": 33,
   "metadata": {},
   "outputs": [
    {
     "name": "stdout",
     "output_type": "stream",
     "text": [
      "Summa: 14.24\n",
      "Medelvärde: 0.57\n",
      "Median: 0.64\n",
      "Standardavvikelse: 0.32\n"
     ]
    }
   ],
   "source": [
    "# Summa\n",
    "sum = np.sum(ln)\n",
    "print(\"Summa: {0:.2f}\".format(sum))\n",
    "\n",
    "# Medelvärde\n",
    "mean = np.mean(ln)\n",
    "print(\"Medelvärde: {0:.2f}\".format(mean))\n",
    "\n",
    "# Median\n",
    "med = np.median(ln)\n",
    "print(\"Median: {0:.2f}\".format(med))\n",
    "\n",
    "# Standardavvikelse\n",
    "std = np.std(ln)\n",
    "print(\"Standardavvikelse: {0:.2f}\".format(std))"
   ]
  },
  {
   "cell_type": "code",
   "execution_count": null,
   "metadata": {},
   "outputs": [],
   "source": []
  }
 ],
 "metadata": {
  "kernelspec": {
   "display_name": "Python 3",
   "language": "python",
   "name": "python3"
  },
  "language_info": {
   "codemirror_mode": {
    "name": "ipython",
    "version": 3
   },
   "file_extension": ".py",
   "mimetype": "text/x-python",
   "name": "python",
   "nbconvert_exporter": "python",
   "pygments_lexer": "ipython3",
   "version": "3.7.2"
  }
 },
 "nbformat": 4,
 "nbformat_minor": 2
}
