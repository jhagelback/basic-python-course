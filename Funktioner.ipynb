{
 "cells": [
  {
   "cell_type": "markdown",
   "metadata": {},
   "source": [
    "<img src=\"gfx/F-Cover.png\" width=\"830\">"
   ]
  },
  {
   "cell_type": "markdown",
   "metadata": {},
   "source": [
    "<span></span>\n",
    "<h1>Funktioner</h1>\n",
    "<h3>\n",
    "<ul>\n",
    "    <li>Antag att vi har ett program som behöver beräkna arean på en rektangel</li>\n",
    "    <li>Programmet ska beräkna och skriva ut hur arean ändras med storleken på sidorna</li>\n",
    "    <li>Problemet kan lösas så här:</li>\n",
    "</ul>\n",
    "</h3>"
   ]
  },
  {
   "cell_type": "code",
   "execution_count": 1,
   "metadata": {},
   "outputs": [
    {
     "name": "stdout",
     "output_type": "stream",
     "text": [
      "En rektangel med sidorna 1 och 2 cm har arean 2 cm^2\n",
      "En rektangel med sidorna 2 och 4 cm har arean 8 cm^2\n",
      "En rektangel med sidorna 4 och 8 cm har arean 32 cm^2\n"
     ]
    }
   ],
   "source": [
    "# Ange start-sidor\n",
    "a = 1\n",
    "b = 2\n",
    "\n",
    "# Beräkna arean och skriv ut resultatet\n",
    "area = a * b\n",
    "print(\"En rektangel med sidorna\", a, \"och\", b, \"cm har arean\", area, \"cm^2\")\n",
    "\n",
    "# Ändra storleken på sidorna\n",
    "a *= 2\n",
    "b *= 2\n",
    "\n",
    "# Beräkna arean och skriv ut resultatet\n",
    "area = a * b\n",
    "print(\"En rektangel med sidorna\", a, \"och\", b, \"cm har arean\", area, \"cm^2\")\n",
    "\n",
    "# Ändra storleken på sidorna\n",
    "a *= 2\n",
    "b *= 2\n",
    "\n",
    "# Beräkna arean och skriv ut resultatet\n",
    "area = a * b\n",
    "print(\"En rektangel med sidorna\", a, \"och\", b, \"cm har arean\", area, \"cm^2\")"
   ]
  },
  {
   "cell_type": "markdown",
   "metadata": {},
   "source": [
    "<span></span>\n",
    "<h3>\n",
    "<ul>\n",
    "    <li>Vi vill ändra i vårt program så att i stället för att beräkna area ska vi beräkna volym</li>\n",
    "    <li>Programmet ser då ut så här:</li>\n",
    "</ul>\n",
    "</h3>"
   ]
  },
  {
   "cell_type": "code",
   "execution_count": 2,
   "metadata": {},
   "outputs": [
    {
     "name": "stdout",
     "output_type": "stream",
     "text": [
      "Ett rätblock med sidorna 1 och 2 och höjden 2 cm har volymen 4 cm^3\n",
      "Ett rätblock med sidorna 2 och 4 och höjden 4 cm har volymen 32 cm^3\n",
      "Ett rätblock med sidorna 4 och 8 och höjden 8 cm har volymen 256 cm^3\n"
     ]
    }
   ],
   "source": [
    "# Ange start-sidor\n",
    "a = 1\n",
    "b = 2\n",
    "h = 2\n",
    "\n",
    "# Beräkna volymen och skriv ut resultatet\n",
    "vol = a * b * h\n",
    "print(\"Ett rätblock med sidorna\", a, \"och\", b, \"och höjden\", h, \"cm har volymen\",  vol, \"cm^3\")\n",
    "\n",
    "# Ändra storleken på sidorna\n",
    "a *= 2\n",
    "b *= 2\n",
    "h *= 2\n",
    "\n",
    "# Beräkna volymen och skriv ut resultatet\n",
    "vol = a * b * h\n",
    "print(\"Ett rätblock med sidorna\", a, \"och\", b, \"och höjden\", h, \"cm har volymen\",  vol, \"cm^3\")\n",
    "\n",
    "# Ändra storleken på sidorna\n",
    "a *= 2\n",
    "b *= 2\n",
    "h *= 2\n",
    "\n",
    "# Beräkna volymen och skriv ut resultatet\n",
    "vol = a * b * h\n",
    "print(\"Ett rätblock med sidorna\", a, \"och\", b, \"och höjden\", h, \"cm har volymen\",  vol, \"cm^3\")"
   ]
  },
  {
   "cell_type": "markdown",
   "metadata": {},
   "source": [
    "<span></span>\n",
    "<h3>\n",
    "<ul>\n",
    "    <li>Vi måste göra samma ändringar på flera ställen:\n",
    "        <ul>\n",
    "            <li>Ändra variabelnamnet till <em>vol</em> på tre ställen</li>\n",
    "            <li>Ändra från area till volym-beräkning på tre ställen</li>\n",
    "            <li>Ändra från area till volym i kommentarerna på tre ställen</li>\n",
    "            <li>Ändra i utskriften på tre ställen</li>\n",
    "            <li>Lägg till så att höjden multipliceras med två på två ställen</li>\n",
    "        </ul>\n",
    "    </li>\n",
    "</ul>\n",
    "<span></span>\n",
    "<ul>\n",
    "    <li>Det är stor risk att vi gör fel när vi ska göra ändringar på flera ställen</li>\n",
    "    <li>Vi kan till exempel skriva fel i någon volym-beräkning eller glömma att ändra formeln på något ställe</li>\n",
    "    <li>Det är också omständigt och tidskrävande att göra samma ändringar på många ställen i ett program</li>\n",
    "</ul>\n",
    "</h3>"
   ]
  },
  {
   "cell_type": "markdown",
   "metadata": {},
   "source": [
    "<span></span>\n",
    "<h3>\n",
    "<ul>\n",
    "    <li>Vi vill i stället kunna återanvända programkod, i vårt fall beräkningen och utskriften</li>\n",
    "    <li>Detta kan vi göra med <span style=\"color:#BB2222\">funktioner</span></li>\n",
    "    <li>Vi har faktiskt använt funktioner tidigare</li>\n",
    "    <li><span style=\"color:blue\">print()</span> är en funktion för att skriva ut på skärmen</li>\n",
    "    <li><span style=\"color:blue\">int()</span> är en funktion för att omvandla en textsträng till ett heltal</li>\n",
    "</ul>\n",
    "</h3>"
   ]
  },
  {
   "cell_type": "markdown",
   "metadata": {},
   "source": [
    "<span></span>\n",
    "<h3>\n",
    "<ul>\n",
    "    <li>Nedan visas hur vårt program med volym-beräkningar ser ut med <span style=\"color:#BB2222\">funktioner</span></li>\n",
    "    <li>Vi återkommer till egen-definierade funktioner lite senare, exemplet är mest till för att illustrera hur enkelt programmet blir</li>\n",
    "</ul>\n",
    "</h3>"
   ]
  },
  {
   "cell_type": "code",
   "execution_count": 3,
   "metadata": {},
   "outputs": [
    {
     "name": "stdout",
     "output_type": "stream",
     "text": [
      "Ett rätblock med sidorna 1 och 2 och höjden 2 cm har volymen 4 cm^3\n",
      "Ett rätblock med sidorna 2 och 4 och höjden 4 cm har volymen 32 cm^3\n",
      "Ett rätblock med sidorna 4 och 8 och höjden 8 cm har volymen 256 cm^3\n"
     ]
    }
   ],
   "source": [
    "# Definiera funktion för att räkna ut och skriva ut volymen\n",
    "def volume(a, b, h):\n",
    "    vol = a * b * h\n",
    "    print(\"Ett rätblock med sidorna\", a, \"och\", b, \"och höjden\", h, \"cm har volymen\",  vol, \"cm^3\")\n",
    "\n",
    "# Ange start-sidor\n",
    "a = 1\n",
    "b = 2\n",
    "h = 2\n",
    "# Använd funktionen\n",
    "volume(a, b, h)\n",
    "    \n",
    "# Ändra storleken på sidorna\n",
    "a *= 2\n",
    "b *= 2\n",
    "h *= 2\n",
    "# Använd funktionen\n",
    "volume(a, b, h)\n",
    "\n",
    "# Ändra storleken på sidorna\n",
    "a *= 2\n",
    "b *= 2\n",
    "h *= 2\n",
    "# Använd funktionen\n",
    "volume(a, b, h)"
   ]
  },
  {
   "cell_type": "markdown",
   "metadata": {},
   "source": [
    "<span></span>\n",
    "<h3>\n",
    "<ul>\n",
    "    <li>Om vi ska ändra tillbaks till att beräkna area i stället för volym behöver vi bara göra ändringar på ett enda ställe</li>\n",
    "    <li>Det blir också lättare att lägga till ytterligare volym-beräkningar och koden blir mer lättförståelig</li>\n",
    "</ul>\n",
    "</h3>"
   ]
  },
  {
   "cell_type": "markdown",
   "metadata": {},
   "source": [
    "<span></span>\n",
    "<h1>Funktioner i Python</h1>\n",
    "<h3>\n",
    "<ul>\n",
    "    <li>En funktion är ett <span style=\"color:#CC9A1E\">namngivet block av kod som utför en specifik uppgift</span></li>\n",
    "    <li>Varje gång ett program behöver utföra uppgiften, anropas funktionen</li>\n",
    "    <li>För att använda en funktion behöver vi inte veta hur funktionen fungerar, bara hur vi använder den</li>\n",
    "    <li>I Python finns en stor mängd användbara funktioner, till exempel för att beräkna kvadratroten av ett tal:</li>\n",
    "</ul>\n",
    "</h3>"
   ]
  },
  {
   "cell_type": "code",
   "execution_count": 4,
   "metadata": {},
   "outputs": [
    {
     "name": "stdout",
     "output_type": "stream",
     "text": [
      "Mata in ett positivt tal:\n",
      "9\n",
      "Kvadratroten av 9.0 är 3.0\n"
     ]
    }
   ],
   "source": [
    "# Vi måste berätta för Python att vi vill komma åt kvadratrot-funktionen i matematik-modulen\n",
    "from math import sqrt\n",
    "\n",
    "# Be användaren mata in ett tal\n",
    "print(\"Mata in ett positivt tal:\")\n",
    "num = float(input())\n",
    "\n",
    "# Beräkna kvadratroten\n",
    "root = sqrt(num)\n",
    "\n",
    "# Skriv ut resultatet\n",
    "print(\"Kvadratroten av\", num, \"är\", root)"
   ]
  },
  {
   "cell_type": "markdown",
   "metadata": {},
   "source": [
    "<span></span>\n",
    "<h3>\n",
    "<ul>\n",
    "    <li>För att beräkna kvadratroten behöver vi veta att:\n",
    "        <ul>\n",
    "            <li>Det finns en funktion som heter <span style=\"color:blue\">sqrt()</span> i <span style=\"color:blue\">math</span> modulen</li> \n",
    "            <li>Att vi måste ange en <span style=\"color:#BB2222\">parameter</span>: talet vi ska beräkna kvadratroten av</li>\n",
    "            <li>Att vi får tillbaks ett decimaltal som resultat</li>\n",
    "        </ul>\n",
    "    </li>\n",
    "    <li>Vi vet inte och behöver inte veta:\n",
    "        <ul>\n",
    "            <li>Hur Python gör för att beräkna kvadratroten av ett positivt heltal</li>\n",
    "        </ul>\n",
    "    </li>\n",
    "</ul>\n",
    "<span></span>\n",
    "<ul>\n",
    "    <li>Funktioner är vad som brukar kallas <span style=\"color:#BB2222\">blackbox</span></li>\n",
    "    <li>Vi vet <span style=\"color:#117711\"><em>vad</em></span> en funktion gör, men inte <span style=\"color:#117711\"><em>hur</em></span> den gör det</li>\n",
    "</ul>\n",
    "<span></span>\n",
    "<ul>\n",
    "    <li>När vi använder en funktion kallas det ett <span style=\"color:#BB2222\">funktionsanrop</span></li>\n",
    "    <li>Vi anropar funktionen <span style=\"color:blue\">sqrt()</span> och skickar med ett decimaltal som indata</li>\n",
    "</ul>\n",
    "</h3>"
   ]
  },
  {
   "cell_type": "markdown",
   "metadata": {},
   "source": [
    "<span></span>\n",
    "<h1>Moduler</h1>\n",
    "<h3>\n",
    "<ul>\n",
    "    <li>Vissa funktioner, som <font color=\"blue\">print()</font>, finns tillgängliga direkt i Python</li>\n",
    "    <li>För att använda andra funktioner, som <font color=\"blue\">sqrt()</font>, måste vi berätta för Python att vi vill använda en modul där funktionen finns</li>\n",
    "    <li>Moduler kallas ibland <em>paket</em> eller <em>bibliotek</em></li>\n",
    "    <li>En modul är en samling funktioner med liknande uppgifter</li>\n",
    "    <li>Python har ett standardbibliotek med en stor mängd moduler och funktioner vi kan använda</li>\n",
    "    <li>I <font color=\"blue\">math</font> modulen finns till exempel en mängd funktioner för att underlätta matematiska beräkningar som roten ur, logaritmer, absolutvärde, trigonometri, ...</li>\n",
    "</ul>\n",
    "<span></span>\n",
    "<ul>\n",
    "    <li>Funktioner och moduler görs tillgängliga med kommandot <font color=\"#BB2222\">import</font></li>\n",
    "    <li>Vi kan antingen importera enskilda funktioner, eller importera en hel modul:</li>\n",
    "</ul>\n",
    "</h3>"
   ]
  },
  {
   "cell_type": "code",
   "execution_count": 5,
   "metadata": {},
   "outputs": [
    {
     "name": "stdout",
     "output_type": "stream",
     "text": [
      "Roten av 2 är 1.4142135623730951\n",
      "Sinus av 1 är 0.8414709848078965 och cosinus av 1 är 0.5403023058681398\n",
      "Logaritmen av 100 är 2.0\n"
     ]
    }
   ],
   "source": [
    "# Importera endast sqrt() funktion i math\n",
    "from math import sqrt\n",
    "# Använd funktionen\n",
    "print(\"Roten av 2 är\", sqrt(2))\n",
    "\n",
    "# Importera sinus och cosinus funktionerna i math\n",
    "from math import sin, cos\n",
    "print(\"Sinus av 1 är\", sin(1), \"och cosinus av 1 är\", cos(1))\n",
    "\n",
    "# Importera hela math-modulen\n",
    "import math\n",
    "# Använd en funktion\n",
    "print(\"Logaritmen av 100 är\", math.log10(100))"
   ]
  },
  {
   "cell_type": "markdown",
   "metadata": {},
   "source": [
    "<span></span>\n",
    "<h3>\n",
    "<ul>\n",
    "    <li>Om vi importerar enskilda funktioner kan vi anropa dem direkt</li>\n",
    "    <li>Om vi importerar en hel modul måste vi ange modulnamn följt av punkt innan ett funktionsanrop</li>\n",
    "    <li>Vilket alternativ vi väljer handlar delvis om tycke och smak, och om hur många funktioner vi behöver komma åt i en modul</li>\n",
    "</ul>\n",
    "</h3>"
   ]
  },
  {
   "cell_type": "markdown",
   "metadata": {},
   "source": [
    "<span></span>\n",
    "<h1>Funktioners uppbyggnad</h1>\n",
    "<h3>\n",
    "En funktion består av tre huvudsakliga delar:\n",
    "<span></span>\n",
    "<ul>\n",
    "    <li><span style=\"color:#BB2222\">Namn</span>\n",
    "        <ul>\n",
    "            <li>Namn som vi använder när vi anropar funktionen</li>\n",
    "            <li>Flera funktioner kan ha samma namn om de ligger i olika moduler</li>\n",
    "            <li>Funktioner i ett program eller en modul får inte ha samma namn</li>\n",
    "        </ul>\n",
    "    </li>\n",
    "    <li><span style=\"color:#BB2222\">Parametrar</span>\n",
    "        <ul>\n",
    "            <li>En parameter är indata till funktionen - information funktionen behöver för att kunna utföra sin uppgift</li>\n",
    "            <li>Till exempel behöver en funktion för att beräkna kvadratroten ett tal att räkna med</li>\n",
    "            <li>En funktion kan ha ingen, en eller flera parametrar</li>\n",
    "        </ul>\n",
    "    </li>\n",
    "    <li><span style=\"color:#BB2222\">Returtyp</span>\n",
    "        <ul>\n",
    "            <li>Ofta behöver funktioner skicka tillbaks ett resultat</li>\n",
    "            <li>I exemplet med kvadratrot skickas resultatet av beräkningen tillbaks</li>\n",
    "            <li>Andra funktioner, som print, skickar inte tillbaks ett resultat</li>\n",
    "        </ul>\n",
    "    </li>\n",
    "</ul>\n",
    "</h3>"
   ]
  },
  {
   "cell_type": "markdown",
   "metadata": {},
   "source": [
    "<span></span>\n",
    "<h3>\n",
    "<ul>\n",
    "    <li>Nedan följer några exempel på funktioner med olika parametrar och returtyper:</li>\n",
    "</ul>\n",
    "</h3>"
   ]
  },
  {
   "cell_type": "code",
   "execution_count": 6,
   "metadata": {},
   "outputs": [
    {
     "name": "stdout",
     "output_type": "stream",
     "text": [
      "Resultatet är 1.4142135623730951 och har typen <class 'float'>\n",
      "Resultatet är 8.0 och har typen <class 'float'>\n",
      "Mitt slumpmässiga tal blev 0.7170832905252709 och har typen <class 'float'>\n",
      "print() har returtyp <class 'NoneType'>\n"
     ]
    }
   ],
   "source": [
    "# Importera modulerna vi behöver\n",
    "import math\n",
    "import random\n",
    "\n",
    "# Kvadratroten har en parameter och returvärde\n",
    "res = math.sqrt(2)\n",
    "print(\"Resultatet är\", res, \"och har typen\", type(res))\n",
    "\n",
    "# Upphöjt till har två parametrar och returvärde\n",
    "res = math.pow(2, 3)\n",
    "print(\"Resultatet är\", res, \"och har typen\", type(res))\n",
    "\n",
    "# Random har ingen parameter och ett returvärde\n",
    "rnd = random.random()\n",
    "print(\"Mitt slumpmässiga tal blev\", rnd, \"och har typen\", type(rnd))\n",
    "\n",
    "# Print har ingen returtyp\n",
    "# Print kan ha olika antal parametrar som utskrifterna här visar\n",
    "print(\"print() har returtyp\", type(print(\"\", end=\"\")))"
   ]
  },
  {
   "cell_type": "markdown",
   "metadata": {},
   "source": [
    "<span></span>\n",
    "<h1>Pythons standardbibliotek</h1>\n",
    "<h3>\n",
    "<ul>\n",
    "    <li>Pythons standardbibliotek finns på <a href=\"https://docs.python.org/3/library/\" target=\"_blank\">docs.python.org/3/library/</a></li>\n",
    "    <li>Här finns till exempel moduler för matematik, filhantering, nätverkshantering, epost, och väldigt mycket mer!</li>\n",
    "    <li>Nedan följer ett utdrag av dokumentationen för <span style=\"color:#BB2222\">math</span> modulen:</li>\n",
    "</ul>\n",
    "<img src=\"gfx/math.png\" width=\"830\">\n",
    "</h3>"
   ]
  },
  {
   "cell_type": "markdown",
   "metadata": {},
   "source": [
    "<span></span>\n",
    "<h1>Textsträngar</h1>\n",
    "<h3>\n",
    "<ul>\n",
    "    <li>Som ytterligare exempel kan vi ta manipulering av textsträngar</li>\n",
    "    <li>Det finns ett antal användbara funktioner vi kan använda för att manipulera en textsträng</li>\n",
    "    <li>Dokumentationen för <span style=\"color:#BB2222\">String</span> finns <a href=\"https://docs.python.org/3.1/library/stdtypes.html#string-methods\" target=\"_blank\">här</a></li>\n",
    "</ul>\n",
    "</h3>"
   ]
  },
  {
   "cell_type": "code",
   "execution_count": 7,
   "metadata": {},
   "outputs": [
    {
     "name": "stdout",
     "output_type": "stream",
     "text": [
      "PYTHON ÄR COOLT\n",
      "python är coolt\n",
      "Python Är Coolt\n",
      "Python är coolt\n",
      "'   pyThOn äR cOOlt    '\n",
      "'  innehåll  '\n",
      "'innehåll'\n",
      "4580\n",
      "10\n",
      "-1\n",
      "Javascript är mindre coolt\n",
      "True\n"
     ]
    }
   ],
   "source": [
    "# Definiera en textsträng\n",
    "str = \"pyThOn äR cOOlt\"\n",
    "\n",
    "# Konvertera till enbart stora bokstäver\n",
    "print(str.upper())\n",
    "\n",
    "# Konvertera till enbart små bokstäver\n",
    "print(str.lower())\n",
    "\n",
    "# Ändra så att varje ord börjar på stor bokstav\n",
    "print(str.title())\n",
    "\n",
    "# Ändra så att enbart första bokstaven blir stor\n",
    "print(str.capitalize())\n",
    "\n",
    "# Skriv ut centrerad med en viss bredd\n",
    "print(\"'\", str.center(20), \"'\")\n",
    "\n",
    "# En vanlig manipulation är att ta bort blanksteg före och efter en text\n",
    "str = \"  innehåll  \"\n",
    "print(\"'\", str, \"'\", sep=\"\")\n",
    "print(\"'\", str.strip(), \"'\", sep=\"\")\n",
    "\n",
    "# Vi kan också använda strip för att ta bort nollor före ett tal\n",
    "tal = \"00004580\"\n",
    "print(tal.lstrip(\"0\"))\n",
    "\n",
    "# Vi kan också se om en text innehåller en annan text\n",
    "# find() returnerar positionen den sökta texten finns på, eller -1 om den inte finns\n",
    "str = \"Python är coolt\"\n",
    "print(str.find(\"coolt\"))\n",
    "print(str.find(\"Javascript\"))\n",
    "\n",
    "# Vi kan också byta ut delar av en text\n",
    "str = str.replace(\"Python\", \"Javascript\")\n",
    "str = str.replace(\"coolt\", \"mindre coolt\")\n",
    "print(str)\n",
    "\n",
    "# Det finns även funktioner för att se om en textsträng är ett heltal\n",
    "str = \"45\"\n",
    "print(str.isnumeric())"
   ]
  },
  {
   "cell_type": "markdown",
   "metadata": {},
   "source": [
    "<span></span>\n",
    "<h1>Egendefinierade funktioner</h1>\n",
    "<h3>\n",
    "<ul>\n",
    "    <li>I vårt första exempel skapade vi en egen funktion för att beräkna volymen på ett rätblock</li>\n",
    "</ul>\n",
    "<img src=\"gfx/ratblock.png\"/>\n",
    "<ul>\n",
    "    <li>Så här såg vår funktionsdefinition ut:</li>\n",
    "</ul>\n",
    "</h3>"
   ]
  },
  {
   "cell_type": "code",
   "execution_count": 8,
   "metadata": {},
   "outputs": [
    {
     "name": "stdout",
     "output_type": "stream",
     "text": [
      "En rektangel med sidorna 1 och 1 och höjden 2 cm har volymen 2 cm^3\n"
     ]
    }
   ],
   "source": [
    "# Definiera funktion för att räkna ut och skriva ut volymen\n",
    "def volume(a, b, h):\n",
    "    vol = a * b * h\n",
    "    print(\"En rektangel med sidorna\", a, \"och\", b, \"och höjden\", h, \"cm har volymen\",  vol, \"cm^3\")\n",
    "    \n",
    "volume(1,1,2)"
   ]
  },
  {
   "cell_type": "markdown",
   "metadata": {},
   "source": [
    "<span></span>\n",
    "<h3>\n",
    "Följande delar måste finnas med när en funktion definieras:\n",
    "<span></span>\n",
    "<ul>\n",
    "    <li><span style=\"color:blue\">def</span> - nyckelord som berättar för Python att vi vill definiera en funktion</li>\n",
    "    <li><span style=\"color:#BB2222\">Namn</span> - namn som används när vi vill anropa funktionen</li>\n",
    "    <li><span style=\"color:#BB2222\">Parameterlista</span> - vilka parametrar (indata) funktionen behöver</li>\n",
    "    <li><span style=\"color:#BB2222\">Kodblock</span> - koden som körs när funktionen anropas</li>\n",
    "</ul>\n",
    "<img src=\"gfx/funktioner.png\"/>\n",
    "<ul>\n",
    "    <li>Namnet på vår funktion är <span style=\"color:blue\">volume</span> och dess parametrar består av tre heltal: <span style=\"color:#BB2222\">a</span>, <span style=\"color:#BB2222\">b</span> och <span style=\"color:#BB2222\">h</span></li>\n",
    "    <li>En funktion kan ha ingen, en eller flera parametrar</li>\n",
    "    <li>Parametrarna kan vara av samma typ eller olika typer</li>\n",
    "</ul>\n",
    "<span></span>\n",
    "<ul>\n",
    "    <li>Som exempel kan vi definiera en funktion som skriver ut en delsträng av en större textsträng:</li>\n",
    "</ul>\n",
    "</h3>"
   ]
  },
  {
   "cell_type": "code",
   "execution_count": 9,
   "metadata": {},
   "outputs": [
    {
     "name": "stdout",
     "output_type": "stream",
     "text": [
      "Python\n",
      "coolt\n"
     ]
    }
   ],
   "source": [
    "# Definiera en funktion som skriver ut en delsträng av en större sträng\n",
    "def print_substring(text, start, end):\n",
    "    substr = text[start:end]\n",
    "    print(substr)\n",
    "    \n",
    "# Använd funktionen\n",
    "print_substring(\"Python är coolt\", 0, 6)\n",
    "print_substring(\"Python är coolt\", 10, 15)"
   ]
  },
  {
   "cell_type": "markdown",
   "metadata": {},
   "source": [
    "<span></span>\n",
    "<h3>\n",
    "<ul>\n",
    "    <li>Ordningen på parametrarna är viktig vid anrop</li>\n",
    "    <li>Python förväntar sig att först få en <span style=\"color:#BB2222\">String</span> följt av två <span style=\"color:#BB2222\">Integer</span> när vi anropar vår funktion:</li>\n",
    "</ul>\n",
    "</h3>"
   ]
  },
  {
   "cell_type": "code",
   "execution_count": 10,
   "metadata": {},
   "outputs": [
    {
     "ename": "TypeError",
     "evalue": "'int' object is not subscriptable",
     "output_type": "error",
     "traceback": [
      "\u001b[0;31m---------------------------------------------------------------------------\u001b[0m",
      "\u001b[0;31mTypeError\u001b[0m                                 Traceback (most recent call last)",
      "\u001b[0;32m<ipython-input-10-7838f81c99c3>\u001b[0m in \u001b[0;36m<module>\u001b[0;34m\u001b[0m\n\u001b[1;32m      1\u001b[0m \u001b[0;31m# Detta ger felmeddelande\u001b[0m\u001b[0;34m\u001b[0m\u001b[0;34m\u001b[0m\u001b[0;34m\u001b[0m\u001b[0m\n\u001b[0;32m----> 2\u001b[0;31m \u001b[0mprint_substring\u001b[0m\u001b[0;34m(\u001b[0m\u001b[0;36m0\u001b[0m\u001b[0;34m,\u001b[0m \u001b[0;36m6\u001b[0m\u001b[0;34m,\u001b[0m \u001b[0;34m\"Python är coolt\"\u001b[0m\u001b[0;34m)\u001b[0m\u001b[0;34m\u001b[0m\u001b[0;34m\u001b[0m\u001b[0m\n\u001b[0m",
      "\u001b[0;32m<ipython-input-9-5f3f953fd565>\u001b[0m in \u001b[0;36mprint_substring\u001b[0;34m(text, start, end)\u001b[0m\n\u001b[1;32m      1\u001b[0m \u001b[0;31m# Definiera en funktion som skriver ut en delsträng av en större sträng\u001b[0m\u001b[0;34m\u001b[0m\u001b[0;34m\u001b[0m\u001b[0;34m\u001b[0m\u001b[0m\n\u001b[1;32m      2\u001b[0m \u001b[0;32mdef\u001b[0m \u001b[0mprint_substring\u001b[0m\u001b[0;34m(\u001b[0m\u001b[0mtext\u001b[0m\u001b[0;34m,\u001b[0m \u001b[0mstart\u001b[0m\u001b[0;34m,\u001b[0m \u001b[0mend\u001b[0m\u001b[0;34m)\u001b[0m\u001b[0;34m:\u001b[0m\u001b[0;34m\u001b[0m\u001b[0;34m\u001b[0m\u001b[0m\n\u001b[0;32m----> 3\u001b[0;31m     \u001b[0msubstr\u001b[0m \u001b[0;34m=\u001b[0m \u001b[0mtext\u001b[0m\u001b[0;34m[\u001b[0m\u001b[0mstart\u001b[0m\u001b[0;34m:\u001b[0m\u001b[0mend\u001b[0m\u001b[0;34m]\u001b[0m\u001b[0;34m\u001b[0m\u001b[0;34m\u001b[0m\u001b[0m\n\u001b[0m\u001b[1;32m      4\u001b[0m     \u001b[0mprint\u001b[0m\u001b[0;34m(\u001b[0m\u001b[0msubstr\u001b[0m\u001b[0;34m)\u001b[0m\u001b[0;34m\u001b[0m\u001b[0;34m\u001b[0m\u001b[0m\n\u001b[1;32m      5\u001b[0m \u001b[0;34m\u001b[0m\u001b[0m\n",
      "\u001b[0;31mTypeError\u001b[0m: 'int' object is not subscriptable"
     ]
    }
   ],
   "source": [
    "# Detta ger felmeddelande\n",
    "print_substring(0, 6, \"Python är coolt\")"
   ]
  },
  {
   "cell_type": "markdown",
   "metadata": {},
   "source": [
    "<span></span>\n",
    "<h3>\n",
    "<ul>\n",
    "    <li>Vi kan dock frångå ordningen om vi namnger parametrarna vid anrop:</li>\n",
    "</ul>\n",
    "</h3>"
   ]
  },
  {
   "cell_type": "code",
   "execution_count": 11,
   "metadata": {},
   "outputs": [
    {
     "name": "stdout",
     "output_type": "stream",
     "text": [
      "Python\n"
     ]
    }
   ],
   "source": [
    "# Namngivna parametrar\n",
    "print_substring(start=0, end=6, text=\"Python är coolt\")"
   ]
  },
  {
   "cell_type": "markdown",
   "metadata": {},
   "source": [
    "<span></span>\n",
    "<h3>\n",
    "<ul>\n",
    "    <li>Ibland har vi parametrar som oftast har ett specifikt värde, men som vi ibland kan behöva ändra på</li>\n",
    "    <li>Vi kan till exempel anta att vi oftast börjar på första bokstaven när vi ska skriva ut delsträngen</li>\n",
    "    <li>I Python kan man ange ett <span style=\"color:#BB2222\">default</span>-värde på en parameter</li>\n",
    "    <li>Om inget annat värde anges när funktionen anropas, används default-värdet</li>\n",
    "</ul>\n",
    "<span></span>\n",
    "<ul>\n",
    "    <li>Samma funktion med default-värde ser då ut så här:</li>\n",
    "</ul>\n",
    "</h3>"
   ]
  },
  {
   "cell_type": "code",
   "execution_count": 12,
   "metadata": {},
   "outputs": [
    {
     "name": "stdout",
     "output_type": "stream",
     "text": [
      "Python\n",
      "ython\n"
     ]
    }
   ],
   "source": [
    "# Definiera en funktion som skriver ut en delsträng av en större sträng\n",
    "def print_substring(text, end, start=0):\n",
    "    substr = text[start:end]\n",
    "    print(substr)\n",
    "    \n",
    "# Start-värdet behöver inte anges eftersom vi börjar från början på textsträngen\n",
    "print_substring(\"Python är coolt\", 6)\n",
    "# Vi kan ange annat start-värde om vi vill\n",
    "print_substring(\"Python är coolt\", 6, 1)"
   ]
  },
  {
   "cell_type": "markdown",
   "metadata": {},
   "source": [
    "<span></span>\n",
    "<h3>\n",
    "<ul>\n",
    "    <li>Observera att vi alltid måste ange alla parametrar utan default-värde innan parametrarna med default-värde när vi definierar en funktion</li>\n",
    "</ul>\n",
    "</h3>"
   ]
  },
  {
   "cell_type": "markdown",
   "metadata": {},
   "source": [
    "<span></span>\n",
    "<h1>Algoritmer</h1>\n",
    "<h3>\n",
    "<ul>\n",
    "    <li>En <span style=\"color:#BB2222\">algoritm</span> är en <span style=\"color:#CC9A1E\"><em>sekvens av otvetydiga instruktioner som löser ett problem</em></span></li>\n",
    "    <li>Ett vardagligt exempel är ett recept</li>\n",
    "    <li>Vi följer en serie instruktioner från ett recept när vi vill laga en maträtt:</li>\n",
    "</ul>\n",
    "<img src=\"gfx/recept.png\"/>\n",
    "<ul>\n",
    "    <li>I programmering används algoritmer för att lösa problem som inte enbart går att lösa med en enda uträkning</li>\n",
    "    <li>En av de äldsta kända algoritmerna är <span style=\"color:#BB2222\">Euklides algoritm</span></li>\n",
    "    <li>Den räknar ut den största gemensamma delaren till två heltal</li>\n",
    "    <li>Algoritmen beskrivs så här på Wikipedia:</li>\n",
    "</ul>\n",
    "<img src=\"gfx/euklides.png\"/>\n",
    "<ul>\n",
    "    <li>Vår uppgift är att skriva en funktion för <span style=\"color:#BB2222\">Euklides algoritm</span>:</li>\n",
    "</ul>\n",
    "</h3>"
   ]
  },
  {
   "cell_type": "code",
   "execution_count": 13,
   "metadata": {},
   "outputs": [
    {
     "name": "stdout",
     "output_type": "stream",
     "text": [
      "Största gemensamma delaren för 1071 och 1029 är 21\n",
      "Största gemensamma delaren för 294 och 126 är 42\n"
     ]
    }
   ],
   "source": [
    "# Euklides algoritm - räkna ut största gemensamma delaren till två heltal\n",
    "def euklides(a, b):\n",
    "    # Upprepa så länge b inte är 0\n",
    "    while b != 0:\n",
    "        c = a % b\n",
    "        a = b\n",
    "        b = c\n",
    "    # Returnera svaret\n",
    "    return a\n",
    "\n",
    "# Använd funktionen\n",
    "print(\"Största gemensamma delaren för 1071 och 1029 är\", euklides(1071, 1029))\n",
    "print(\"Största gemensamma delaren för 294 och 126 är\", euklides(294, 126))"
   ]
  },
  {
   "cell_type": "markdown",
   "metadata": {},
   "source": [
    "<span></span>\n",
    "<h3>\n",
    "<ul>\n",
    "    <li>Till skillnad mot våra tidigare egen-definierade funktioner skickar vi här tillbaks ett svar</li>\n",
    "    <li>Detta görs med kommandet <span style=\"color:blue\">return</span> följt av värdet vi vill returnera</li>\n",
    "    <li>Observera också att vi inte har någon felhantering för att kontrollera och hantera villkoret <span style=\"color:#BB2222\">a > b</span></li>\n",
    "</ul>\n",
    "</h3>"
   ]
  },
  {
   "cell_type": "markdown",
   "metadata": {},
   "source": [
    "<span></span>\n",
    "<h3>\n",
    "<ul>\n",
    "    <li>I en tidigare inspelning konstaterade vi att det inte alltid går att jämföra decimaltal med ekvivalens-operatorn <span style=\"color:#BB2222\">==</span></li>\n",
    "    <li>I stället löste vi uppgiften genom att beräkna absolut-värdet av differensen mellan två decimaltal</li>\n",
    "    <li>Om differensen var mindre än ett gränsvärde, ansågs de båda talen vara lika</li>\n",
    "    <li>Vi kan modifiera vårt program för att jämföra decimaltal till att använda en funktion:</li>\n",
    "</ul>\n",
    "</h3>"
   ]
  },
  {
   "cell_type": "code",
   "execution_count": 14,
   "metadata": {},
   "outputs": [
    {
     "name": "stdout",
     "output_type": "stream",
     "text": [
      "a = 0.010000000000000009\n",
      "b = 0.009999999999999787\n",
      "Kontrollera om talen är lika:\n",
      "Talen är lika\n",
      "Ändra tolerans till 1x10^-25 och kontrollera om talen är lika:\n",
      "Talen är olika\n"
     ]
    }
   ],
   "source": [
    "# Importera funktion för absolut-värde\n",
    "from math import fabs\n",
    "\n",
    "# Definiera en funktion för att jämföra två decimaltal\n",
    "def equals(a, b, tolerance=0.0000001):\n",
    "    absdiff = fabs(a - b)\n",
    "    if (absdiff < tolerance):\n",
    "        return True\n",
    "    else:\n",
    "        return False\n",
    "    \n",
    "\n",
    "# Beräkna två decimaltal som ska vara lika\n",
    "a = 1.11 - 1.10\n",
    "b = 2.11 - 2.10\n",
    "\n",
    "# Skriv ut talen\n",
    "print(\"a =\", a)\n",
    "print(\"b =\", b)\n",
    "\n",
    "# Kontrollera om talen är lika\n",
    "print(\"Kontrollera om talen är lika:\")\n",
    "if equals(a, b):\n",
    "    print(\"Talen är lika\")\n",
    "else:\n",
    "    print(\"Talen är olika\")\n",
    "    \n",
    "# Anger vi för låg tolerans blir inte talen lika\n",
    "print(\"Ändra tolerans till 1x10^-25 och kontrollera om talen är lika:\")\n",
    "if equals(a, b, tolerance=1e-25):\n",
    "    print(\"Talen är lika\")\n",
    "else:\n",
    "    print(\"Talen är olika\")"
   ]
  },
  {
   "cell_type": "markdown",
   "metadata": {},
   "source": [
    "<span></span>\n",
    "<h3>\n",
    "<ul>\n",
    "    <li>Vi kan definiera flera funktioner i ett program, och vi kan anropa en funktion från en annan funktion</li>\n",
    "    <li>Som exempel kan vi modifiera vårt program för att räkna ut primtal från föregående inspelning med följande funktioner:\n",
    "        <ul>\n",
    "            <li>En funktion för att kontrollera om ett heltal är ett primtal</li>\n",
    "            <li>En funktion som skriver ut alla primtal mellan två angivna tal</li>\n",
    "        </ul>\n",
    "    </li>\n",
    "</ul>\n",
    "</h3>"
   ]
  },
  {
   "cell_type": "code",
   "execution_count": 15,
   "metadata": {},
   "outputs": [
    {
     "name": "stdout",
     "output_type": "stream",
     "text": [
      "2 3 5 7 11 13 17 19 23 29 31 37 41 43 47 53 59 61 67 71 73 79 83 89 97 "
     ]
    }
   ],
   "source": [
    "# Funktion för att kontrollera om ett heltal är ett primtal\n",
    "def is_prime(n):\n",
    "    # Kontrollera om talet är jämnt delbart med något tal mellan 2 och talet - 1\n",
    "    for factor in range(2, n):\n",
    "        if (n % factor == 0):\n",
    "            # Jämnt delbart - ej primtal\n",
    "            return False\n",
    "    else:\n",
    "        # Ej jämnt delbart med någon faktor - primtal\n",
    "        return True\n",
    "    \n",
    "# Funktion som skriver ut alla primtal mellan två angivna tal\n",
    "def find_primes(start, end):\n",
    "    for n in range(start, end):\n",
    "        if (is_prime(n)):\n",
    "            print(n, end=\" \")\n",
    "            \n",
    "# Skriv ut alla primtal från 2 till 100\n",
    "find_primes(2, 100)"
   ]
  },
  {
   "cell_type": "markdown",
   "metadata": {},
   "source": [
    "<span></span>\n",
    "<h3>\n",
    "<ul>\n",
    "    <li>Som vi tidigare nämnt fungerar denna algoritm för att hitta primtal bra, men är långsam för väldigt stora tal</li>\n",
    "    <li>Vi kan mäta hur lång tid något tar att köra med hjälp av funktionen <span style=\"color:blue\">time()</span> i <span style=\"color:blue\">time</span> modulen</li>\n",
    "    <li>Genom att anropa <span style=\"color:blue\">time()</span> innan vi börjar leta efter primtal och igen när vi är klara kan vi se hur lång tid sökningen tog (mätt i sekunder som decimaltal)</li>\n",
    "</ul>\n",
    "</h3>"
   ]
  },
  {
   "cell_type": "code",
   "execution_count": 16,
   "metadata": {},
   "outputs": [
    {
     "name": "stdout",
     "output_type": "stream",
     "text": [
      "Det finns 168 primtal mellan 2 och 1000 och sökningen tog 0.005 sekunder\n",
      "Det finns 9592 primtal mellan 2 och 100000 och sökningen tog 37.033 sekunder\n"
     ]
    }
   ],
   "source": [
    "# Importera time() funktionen\n",
    "from time import time\n",
    "\n",
    "# Definiera en ny funktion som räknar antalet primtal mellan två angivna tal i stället för att skriva ut dem\n",
    "def count_primes(start, end):\n",
    "    cnt = 0\n",
    "    for n in range(start, end):\n",
    "        if (is_prime(n)):\n",
    "            cnt += 1\n",
    "    return cnt\n",
    "\n",
    "# Antal primtal mellan 2 och 100\n",
    "start_time = time()\n",
    "cnt_primes = count_primes(2, 1000)\n",
    "end_time = time()\n",
    "print(\"Det finns {0} primtal mellan 2 och 1000 och sökningen tog {1:.3f} sekunder\".format(cnt_primes, end_time - start_time))\n",
    "\n",
    "# Testa lite större sökning\n",
    "start_time = time()\n",
    "cnt_primes = count_primes(2, 100000)\n",
    "end_time = time()\n",
    "print(\"Det finns {0} primtal mellan 2 och 100000 och sökningen tog {1:.3f} sekunder\".format(cnt_primes, end_time - start_time))"
   ]
  },
  {
   "cell_type": "code",
   "execution_count": null,
   "metadata": {},
   "outputs": [],
   "source": []
  }
 ],
 "metadata": {
  "kernelspec": {
   "display_name": "Python 3",
   "language": "python",
   "name": "python3"
  },
  "language_info": {
   "codemirror_mode": {
    "name": "ipython",
    "version": 3
   },
   "file_extension": ".py",
   "mimetype": "text/x-python",
   "name": "python",
   "nbconvert_exporter": "python",
   "pygments_lexer": "ipython3",
   "version": "3.7.2"
  }
 },
 "nbformat": 4,
 "nbformat_minor": 2
}
