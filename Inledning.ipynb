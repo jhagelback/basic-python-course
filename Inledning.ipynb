{
 "cells": [
  {
   "cell_type": "markdown",
   "metadata": {},
   "source": [
    "<img src=\"gfx/I-Cover.png\" width=\"830\">"
   ]
  },
  {
   "cell_type": "markdown",
   "metadata": {},
   "source": [
    "<span></span>\n",
    "<h1>Inspelningar</h1>\n",
    "<h3>\n",
    "<ul>\n",
    "    <li>Fyra inspelningar</li>\n",
    "    <li>Genomgång av olika programmeringsbegrepp med praktiska exempel i Python</li>\n",
    "</ul>\n",
    "</h3>"
   ]
  },
  {
   "cell_type": "markdown",
   "metadata": {},
   "source": [
    "<span></span>\n",
    "<h1>1. Värden och Variabler</h1>\n",
    "<h3>\n",
    "Inspelningen finns på:<br/>\n",
    "<a href=\"https://youtu.be/FXm_s04sGDU\" target=\"_blank\">youtu.be/FXm_s04sGDU</a><br/>\n",
    "<br/>\n",
    "Materialet med kodexempel finns på:<br/>\n",
    "<a href=\"https://notebooks.azure.com/jhagelback/libraries/pythoncourse/html/Variabler.ipynb\" target=\"_blank\">notebooks.azure.com/jhagelback/libraries/pythoncourse/html/Variabler.ipynb</a>"
   ]
  },
  {
   "cell_type": "markdown",
   "metadata": {},
   "source": [
    "<h2>Innehåll</h2>\n",
    "<h3>\n",
    "<ul>\n",
    "    <li>Värden: heltal, decimaltal och text</li>\n",
    "    <li>Datatyper</li>\n",
    "    <li>Variabler</li>\n",
    "    <li>Utskrifter</li>\n",
    "    <li>Precision på decimaltal</li>\n",
    "    <li>Räkneoperationer/aritmetik</li>\n",
    "</ul>\n",
    "</h3>"
   ]
  },
  {
   "cell_type": "markdown",
   "metadata": {},
   "source": [
    "<span></span>\n",
    "<h1>2. Villkor och Upprepning</h1>\n",
    "<h3>\n",
    "Inspelningen finns på:<br/>\n",
    "<a href=\"https://youtu.be/j3kIe6PAX4o\" target=\"_blank\">youtu.be/j3kIe6PAX4o</a><br/>\n",
    "<br/>\n",
    "Materialet med kodexempel finns på:<br/>\n",
    "<a href=\"https://notebooks.azure.com/jhagelback/libraries/pythoncourse/html/Villkor%20och%20Upprepning.ipynb\" target=\"_blank\">notebooks.azure.com/jhagelback/libraries/pythoncourse/html/Villkor%20och%20Upprepning.ipynb</a>"
   ]
  },
  {
   "cell_type": "markdown",
   "metadata": {},
   "source": [
    "<h2>Innehåll</h2>\n",
    "<h3>\n",
    "<ul>\n",
    "    <li>Villkor</li>\n",
    "    <li>if-satsen</li>\n",
    "    <li>Logiska jämförelser</li>\n",
    "    <li>Upprepning/iteration</li>\n",
    "    <li>while och for-satserna</li>\n",
    "    <li>Felsökning</li>\n",
    "</ul>\n",
    "</h3>"
   ]
  },
  {
   "cell_type": "markdown",
   "metadata": {},
   "source": [
    "<span></span>\n",
    "<h1>3. Funktioner</h1>\n",
    "<h3>\n",
    "Inspelningen finns på:<br/>\n",
    "<a href=\"https://youtu.be/PB4aEHGDJZ4\" target=\"_blank\">youtu.be/PB4aEHGDJZ4</a><br/>\n",
    "<br/>\n",
    "Materialet med kodexempel finns på:<br/>\n",
    "<a href=\"https://notebooks.azure.com/jhagelback/libraries/pythoncourse/html/Funktioner.ipynb\" target=\"_blank\">notebooks.azure.com/jhagelback/libraries/pythoncourse/html/Funktioner.ipynb</a>"
   ]
  },
  {
   "cell_type": "markdown",
   "metadata": {},
   "source": [
    "<h2>Innehåll</h2>\n",
    "<h3>\n",
    "<ul>\n",
    "    <li>Använda funktioner</li>\n",
    "    <li>Parametrar och returvärden</li>\n",
    "    <li>Moduler i Python</li>\n",
    "    <li>Egen-definierade funktioner</li>\n",
    "    <li>Pythons standardbibliotek</li>\n",
    "    <li>Algoritmer</li>\n",
    "</ul>\n",
    "</h3>"
   ]
  },
  {
   "cell_type": "markdown",
   "metadata": {},
   "source": [
    "<span></span>\n",
    "<h1>4. Listor</h1>\n",
    "<h3>\n",
    "Inspelningen finns på:<br/>\n",
    "<a href=\"https://youtu.be/gT7VisHlcKQ\" target=\"_blank\">youtu.be/gT7VisHlcKQ</a><br/>\n",
    "<br/>\n",
    "Materialet med kodexempel finns på:<br/>\n",
    "<a href=\"https://notebooks.azure.com/jhagelback/libraries/pythoncourse/html/Listor.ipynb\" target=\"_blank\">notebooks.azure.com/jhagelback/libraries/pythoncourse/html/Listor.ipynb</a>"
   ]
  },
  {
   "cell_type": "markdown",
   "metadata": {},
   "source": [
    "<h2>Innehåll</h2>\n",
    "<h3>\n",
    "<ul>\n",
    "    <li>Vad är en lista</li>\n",
    "    <li>Indexering</li>\n",
    "    <li>Funktioner på listor</li>\n",
    "    <li>Slicing</li>\n",
    "    <li>Statistiska beräkningar</li>\n",
    "    <li>Grafer, stapeldiagram och cirkeldiagram</li>\n",
    "</ul>\n",
    "</h3>"
   ]
  },
  {
   "cell_type": "markdown",
   "metadata": {},
   "source": [
    "<span></span>\n",
    "<h1>Måluppfyllelse</h1>\n",
    "<h3>\n",
    "Inspelningarna behandlar följande mål i kursplanen:\n",
    "</h3>\n",
    "\n",
    "<h3>\n",
    "<span style=\"color:#BB2222\">\n",
    "<ul>\n",
    "    <li>\n",
    "        behärska metoder för att skapa program och kunna reflektera över arbetssätt med programmering\n",
    "    </li>\n",
    "</ul>\n",
    "</span>\n",
    "</h3>\n",
    "\n",
    "<h3>\n",
    "<span style=\"color:#BB2222\">\n",
    "<ul>\n",
    "    <li>\n",
    "        kunna skapa, testa och förbättra algoritmer vid programmering för matematisk problemlösning\n",
    "    </li>\n",
    "</ul>\n",
    "</span>\n",
    "</h3>\n",
    "\n",
    "<h3>\n",
    "<span style=\"color:#BB2222\">\n",
    "<ul>\n",
    "    <li>\n",
    "        kunna visa hur olika programmeringsmiljöer kan bidra till att utveckla elevers matematiska förmågor\n",
    "    </li>\n",
    "</ul>\n",
    "</span>\n",
    "</h3>\n",
    "\n",
    "<h3>\n",
    "<span style=\"color:#BB2222\">\n",
    "<ul>\n",
    "    <li>\n",
    "        kunna utföra och analysera utfall av datorsimuleringar för att bedöma risker och chanser\n",
    "    </li>\n",
    "</ul>\n",
    "</span>\n",
    "</h3>"
   ]
  },
  {
   "cell_type": "code",
   "execution_count": null,
   "metadata": {},
   "outputs": [],
   "source": []
  }
 ],
 "metadata": {
  "kernelspec": {
   "display_name": "Python 3",
   "language": "python",
   "name": "python3"
  },
  "language_info": {
   "codemirror_mode": {
    "name": "ipython",
    "version": 3
   },
   "file_extension": ".py",
   "mimetype": "text/x-python",
   "name": "python",
   "nbconvert_exporter": "python",
   "pygments_lexer": "ipython3",
   "version": "3.7.2"
  }
 },
 "nbformat": 4,
 "nbformat_minor": 2
}
