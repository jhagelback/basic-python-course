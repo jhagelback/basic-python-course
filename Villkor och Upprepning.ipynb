{
 "cells": [
  {
   "cell_type": "markdown",
   "metadata": {},
   "source": [
    "<img src=\"gfx/U-Cover.png\" width=830/>"
   ]
  },
  {
   "cell_type": "markdown",
   "metadata": {},
   "source": [
    "<span></span>\n",
    "<h1>Villkor</h1>\n",
    "<h3>\n",
    "<ul>\n",
    "    <li>Hittills har våra program utfört instruktioner i sekvens</li>\n",
    "    <li>För enkla program kan detta vara tillräckligt: <em>Celcius-Fahrenheit konvertering</em>, <em>Valutaomvandlare</em>, ...</li>\n",
    "    <li>I många fall kan vi dock inte lösa uppgiften enbart med sekventiell exekvering</li>\n",
    "    <li>Programmet måste utföra olika saker beroende på någon variabels värde</li>\n",
    "    <li>Ett exempel är ett program för att beräkna skottår</li>\n",
    "    <li>Om årtalet är jämnt delbart med fyra kan det vara ett skottår, annars är det aldrig skottår</li>\n",
    "</ul>\n",
    "<span></span>\n",
    "<ul>\n",
    "    <li>Programmet utför olika saker beroende på ett <font color=\"#BB2222\">villkor</font></li>\n",
    "    <li>Om villkoret är uppfyllt (<font color=\"blue\">True</font>), utförs en sak</li>\n",
    "    <li>Om villkoret inte stämmer (<font color=\"blue\">False</font>), utförs eventuellt någonting annat</li>\n",
    "    <li>Här har vi användning av datatypen <font color=\"blue\">Boolean</font></li>\n",
    "</ul>\n",
    "</h3>"
   ]
  },
  {
   "cell_type": "markdown",
   "metadata": {},
   "source": [
    "<span></span>\n",
    "<h3>\n",
    "<ul>\n",
    "    <li>Ett villkor består av en jämförelse</li>\n",
    "    <li>Det finns flera olika typer av jämförelser vi kan använda i Python:</li>\n",
    "</ul>\n",
    "</h3>\n",
    "<table>\n",
    "    <thead>\n",
    "        <tr>\n",
    "            <th style=\"text-align:center\"><h2>Jämförelse</h2></th><th style=\"text-align:left\"><h2>Betydelse</h2></th>\n",
    "        </tr>\n",
    "    </thead>\n",
    "    <tbody>\n",
    "        <tr><td style=\"text-align:center\"><h3>a == b</h3></td><td style=\"text-align:left\"><h3>Sant om a är lika med b, annars falskt</h3></td></tr>\n",
    "        <tr><td style=\"text-align:center\"><h3>a < b</h3></td><td style=\"text-align:left\"><h3>Sant om a är mindre än b, annars falskt</h3></td></tr>\n",
    "        <tr><td style=\"text-align:center\"><h3>a <= b</h3></td><td style=\"text-align:left\"><h3>Sant om a är mindre än eller lika med b, annars falskt</h3></td></tr>\n",
    "        <tr><td style=\"text-align:center\"><h3>a > b</h3></td><td style=\"text-align:left\"><h3>Sant om a är större än b, annars falskt</h3></td></tr>\n",
    "        <tr><td style=\"text-align:center\"><h3>a >= b</h3></td><td style=\"text-align:left\"><h3>Sant om a är större än eller lika med b, annars falskt</h3></td></tr>\n",
    "        <tr><td style=\"text-align:center\"><h3>a != b</h3></td><td style=\"text-align:left\"><h3>Sant om a inte är lika med b, annars falskt</h3></td></tr>\n",
    "    </tbody>\n",
    "</table>"
   ]
  },
  {
   "cell_type": "markdown",
   "metadata": {},
   "source": [
    "<span></span>\n",
    "<h3>\n",
    "<ul>\n",
    "    <li>I Python, och i de flesta andra programmeringsspråk, görs val med uttrycket <font color=\"blue\">if</font> följt av ett villkor</li>\n",
    "    <li>Om villkoret är uppfyllt, körs ett kodblock med instruktioner:</li>\n",
    "</ul>\n",
    "<img src=\"gfx/if-block.png\" width=160/>\n",
    "</h3>"
   ]
  },
  {
   "cell_type": "markdown",
   "metadata": {},
   "source": [
    "<span></span>\n",
    "<h3>\n",
    "<ul>\n",
    "    <li>Som exempel kan vi göra ett program som utför en division mellan två heltal</li>\n",
    "    <li>Vårt program fungerar utmärkt såvida inte nämnaren är 0</li>\n",
    "    <li>Division med 0 är inte tillåtet, och programmet genererar ett felmeddelande</li>\n",
    "</ul>\n",
    "</h3>"
   ]
  },
  {
   "cell_type": "code",
   "execution_count": 1,
   "metadata": {},
   "outputs": [
    {
     "ename": "ZeroDivisionError",
     "evalue": "division by zero",
     "output_type": "error",
     "traceback": [
      "\u001b[0;31m---------------------------------------------------------------------------\u001b[0m",
      "\u001b[0;31mZeroDivisionError\u001b[0m                         Traceback (most recent call last)",
      "\u001b[0;32m<ipython-input-1-a9312705dd73>\u001b[0m in \u001b[0;36m<module>\u001b[0;34m\u001b[0m\n\u001b[1;32m      3\u001b[0m \u001b[0mb\u001b[0m \u001b[0;34m=\u001b[0m \u001b[0;36m0\u001b[0m\u001b[0;34m\u001b[0m\u001b[0;34m\u001b[0m\u001b[0m\n\u001b[1;32m      4\u001b[0m \u001b[0;31m# Utför divisionen\u001b[0m\u001b[0;34m\u001b[0m\u001b[0;34m\u001b[0m\u001b[0;34m\u001b[0m\u001b[0m\n\u001b[0;32m----> 5\u001b[0;31m \u001b[0mc\u001b[0m \u001b[0;34m=\u001b[0m \u001b[0ma\u001b[0m\u001b[0;34m/\u001b[0m\u001b[0mb\u001b[0m\u001b[0;34m\u001b[0m\u001b[0;34m\u001b[0m\u001b[0m\n\u001b[0m\u001b[1;32m      6\u001b[0m \u001b[0;31m# Skriv ut resultatet\u001b[0m\u001b[0;34m\u001b[0m\u001b[0;34m\u001b[0m\u001b[0;34m\u001b[0m\u001b[0m\n\u001b[1;32m      7\u001b[0m \u001b[0mprint\u001b[0m\u001b[0;34m(\u001b[0m\u001b[0ma\u001b[0m\u001b[0;34m,\u001b[0m \u001b[0;34m\"/\"\u001b[0m\u001b[0;34m,\u001b[0m \u001b[0mb\u001b[0m\u001b[0;34m,\u001b[0m \u001b[0;34m\"=\"\u001b[0m\u001b[0;34m,\u001b[0m \u001b[0mc\u001b[0m\u001b[0;34m)\u001b[0m\u001b[0;34m\u001b[0m\u001b[0;34m\u001b[0m\u001b[0m\n",
      "\u001b[0;31mZeroDivisionError\u001b[0m: division by zero"
     ]
    }
   ],
   "source": [
    "# Definiera två heltal\n",
    "a = 5\n",
    "b = 0\n",
    "# Utför divisionen\n",
    "c = a/b\n",
    "# Skriv ut resultatet\n",
    "print(a, \"/\", b, \"=\", c)"
   ]
  },
  {
   "cell_type": "markdown",
   "metadata": {},
   "source": [
    "<span></span>\n",
    "<h3>\n",
    "<ul>\n",
    "    <li>För att undvika att ett fel genereras kan vi kontrollera om nämnaren är skild från 0</li>\n",
    "    <li>I så fall utför vi beräkningen och skriver ut resultatet, annars gör programmet ingenting</li>\n",
    "</ul>\n",
    "</h3>"
   ]
  },
  {
   "cell_type": "code",
   "execution_count": 2,
   "metadata": {},
   "outputs": [],
   "source": [
    "# Definiera två heltal\n",
    "a = 5\n",
    "b = 0\n",
    "# Utför divisionen om b ej är 0\n",
    "if b != 0:\n",
    "    c = a/b\n",
    "    # Skriv ut resultatet\n",
    "    print(a, \"/\", b, \"=\", c)"
   ]
  },
  {
   "cell_type": "markdown",
   "metadata": {},
   "source": [
    "<span></span>\n",
    "<h3>\n",
    "<ul>\n",
    "    <li>Observera indenteringen efter if-uttrycket</li>\n",
    "    <li>Indenteringen definierar blocket med kod som körs endast om villkoret är uppfyllt</li>\n",
    "    <li>Python-standarden rekommenderar fyra blanksteg som indentering, men det går att ha fler eller färre bara antalet är konsekvent genom hela programmet</li>\n",
    "    <li>Programkod som läggs till efter kod-blocket, utan indentering, körs oavsett vad villkoret visar:</li>\n",
    "</ul>\n",
    "</h3>"
   ]
  },
  {
   "cell_type": "code",
   "execution_count": 3,
   "metadata": {},
   "outputs": [
    {
     "name": "stdout",
     "output_type": "stream",
     "text": [
      "Programmet avslutas\n"
     ]
    }
   ],
   "source": [
    "# Definiera två heltal\n",
    "a = 5\n",
    "b = 0\n",
    "# Utför divisionen om b ej är 0\n",
    "if b != 0:\n",
    "    c = a/b\n",
    "    # Skriv ut resultatet\n",
    "    print(a, \"/\", b, \"=\", c)\n",
    "# Följande körs oavsett vad villkoret visar\n",
    "print(\"Programmet avslutas\")"
   ]
  },
  {
   "cell_type": "markdown",
   "metadata": {},
   "source": [
    "<span></span>\n",
    "<h3>\n",
    "<ul>\n",
    "    <li>En utbyggnad av vårt program är att meddela användaren om att division med 0 inte går att utföra, i stället för att ingenting händer som i nuläget</li>\n",
    "    <li>Detta kan vi lösa med uttrycket <font color=\"blue\">else</font></li>\n",
    "    <li><font color=\"blue\">else</font> skrivs direkt efter if-kodblocket, och definierar ett kod-block som körs om villkoret inte uppfylls</li>\n",
    "</ul>\n",
    "</h3>"
   ]
  },
  {
   "cell_type": "code",
   "execution_count": 4,
   "metadata": {},
   "outputs": [
    {
     "name": "stdout",
     "output_type": "stream",
     "text": [
      "Division med 0 är ej tillåtet\n"
     ]
    }
   ],
   "source": [
    "# Definiera två heltal\n",
    "a = 5\n",
    "b = 0\n",
    "# Utför divisionen om b ej är 0\n",
    "if b != 0:\n",
    "    c = a/b\n",
    "    # Skriv ut resultatet\n",
    "    print(a, \"/\", b, \"=\", c)\n",
    "else:\n",
    "    print(\"Division med 0 är ej tillåtet\")"
   ]
  },
  {
   "cell_type": "markdown",
   "metadata": {},
   "source": [
    "<span></span>\n",
    "<h3>\n",
    "<ul>\n",
    "    <li>Vi vill göra ett program som informerar om det är kallt, varmt eller behagligt ute beroende på temperaturen</li>\n",
    "    <li>Vi har tre olika fall:\n",
    "        <ul>\n",
    "            <li>Kallt (mindre än 10 grader)</li>\n",
    "            <li>Behagligt (mellan 10 och 20 grader)</li>\n",
    "            <li>Varmt (mer än 20 grader)</li>\n",
    "        </ul>\n",
    "    </li>\n",
    "    <li>Detta kan vi inte enbart lösa med <font color=\"blue\">if</font> och <font color=\"blue\">else</font> eftersom de bara kan hantera två fall</li>\n",
    "    <li>Vi behöver utöka med ett tredje uttryck: <font color=\"blue\">elif</font> (else if)</li>\n",
    "    <li><font color=\"blue\">elif</font> ligger efter <font color=\"blue\">if</font> och dess villkor testas endast om föregående villkor (<font color=\"blue\">if</font>) inte uppfylldes</li>\n",
    "    <li><font color=\"blue\">else</font> ligger alltid sist, och körs endast om inget av tidigare villkor (<font color=\"blue\">if</font> och <font color=\"blue\">elif</font>) uppfylldes</li>\n",
    "</ul>\n",
    "</h3>"
   ]
  },
  {
   "cell_type": "code",
   "execution_count": 5,
   "metadata": {},
   "outputs": [
    {
     "name": "stdout",
     "output_type": "stream",
     "text": [
      "Mata in temperaturen:\n",
      "17\n",
      "Det är behagligt ute\n"
     ]
    }
   ],
   "source": [
    "# Be användaren mata in en temperatur\n",
    "print(\"Mata in temperaturen:\")\n",
    "temp = float(input())\n",
    "\n",
    "# Kontrollera om varmt, kallt eller behagligt\n",
    "if temp < 10:\n",
    "    print(\"Det är kallt ute\")\n",
    "elif temp > 20:\n",
    "    print(\"Det är varmt ute\")\n",
    "else:\n",
    "    print(\"Det är behagligt ute\")"
   ]
  },
  {
   "cell_type": "markdown",
   "metadata": {},
   "source": [
    "<span></span>\n",
    "<h3>\n",
    "<ul>\n",
    "    <li>I vårt nästa program vill vi omvandla en siffra (0 till 9) till text (ett, två, ...)</li>\n",
    "    <li>Nu har vi 10 olika fall som måste hanteras</li>\n",
    "    <li>I Python kan man ha godtyckligt antal <font color=\"blue\">elif</font></li>\n",
    "    <li>Kravet är att alla ligger efter <font color=\"blue\">if</font> och innan <font color=\"blue\">else</font></li>\n",
    "    <li>Sekvensen av villkor behöver inte avslutas med <font color=\"blue\">else</font></li>\n",
    "</ul>\n",
    "</h3>"
   ]
  },
  {
   "cell_type": "code",
   "execution_count": 7,
   "metadata": {},
   "outputs": [
    {
     "name": "stdout",
     "output_type": "stream",
     "text": [
      "Mata in en siffra mellan 0 och 9:\n",
      "7\n",
      "Sju\n"
     ]
    }
   ],
   "source": [
    "# Be användaren mata in en en siffra\n",
    "print(\"Mata in en siffra mellan 0 och 9:\")\n",
    "digit = int(input())\n",
    "\n",
    "# Omvandla till text\n",
    "if digit == 0:\n",
    "    print(\"Noll\")\n",
    "elif digit == 1:\n",
    "    print(\"Ett\")\n",
    "elif digit == 2:\n",
    "    print(\"Två\")\n",
    "elif digit == 3:\n",
    "    print(\"Tre\")\n",
    "elif digit == 4:\n",
    "    print(\"Fyra\")\n",
    "elif digit == 5:\n",
    "    print(\"Fem\")\n",
    "elif digit == 6:\n",
    "    print(\"Sex\")\n",
    "elif digit == 7:\n",
    "    print(\"Sju\")\n",
    "elif digit == 8:\n",
    "    print(\"Åtta\")\n",
    "elif digit == 9:\n",
    "    print(\"Nio\")"
   ]
  },
  {
   "cell_type": "markdown",
   "metadata": {},
   "source": [
    "<span></span>\n",
    "<h3>\n",
    "<ul>\n",
    "    <li>I nuläget kontrollerar vi inte om användaren matar in ett korrekt heltal (0 till 9)</li>\n",
    "    <li>Vill vi informera användaren om att ett felaktigt tal har matats in lägger vi helt enkelt till <font color=\"blue\">else</font></li>\n",
    "</ul>\n",
    "</h3>"
   ]
  },
  {
   "cell_type": "code",
   "execution_count": 8,
   "metadata": {},
   "outputs": [
    {
     "name": "stdout",
     "output_type": "stream",
     "text": [
      "Mata in en siffra mellan 0 och 9:\n",
      "42\n",
      "Fel! Mata in en siffra mellan 0 och 9\n"
     ]
    }
   ],
   "source": [
    "# Be användaren mata in en en siffra\n",
    "print(\"Mata in en siffra mellan 0 och 9:\")\n",
    "digit = int(input())\n",
    "\n",
    "# Omvandla till text\n",
    "if digit == 0:\n",
    "    print(\"Noll\")\n",
    "elif digit == 1:\n",
    "    print(\"Ett\")\n",
    "elif digit == 2:\n",
    "    print(\"Två\")\n",
    "elif digit == 3:\n",
    "    print(\"Tre\")\n",
    "elif digit == 4:\n",
    "    print(\"Fyra\")\n",
    "elif digit == 5:\n",
    "    print(\"Fem\")\n",
    "elif digit == 6:\n",
    "    print(\"Sex\")\n",
    "elif digit == 7:\n",
    "    print(\"Sju\")\n",
    "elif digit == 8:\n",
    "    print(\"Åtta\")\n",
    "elif digit == 9:\n",
    "    print(\"Nio\")\n",
    "else:\n",
    "    print(\"Fel! Mata in en siffra mellan 0 och 9\")"
   ]
  },
  {
   "cell_type": "markdown",
   "metadata": {},
   "source": [
    "<span></span>\n",
    "<h3>\n",
    "<ul>\n",
    "    <li>Det är möjligt att lösa uppgiften enbart med <font color=\"blue\">if</font> (utan <font color=\"blue\">elif</font>)</li>\n",
    "    <li>Då kan vi dock inte lägga till en <font color=\"blue\">else</font> i slutet som informerar om att ett felaktigt heltal har matats in</li>\n",
    "    <li><font color=\"blue\">else</font> körs endast om föregående <font color=\"blue\">if</font> och <font color=\"blue\">elif</font> inte uppfylldes</li>\n",
    "    <li>Eftersom denna lösning har 10 <font color=\"blue\">if</font> kan vi inte använda oss av <font color=\"blue\">else</font> på samma sätt, utan måste lägga till ytterligare <font color=\"blue\">if</font> för felhantering</li>\n",
    "</ul>\n",
    "</h3>"
   ]
  },
  {
   "cell_type": "code",
   "execution_count": 9,
   "metadata": {},
   "outputs": [
    {
     "name": "stdout",
     "output_type": "stream",
     "text": [
      "Mata in en siffra mellan 0 och 9:\n",
      "12\n",
      "Fel! Mata in en siffra mellan 0 och 9\n"
     ]
    }
   ],
   "source": [
    "# Be användaren mata in en en siffra\n",
    "print(\"Mata in en siffra mellan 0 och 9:\")\n",
    "digit = int(input())\n",
    "\n",
    "# Omvandla till text\n",
    "if digit == 0:\n",
    "    print(\"Noll\")\n",
    "if digit == 1:\n",
    "    print(\"Ett\")\n",
    "if digit == 2:\n",
    "    print(\"Två\")\n",
    "if digit == 3:\n",
    "    print(\"Tre\")\n",
    "if digit == 4:\n",
    "    print(\"Fyra\")\n",
    "if digit == 5:\n",
    "    print(\"Fem\")\n",
    "if digit == 6:\n",
    "    print(\"Sex\")\n",
    "if digit == 7:\n",
    "    print(\"Sju\")\n",
    "if digit == 8:\n",
    "    print(\"Åtta\")\n",
    "if digit == 9:\n",
    "    print(\"Nio\")\n",
    "if digit < 0:\n",
    "    print(\"Fel! Mata in en siffra mellan 0 och 9\")\n",
    "if digit > 9:\n",
    "    print(\"Fel! Mata in en siffra mellan 0 och 9\")"
   ]
  },
  {
   "cell_type": "markdown",
   "metadata": {},
   "source": [
    "<span></span>\n",
    "<h3>\n",
    "<ul>\n",
    "    <li>Vilken lösning man väljer handlar till viss del om tycke och smak</li>\n",
    "    <li>Personligen tycker jag lösningen med <font color=\"blue\">if/elif/else</font> ser bättre ut</li>\n",
    "</ul>\n",
    "</h3>"
   ]
  },
  {
   "cell_type": "markdown",
   "metadata": {},
   "source": [
    "<span></span>\n",
    "<h3>\n",
    "<ul>\n",
    "    <li>I nästa exempel ber vi användaren mata in ett heltal mellan 0 och 9999</li>\n",
    "    <li>Vi ska därefter skriva ut talet på skärmen med exakt fyra tecken genom att lägga till nollor före talet vid behov (34 blir alltså 0034)</li>\n",
    "    <li>Vi ska också se till att om användaren matar in ett negativt tal, sätts talet till 0</li>\n",
    "    <li>Och om användaren matar in ett tal större än 9999, sätts talet till 9999</li>\n",
    "</ul>\n",
    "</h3>"
   ]
  },
  {
   "cell_type": "code",
   "execution_count": 10,
   "metadata": {},
   "outputs": [
    {
     "name": "stdout",
     "output_type": "stream",
     "text": [
      "Mata in ett heltal mellan 0 och 9999:\n",
      "1096\n",
      "1096\n"
     ]
    }
   ],
   "source": [
    "# Be användaren mata in ett heltal mellan 0 och 9999\n",
    "print(\"Mata in ett heltal mellan 0 och 9999:\")\n",
    "tal = int(input())\n",
    "\n",
    "# Felhantering för otillåtna tal\n",
    "if tal < 0:\n",
    "    tal = 0\n",
    "if tal > 9999:\n",
    "    tal = 9999\n",
    "    \n",
    "# Utskriftshantering\n",
    "if tal < 10:\n",
    "    print(\"000\" + str(tal))\n",
    "elif tal < 100:\n",
    "    print(\"00\" + str(tal))\n",
    "elif tal < 1000:\n",
    "    print(\"0\" + str(tal))\n",
    "else:\n",
    "    print(tal)"
   ]
  },
  {
   "cell_type": "markdown",
   "metadata": {},
   "source": [
    "<span></span>\n",
    "<h3>\n",
    "<ul>\n",
    "    <li>Här måste vi använda <font color=\"blue\">elif</font> eftersom det är två jämförelser som båda måste vara uppfyllda:<br/>10 <= tal < 100</li>\n",
    "    <li>Det går att lösa uppgiften med enbart <font color=\"blue\">if</font> om vi använder sammansatta jämförelser</li>\n",
    "    <li>Detta görs med de logiska operatorerna <font color=\"blue\">and</font>, <font color=\"blue\">or</font> eller <font color=\"blue\">not</font>\n",
    "        <ul>\n",
    "            <li>För <font color=\"blue\">and</font> måste båda operanderna vara sanna</li>\n",
    "            <li>För <font color=\"blue\">or</font> måste någon av de båda operanderna vara sanna</li>\n",
    "            <li><font color=\"blue\">not</font> står för negering (inte)</li>\n",
    "        </ul>\n",
    "    </li>\n",
    "</ul>\n",
    "<span></span>\n",
    "<ul>\n",
    "    <li>Vi kan beskriva resultatet av de olika logiska operatorerna i en sanningstabell:</li>\n",
    "</ul>\n",
    "</h3>\n",
    "<table>\n",
    "    <thead>\n",
    "        <tr>\n",
    "            <th style=\"text-align:center\"><h2>Operand 1</h2></th>\n",
    "            <th style=\"text-align:center\"><h2>Operand 2</h2></th>\n",
    "            <th style=\"text-align:center\"><h2>O1 <font color=\"blue\">and</font> O2</h2></th>\n",
    "            <th style=\"text-align:center\"><h2>O1 <font color=\"blue\">or</font> O2</h2></th>\n",
    "            <th style=\"text-align:center\"><h2><font color=\"blue\">not</font> O1</h2></th>\n",
    "        </tr>\n",
    "    </thead>\n",
    "    <tbody>\n",
    "        <tr>\n",
    "            <td style=\"text-align:center\"><h3><font color=\"red\">False</font></h3></td>\n",
    "            <td style=\"text-align:center\"><h3><font color=\"red\">False</font></h3></td>\n",
    "            <td style=\"text-align:center\"><h3><font color=\"red\">False</font></h3></td>\n",
    "            <td style=\"text-align:center\"><h3><font color=\"red\">False</font></h3></td>\n",
    "            <td style=\"text-align:center\"><h3><font color=\"green\">True</font></h3></td>\n",
    "        </tr>\n",
    "        <tr>\n",
    "            <td style=\"text-align:center\"><h3><font color=\"red\">False</font></h3></td>\n",
    "            <td style=\"text-align:center\"><h3><font color=\"green\">True</font></h3></td>\n",
    "            <td style=\"text-align:center\"><h3><font color=\"red\">False</font></h3></td>\n",
    "            <td style=\"text-align:center\"><h3><font color=\"green\">True</font></h3></td>\n",
    "            <td style=\"text-align:center\"><h3><font color=\"green\">True</font></h3></td>\n",
    "        </tr>\n",
    "        <tr>\n",
    "            <td style=\"text-align:center\"><h3><font color=\"green\">True</font></h3></td>\n",
    "            <td style=\"text-align:center\"><h3><font color=\"red\">False</font></h3></td>\n",
    "            <td style=\"text-align:center\"><h3><font color=\"red\">False</font></h3></td>\n",
    "            <td style=\"text-align:center\"><h3><font color=\"green\">True</font></h3></td>\n",
    "            <td style=\"text-align:center\"><h3><font color=\"red\">False</font></h3></td>\n",
    "        </tr>\n",
    "        <tr>\n",
    "            <td style=\"text-align:center\"><h3><font color=\"green\">True</font></h3></td>\n",
    "            <td style=\"text-align:center\"><h3><font color=\"green\">True</font></h3></td>\n",
    "            <td style=\"text-align:center\"><h3><font color=\"green\">True</font></h3></td>\n",
    "            <td style=\"text-align:center\"><h3><font color=\"green\">True</font></h3></td>\n",
    "            <td style=\"text-align:center\"><h3><font color=\"red\">False</font></h3></td>\n",
    "        </tr>\n",
    "    </tbody>\n",
    "</table>"
   ]
  },
  {
   "cell_type": "markdown",
   "metadata": {},
   "source": [
    "<span></span>\n",
    "<h3>\n",
    "<ul>\n",
    "    <li>Nedan följer en lösning utan <font color=\"blue\">elif</font> men med sammansatta jämförelser:</li>\n",
    "</ul>\n",
    "</h3>"
   ]
  },
  {
   "cell_type": "code",
   "execution_count": 11,
   "metadata": {},
   "outputs": [
    {
     "name": "stdout",
     "output_type": "stream",
     "text": [
      "Mata in ett heltal mellan 0 och 9999:\n",
      "9006\n",
      "9006\n"
     ]
    }
   ],
   "source": [
    "# Be användaren mata in ett heltal mellan 0 och 9999\n",
    "print(\"Mata in ett heltal mellan 0 och 9999:\")\n",
    "tal = int(input())\n",
    "\n",
    "# Felhantering för otillåtna tal\n",
    "if tal < 0:\n",
    "    tal = 0\n",
    "if tal > 9999:\n",
    "    tal = 9999\n",
    "    \n",
    "# Utskriftshantering\n",
    "if tal < 10:\n",
    "    print(\"000\" + str(tal))\n",
    "if tal >= 10 and tal < 100:\n",
    "    print(\"00\" + str(tal))\n",
    "if tal >= 100 and tal < 1000:\n",
    "    print(\"0\" + str(tal))\n",
    "if tal >= 1000:\n",
    "    print(tal)"
   ]
  },
  {
   "cell_type": "markdown",
   "metadata": {},
   "source": [
    "<span></span>\n",
    "<h3>\n",
    "<ul>\n",
    "    <li>I vårt tidigare exempel gav vi användaren ett felmeddelande om ett heltal som inte var mellan 0 och 9 matades in</li>\n",
    "    <li>Detta löste vi med två if-satser</li>\n",
    "    <li>Detta kan i stället lösas med <font color=\"blue\">or</font>:</li>\n",
    "</ul>\n",
    "</h3>"
   ]
  },
  {
   "cell_type": "code",
   "execution_count": 12,
   "metadata": {},
   "outputs": [
    {
     "name": "stdout",
     "output_type": "stream",
     "text": [
      "Mata in en siffra mellan 0 och 9:\n",
      "42\n",
      "Fel! Mata in en siffra mellan 0 och 9\n"
     ]
    }
   ],
   "source": [
    "# Be användaren mata in en siffra\n",
    "print(\"Mata in en siffra mellan 0 och 9:\")\n",
    "digit = int(input())\n",
    "\n",
    "# Felhantering\n",
    "if digit < 0 or digit > 9:\n",
    "    print(\"Fel! Mata in en siffra mellan 0 och 9\")"
   ]
  },
  {
   "cell_type": "markdown",
   "metadata": {},
   "source": [
    "<span></span>\n",
    "<h1>Jämförelser mellan decimaltal</h1>\n",
    "<h3>\n",
    "<ul>\n",
    "    <li>Ekvivalens-jämförelsen (==) jämför om två tal är exakt lika</li>\n",
    "    <li>Detta kan bli problem om de två talen vi vill jämföra är decimaltal, då vi tidigare konstaterat att många decimaltal inte kan anges helt exakt i ett datorsystem</li>\n",
    "    <li>Se följande exempel:</li>\n",
    "</ul>\n",
    "</h3>"
   ]
  },
  {
   "cell_type": "code",
   "execution_count": 13,
   "metadata": {},
   "outputs": [
    {
     "name": "stdout",
     "output_type": "stream",
     "text": [
      "a = 0.010000000000000009\n",
      "b = 0.009999999999999787\n",
      "Talen är olika\n"
     ]
    }
   ],
   "source": [
    "# Beräkna två decimaltal som ska vara lika\n",
    "a = 1.11 - 1.10\n",
    "b = 2.11 - 2.10\n",
    "\n",
    "# Skriv ut talen\n",
    "print(\"a =\", a)\n",
    "print(\"b =\", b)\n",
    "\n",
    "# Försök jämföra talen\n",
    "if a == b:\n",
    "    print(\"Talen är lika\")\n",
    "else:\n",
    "    print(\"Talen är olika\")"
   ]
  },
  {
   "cell_type": "markdown",
   "metadata": {},
   "source": [
    "<span></span>\n",
    "<h3>\n",
    "<ul>\n",
    "    <li>För att kunna jämföra de båda talen behöver vi beräkna differensen mellan dem</li>\n",
    "    <li>Om differensen är mindre än ett förutbestämt lågt värde, anser vi att talen är lika</li>\n",
    "    <li>Om differensen är större än gränsvärdet, anser vi att talen är olika</li>\n",
    "</ul>\n",
    "</h3>"
   ]
  },
  {
   "cell_type": "code",
   "execution_count": 14,
   "metadata": {},
   "outputs": [
    {
     "name": "stdout",
     "output_type": "stream",
     "text": [
      "a = 0.010000000000000009\n",
      "b = 0.009999999999999787\n",
      "diff = 2.220446049250313e-16\n",
      "Talen är lika\n"
     ]
    }
   ],
   "source": [
    "# Beräkna två decimaltal som ska vara lika\n",
    "a = 1.11 - 1.10\n",
    "b = 2.11 - 2.10\n",
    "\n",
    "# Skriv ut talen\n",
    "print(\"a =\", a)\n",
    "print(\"b =\", b)\n",
    "\n",
    "# Beräkna differensen\n",
    "diff = a - b\n",
    "# Och beräkna dess absolut-värde\n",
    "if diff < 0:\n",
    "    diff = -diff\n",
    "print(\"diff =\", diff)\n",
    "    \n",
    "# Jämför talen genom att kontrollera hur stor differensen är\n",
    "if diff < 0.0000001:\n",
    "    print(\"Talen är lika\")\n",
    "else:\n",
    "    print(\"Talen är olika\")"
   ]
  },
  {
   "cell_type": "markdown",
   "metadata": {},
   "source": [
    "<span></span>\n",
    "<h1>Nästlade villkor</h1>\n",
    "<h3>\n",
    "<ul>\n",
    "    <li>Vi ska återgå till vårt exempel med att beräkna om ett årtal är ett skottår</li>\n",
    "    <li>Om vi inte vet hur vi ska kontrollera detta, kan vi googla på <font color=\"#666666\"><em>beräkna skottår</em></font></li>\n",
    "    <li>Jag fick då till exempel fram följande från Microsofts supportsidor:</li>\n",
    "</ul>\n",
    "<img src=\"gfx/skottar.png\"/>\n",
    "<ul>\n",
    "    <li>För att lösa detta måste vi göra jämförelser i flera steg</li>\n",
    "    <li>Detta kallas <font color=\"#BB2222\">nästlade villkor</font>: if-satser i andra if-satser</li>\n",
    "</ul>\n",
    "</h3>"
   ]
  },
  {
   "cell_type": "markdown",
   "metadata": {},
   "source": [
    "<span></span>\n",
    "<h3>\n",
    "<ul>\n",
    "    <li>När vi behöver jämföra om ett tal är jämnt delbart med ett annat tal har vi användning av <font color=\"blue\">modulo</font> (%)</li>\n",
    "    <li>Vår lösning använder också sig av en boolean-variabel, ofta kallad flagga, som initieras till <font color=\"blue\">False</font> men som sätts till <font color=\"blue\">True</font> om årtalet är ett skottår</li>\n",
    "</ul>\n",
    "</h3>"
   ]
  },
  {
   "cell_type": "code",
   "execution_count": 15,
   "metadata": {},
   "outputs": [
    {
     "name": "stdout",
     "output_type": "stream",
     "text": [
      "Ange ett årtal:\n",
      "2007\n",
      "2007 är inte skottår\n"
     ]
    }
   ],
   "source": [
    "# Be användaren mata in ett årtal\n",
    "print(\"Ange ett årtal:\")\n",
    "year = int(input())\n",
    "\n",
    "# Kontrollera om årtalet är ett skottår\n",
    "leapyear = False\n",
    "if year % 4 == 0:\n",
    "    if year % 100 == 0:\n",
    "        if year % 400 == 0:\n",
    "            leapyear = True\n",
    "    else:\n",
    "        leapyear = True\n",
    "        \n",
    "# Skriv ut resultatet\n",
    "if leapyear:\n",
    "    print(year, \"är ett skottår\")\n",
    "else:\n",
    "    print(year, \"är inte skottår\")"
   ]
  },
  {
   "cell_type": "markdown",
   "metadata": {},
   "source": [
    "<span></span>\n",
    "<h1>Uttryck med villkor</h1>\n",
    "<h3>\n",
    "<ul>\n",
    "    <li>När vi jämförde två decimaltal med varandra behövde vi beräkna absolut-värdet på differensen mellan de två talen</li>\n",
    "    <li>Absolut-värdet på ett tal beräknas enligt följande:</li>\n",
    "</ul>\n",
    "<img src=\"gfx/abs.png\"/>\n",
    "<ul>\n",
    "    <li>Detta löste vi med en tilldelning och en if-sats</li>\n",
    "    <li>Ett annat sätt att lösa detta på är uttryck (till exempel tilldelning) med villkor:</li>\n",
    "</ul>\n",
    "<img src=\"gfx/cond_expr.png\" width=400/>\n",
    "</h3>"
   ]
  },
  {
   "cell_type": "code",
   "execution_count": 16,
   "metadata": {},
   "outputs": [
    {
     "name": "stdout",
     "output_type": "stream",
     "text": [
      "-5\n",
      "|x| = 5.0\n"
     ]
    }
   ],
   "source": [
    "# Be användaren mata in ett tal\n",
    "x = float(input())\n",
    "\n",
    "# Beräkna absolut-värdet\n",
    "absX = x if x >= 0 else -x\n",
    "\n",
    "# Skriv ut resultatet\n",
    "print(\"|x| =\", absX)"
   ]
  },
  {
   "cell_type": "markdown",
   "metadata": {},
   "source": [
    "<span></span>\n",
    "<h3>\n",
    "<ul>\n",
    "    <li>Anledningen till att vi inte kan utföra division med 0 är att mindre och mindre nämnare ger större och större kvot</li>\n",
    "    <li>Kvoten går mot oändligheten när nämnaren går mot noll</li>\n",
    "    <li>I stället för att ge felmeddelande om användaren försöker dividera med noll, kan vi sätta resultatet till ett väldigt högt tal</li>\n",
    "    <li>Detta kan löses med uttryck med villkor:</li>\n",
    "</ul>"
   ]
  },
  {
   "cell_type": "code",
   "execution_count": 17,
   "metadata": {},
   "outputs": [
    {
     "name": "stdout",
     "output_type": "stream",
     "text": [
      "13 / 0 = 1e+100\n"
     ]
    }
   ],
   "source": [
    "# Definiera två tal\n",
    "a = 13\n",
    "b = 0\n",
    "\n",
    "# Utför division mellan talen\n",
    "# Om nämnaren är 0, sätt resultatet till ett väldigt högt tal\n",
    "kvot = a / b if b != 0 else 1e100\n",
    "\n",
    "# Skriv ut resultatet\n",
    "print(a, \"/\", b, \"=\", kvot)"
   ]
  },
  {
   "cell_type": "markdown",
   "metadata": {},
   "source": [
    "<span></span>\n",
    "<h1>Felaktiga villkor</h1>\n",
    "<h3>\n",
    "<ul>\n",
    "    <li>Antag att vi har följande villkor:</li>\n",
    "</ul>\n",
    "<img src=\"gfx/tautology.png\" width=300/>\n",
    "<ul>\n",
    "    <li>Villkoret är alltid sant oavsett värdet på x!</li>\n",
    "    <li>Detta kallas för en <font color=\"#BB2222\">tautologi</font></li>\n",
    "    <li>Villkoret hade i stället kunna skrivas med enbart <font color=\"blue\">True</font></li>\n",
    "</ul>\n",
    "</h3>"
   ]
  },
  {
   "cell_type": "markdown",
   "metadata": {},
   "source": [
    "<h3>\n",
    "<ul>\n",
    "    <li>Antag att vi i stället har följande villkor:</li>\n",
    "</ul>\n",
    "<img src=\"gfx/contradict.png\" width=300/>\n",
    "<ul>\n",
    "    <li>Villkoret är alltid falskt oavsett värdet på x!</li>\n",
    "    <li>Detta kallas för en <font color=\"#BB2222\">kontradiktion</font></li>\n",
    "    <li>Villkoret hade i stället kunna skrivas med enbart <font color=\"blue\">False</font></li>\n",
    "</ul>\n",
    "</h3>"
   ]
  },
  {
   "cell_type": "markdown",
   "metadata": {},
   "source": [
    "<h3>\n",
    "<ul>\n",
    "    <li>Den här typen av logiska fel genererar inga felmeddelanden i Python</li>\n",
    "    <li>I stället uppför sig programmet på sätt som vi inte förväntar oss</li>\n",
    "    <li>Det är ofta svårt att upptäcka dessa typer av fel</li>\n",
    "</ul>\n",
    "</h3>"
   ]
  },
  {
   "cell_type": "markdown",
   "metadata": {},
   "source": [
    "<span></span>\n",
    "<h1>Upprepning</h1>\n",
    "<h3>\n",
    "<ul>\n",
    "    <li>Antag att vi vill skriva ut talen 1 till 5</li>\n",
    "    <li>Detta kan vi lösa med 5 print-satser:</li>\n",
    "</ul>"
   ]
  },
  {
   "cell_type": "code",
   "execution_count": 18,
   "metadata": {},
   "outputs": [
    {
     "name": "stdout",
     "output_type": "stream",
     "text": [
      "1\n",
      "2\n",
      "3\n",
      "4\n",
      "5\n"
     ]
    }
   ],
   "source": [
    "# Skriv ut talen 1 till 5\n",
    "print(1)\n",
    "print(2)\n",
    "print(3)\n",
    "print(4)\n",
    "print(5)"
   ]
  },
  {
   "cell_type": "markdown",
   "metadata": {},
   "source": [
    "<span></span>\n",
    "<h3>\n",
    "<ul>\n",
    "    <li>Ska vi i stället skriva ut talen 1 till 100 blir det väldigt många print-satser</li>\n",
    "    <li>Ett bättre sätt är att upprepa ett kod-block (i vårt fall print-satsen) ett visst antal gånger</li>\n",
    "    <li>Upprepning kallas i programmeringsvärlden för <font color=\"#BB2222\">iteration</font></li>\n",
    "    <li>Kod-blocket som upprepas körs i en <font color=\"#BB2222\">loop</font></li>\n",
    "    <li>Detta kan göras med uttrycket <font color=\"blue\">while</font> följt av ett villkor för hur länge upprepningen ska fortsätta:</li>\n",
    "</ul>\n",
    "<img src=\"gfx/while-block.png\" width=180/>\n",
    "</h3>"
   ]
  },
  {
   "cell_type": "markdown",
   "metadata": {},
   "source": [
    "<span></span>\n",
    "<h3>\n",
    "<ul>\n",
    "    <li>Nedan följer ett exempel på en lösning med <font color=\"blue\">while</font> i stället för 5 print-satser:</li>\n",
    "</ul>\n",
    "</h3>"
   ]
  },
  {
   "cell_type": "code",
   "execution_count": 19,
   "metadata": {},
   "outputs": [
    {
     "name": "stdout",
     "output_type": "stream",
     "text": [
      "1\n",
      "2\n",
      "3\n",
      "4\n",
      "5\n"
     ]
    }
   ],
   "source": [
    "# Skriv ut talen 1 till 5 med iteration\n",
    "cnt = 1\n",
    "while cnt <= 5:\n",
    "    print(cnt)\n",
    "    cnt += 1"
   ]
  },
  {
   "cell_type": "markdown",
   "metadata": {},
   "source": [
    "<span></span>\n",
    "<h3>\n",
    "<ul>\n",
    "    <li>Vi kan utöka programmet så att användaren får mata in hur många tal som ska skrivas ut</li>\n",
    "    <li>Vi anger också ett villkor till print-satsen så att talen skrivs ut efter varandra i stället för på ny rad</li>\n",
    "</ul>\n",
    "</h3>"
   ]
  },
  {
   "cell_type": "code",
   "execution_count": 20,
   "metadata": {},
   "outputs": [
    {
     "name": "stdout",
     "output_type": "stream",
     "text": [
      "Ange antal tal 0 till 20:\n",
      "7\n",
      "1 2 3 4 5 6 7 "
     ]
    }
   ],
   "source": [
    "# Be användaren mata in antal tal (och se till att inte för många tal skrivs ut...)\n",
    "print(\"Ange antal tal 0 till 20:\")\n",
    "no = int(input())\n",
    "\n",
    "# Felhantering\n",
    "if no < 0:\n",
    "    no = 0\n",
    "if no > 20:\n",
    "    no = 20\n",
    "    \n",
    "# Skriv ut talen med iteration\n",
    "cnt = 1\n",
    "while cnt <= no:\n",
    "    print(cnt, end=\" \")\n",
    "    cnt += 1"
   ]
  },
  {
   "cell_type": "markdown",
   "metadata": {},
   "source": [
    "<span></span>\n",
    "<h3>\n",
    "<ul>\n",
    "    <li>Detta hade inte varit möjligt att lösa utan iteration eftersom vi inte vet på förhand hur många anrop till print som måste göras!</li>\n",
    "</ul>\n",
    "</h3>"
   ]
  },
  {
   "cell_type": "markdown",
   "metadata": {},
   "source": [
    "<span></span>\n",
    "<h3>\n",
    "<ul>\n",
    "    <li>I vårt nästa program ska vi beräkna summan av positiva heltal som användaren matar in</li>\n",
    "    <li>Summeringen fortsätter tills användaren matar in -1</li>\n",
    "    <li>Då presenteras resultatet och programmet avslutas</li>\n",
    "</ul>\n",
    "</h3>"
   ]
  },
  {
   "cell_type": "code",
   "execution_count": 21,
   "metadata": {},
   "outputs": [
    {
     "name": "stdout",
     "output_type": "stream",
     "text": [
      "Mata in ett positivt heltal\n",
      "5\n",
      "Mata in ett positivt heltal\n",
      "7\n",
      "Mata in ett positivt heltal\n",
      "10\n",
      "Mata in ett positivt heltal\n",
      "20\n",
      "Mata in ett positivt heltal\n",
      "-1\n",
      "5+7+10+20 = 42\n"
     ]
    }
   ],
   "source": [
    "# Definiera variabler\n",
    "# Summan av talen\n",
    "sum = 0\n",
    "# Input från användaren\n",
    "tal = 0\n",
    "# Summa-beräkningen\n",
    "expr = \"\"\n",
    "\n",
    "while tal != -1:\n",
    "    print(\"Mata in ett positivt heltal\")\n",
    "    tal = int(input())\n",
    "    if tal >= 0:\n",
    "        sum += tal\n",
    "        expr += str(tal) + \"+\"\n",
    "# Använd substring så att uttrycket inte avslutas med plus-tecken\n",
    "# Vi återkommer till detta längre fram i kursen\n",
    "expr = expr[0:-1]\n",
    "# Skriv ut resultatet\n",
    "print(expr, \"=\", sum)"
   ]
  },
  {
   "cell_type": "markdown",
   "metadata": {},
   "source": [
    "<span></span>\n",
    "<h3>\n",
    "<ul>\n",
    "    <li>Vi går tillbaks till vårt exempel med att skriva ut tal 1 till 5</li>\n",
    "    <li>Vad händer om vi anger att iterationen ska fortsätta så länge räknaren är större än -1?</li>\n",
    "    <li>Villkoret kommer aldrig att bli falskt - vi har skapat en oändlig upprepning!</li>\n",
    "    <li>Programmet kommer då att köra tills det avbryts av användaren</li>\n",
    "    <li>När vi använder <font color=\"blue\">while</font> måste vi vara noga med att villkoret kan bli falskt!</li>\n",
    "</ul>\n",
    "</h3>"
   ]
  },
  {
   "cell_type": "code",
   "execution_count": 22,
   "metadata": {},
   "outputs": [
    {
     "name": "stdout",
     "output_type": "stream",
     "text": [
      "1 2 3 4 5 6 7 8 9 10 11 12 13 14 15 16 17 18 19 20 21 22 23 24 25 26 27 28 29 30 31 32 33 34 35 36 37 38 39 40 41 42 43 44 45 46 47 48 49 50 51 52 53 54 55 56 57 58 59 60 61 62 63 64 65 66 67 68 69 70 71 72 73 74 75 76 77 78 79 80 81 82 83 84 85 86 87 88 89 90 91 92 93 94 95 96 97 98 99 100 ... Programmet krashar!\n"
     ]
    }
   ],
   "source": [
    "# Skriv ut talen 1 till 5 med iteration\n",
    "cnt = 1\n",
    "while cnt > -1:\n",
    "    print(cnt, end=\" \")\n",
    "    cnt += 1\n",
    "    \n",
    "    # VARNING! Här har jag lagt in en felkoll annars körs programmet i oändligheten\n",
    "    if cnt > 100:\n",
    "        print(\"... Programmet krashar!\")\n",
    "        # break kan användas för att avsluta loopar\n",
    "        break"
   ]
  },
  {
   "cell_type": "markdown",
   "metadata": {},
   "source": [
    "<span></span>\n",
    "<h3>\n",
    "<ul>\n",
    "    <li>I vissa fall är det motiverat med oändliga loopar</li>\n",
    "    <li>Ett exempel är en webbserver som lyssnar på anrop så länge programmet körs</li>\n",
    "</ul>\n",
    "</h3>"
   ]
  },
  {
   "cell_type": "markdown",
   "metadata": {},
   "source": [
    "<span></span>\n",
    "<h1>For-loopar</h1>\n",
    "<h3>\n",
    "<ul>\n",
    "    <li>Vi har hittills tittat på upprepning med <font color=\"blue\">while</font></li>\n",
    "    <li>Med <font color=\"blue\">while</font> körs loopen tills villkoret blir falskt</li>\n",
    "    <li>Iteration kan också göras med <font color=\"blue\">for</font></li>\n",
    "    <li>Med <font color=\"blue\">for</font> körs loopen i ett förutbestämt antal upprepningar</li>\n",
    "</ul>\n",
    "<span></span>\n",
    "<ul>\n",
    "    <li>Som tumregel kan sägas att:\n",
    "        <ul>\n",
    "            <li>Om vi vet antal upprepningar, använd <font color=\"blue\">for</font></li>\n",
    "            <li>Om inte, använd <font color=\"blue\">while</font></li>\n",
    "        </ul>\n",
    "    </li>\n",
    "</ul>\n",
    "</h3>"
   ]
  },
  {
   "cell_type": "markdown",
   "metadata": {},
   "source": [
    "<span></span>\n",
    "<h3>\n",
    "<ul>\n",
    "    <li>Vårt tidigare exempel med att skriva ut ett antal tal löste vi med <font color=\"blue\">while</font></li>\n",
    "    <li>Detta kan vi i stället med fördel lösa med <font color=\"blue\">for</font>, eftersom vi vet antal upprepningar innan loopen börjar</li>\n",
    "</ul>\n",
    "</h3>"
   ]
  },
  {
   "cell_type": "code",
   "execution_count": 23,
   "metadata": {},
   "outputs": [
    {
     "name": "stdout",
     "output_type": "stream",
     "text": [
      "Ange antal tal 0 till 20:\n",
      "17\n",
      "1 2 3 4 5 6 7 8 9 10 11 12 13 14 15 16 17 "
     ]
    }
   ],
   "source": [
    "# Be användaren mata in antal tal (och se till att inte för många tal skrivs ut...)\n",
    "print(\"Ange antal tal 0 till 20:\")\n",
    "no = int(input())\n",
    "\n",
    "# Felhantering\n",
    "if no < 0:\n",
    "    no = 0\n",
    "if no > 20:\n",
    "    no = 20\n",
    "    \n",
    "# Skriv ut talen med en for-loop\n",
    "for cnt in range(1, no+1):\n",
    "    print(cnt, end=\" \")"
   ]
  },
  {
   "cell_type": "markdown",
   "metadata": {},
   "source": [
    "<span></span>\n",
    "<h3>\n",
    "<ul>\n",
    "    <li><font color=\"blue\">range()</font> anger start- och slutvärde för räknaren</li>\n",
    "    <li>Observera att slutvärdet inte inkluderas, därför måste vi lägga till +1</li>\n",
    "</ul>\n",
    "</h3>"
   ]
  },
  {
   "cell_type": "markdown",
   "metadata": {},
   "source": [
    "<h3>\n",
    "<ul>\n",
    "    <li>Vi kan också ange en tredje parameter till <font color=\"blue\">range()</font> som anger storleken på varje steg (default är 1)</li>\n",
    "    <li>Vi kan till exempel skriva ut alla jämna heltal mellan 0 och 20:</li>\n",
    "</ul>\n",
    "</h3>"
   ]
  },
  {
   "cell_type": "code",
   "execution_count": 24,
   "metadata": {},
   "outputs": [
    {
     "name": "stdout",
     "output_type": "stream",
     "text": [
      "0 2 4 6 8 10 12 14 16 18 20 "
     ]
    }
   ],
   "source": [
    "# Skriv ut alla jämna tal mellan 0 och 20\n",
    "for cnt in range(0, 21, 2):\n",
    "    print(cnt, end=\" \")"
   ]
  },
  {
   "cell_type": "markdown",
   "metadata": {},
   "source": [
    "<h3>\n",
    "<ul>\n",
    "    <li>Om vi anger en negativ steg-storlek räknar vi neråt från start- till slut-värdet:</li>\n",
    "</ul>\n",
    "</h3>"
   ]
  },
  {
   "cell_type": "code",
   "execution_count": 25,
   "metadata": {},
   "outputs": [
    {
     "name": "stdout",
     "output_type": "stream",
     "text": [
      "10 9 8 7 6 5 4 3 2 1 0 "
     ]
    }
   ],
   "source": [
    "# Räkna neråt från 10 till 0\n",
    "for cnt in range(10, -1, -1):\n",
    "    print(cnt, end=\" \")"
   ]
  },
  {
   "cell_type": "markdown",
   "metadata": {},
   "source": [
    "<h3>\n",
    "<ul>\n",
    "    <li>Vi kan också använda en for-loop för att skriva ut varje bokstav i en textsträng:</li>\n",
    "</ul>\n",
    "</h3>"
   ]
  },
  {
   "cell_type": "code",
   "execution_count": 26,
   "metadata": {},
   "outputs": [
    {
     "name": "stdout",
     "output_type": "stream",
     "text": [
      "P y t h o n "
     ]
    }
   ],
   "source": [
    "# Definiera en textsträng\n",
    "text = \"Python\"\n",
    "\n",
    "# Skriv ut varje bokstav i textsträngen\n",
    "for letter in text:\n",
    "    print(letter, end=\" \")"
   ]
  },
  {
   "cell_type": "markdown",
   "metadata": {},
   "source": [
    "<h3>\n",
    "<ul>\n",
    "    <li>I nästa exempel ska vi skriva ut 2^N för alla N mellan 0 och 10:</li>\n",
    "</ul>\n",
    "</h3>"
   ]
  },
  {
   "cell_type": "code",
   "execution_count": 27,
   "metadata": {},
   "outputs": [
    {
     "name": "stdout",
     "output_type": "stream",
     "text": [
      "2^0 = 1\n",
      "2^1 = 2\n",
      "2^2 = 4\n",
      "2^3 = 8\n",
      "2^4 = 16\n",
      "2^5 = 32\n",
      "2^6 = 64\n",
      "2^7 = 128\n",
      "2^8 = 256\n",
      "2^9 = 512\n",
      "2^10 = 1024\n"
     ]
    }
   ],
   "source": [
    "for N in range(0, 11):\n",
    "    print(\"2^\", N , \" = \", 2**N, sep=\"\")"
   ]
  },
  {
   "cell_type": "markdown",
   "metadata": {},
   "source": [
    "<span></span>\n",
    "<h1>Nästlade loopar</h1>\n",
    "<h3>\n",
    "<ul>\n",
    "    <li>Precis som med if-satser kan vi även använda <font color=\"#BB2222\">nästlade loopar</font>: loopar i andra loopar</li>\n",
    "    <li>Ett exempel är om vi vill skriva ut x- och y-koordinaterna i ett rutnät</li>\n",
    "</ul>\n",
    "<span></span>\n",
    "<ul>\n",
    "    <li>För att snygga till utskrifter kan vi anropa <font color=\"blue\">format()</font> på print-satser</li>\n",
    "    <li>Vi kan då skriva ut ett tal eller en textstäng med en angiven bredd (blanksteg läggs till före vid behov)</li>\n",
    "    <li>Tal blir högerjusterade, textsträngar vänsterjusterade (precis som tabeller i Excel)</li>\n",
    "</ul>\n",
    "</h3>"
   ]
  },
  {
   "cell_type": "code",
   "execution_count": 28,
   "metadata": {},
   "outputs": [
    {
     "name": "stdout",
     "output_type": "stream",
     "text": [
      "'Python  '\n",
      "'      42'\n"
     ]
    }
   ],
   "source": [
    "# Exempel på format()\n",
    "a = 42\n",
    "text = \"Python\"\n",
    "print(\"'{0:8}'\".format(text))\n",
    "print(\"'{0:8}'\".format(a))"
   ]
  },
  {
   "cell_type": "code",
   "execution_count": 29,
   "metadata": {},
   "outputs": [
    {
     "name": "stdout",
     "output_type": "stream",
     "text": [
      "(0,0)   (1,0)   (2,0)   (3,0)   (4,0)   (5,0)   (6,0)   (7,0)   (8,0)   \n",
      "(0,1)   (1,1)   (2,1)   (3,1)   (4,1)   (5,1)   (6,1)   (7,1)   (8,1)   \n",
      "(0,2)   (1,2)   (2,2)   (3,2)   (4,2)   (5,2)   (6,2)   (7,2)   (8,2)   \n",
      "(0,3)   (1,3)   (2,3)   (3,3)   (4,3)   (5,3)   (6,3)   (7,3)   (8,3)   \n",
      "(0,4)   (1,4)   (2,4)   (3,4)   (4,4)   (5,4)   (6,4)   (7,4)   (8,4)   \n",
      "(0,5)   (1,5)   (2,5)   (3,5)   (4,5)   (5,5)   (6,5)   (7,5)   (8,5)   \n",
      "(0,6)   (1,6)   (2,6)   (3,6)   (4,6)   (5,6)   (6,6)   (7,6)   (8,6)   \n",
      "(0,7)   (1,7)   (2,7)   (3,7)   (4,7)   (5,7)   (6,7)   (7,7)   (8,7)   \n",
      "(0,8)   (1,8)   (2,8)   (3,8)   (4,8)   (5,8)   (6,8)   (7,8)   (8,8)   \n",
      "(0,9)   (1,9)   (2,9)   (3,9)   (4,9)   (5,9)   (6,9)   (7,9)   (8,9)   \n",
      "(0,10)  (1,10)  (2,10)  (3,10)  (4,10)  (5,10)  (6,10)  (7,10)  (8,10)  \n",
      "(0,11)  (1,11)  (2,11)  (3,11)  (4,11)  (5,11)  (6,11)  (7,11)  (8,11)  \n",
      "(0,12)  (1,12)  (2,12)  (3,12)  (4,12)  (5,12)  (6,12)  (7,12)  (8,12)  \n"
     ]
    }
   ],
   "source": [
    "# Definiera storleken på rutnätet\n",
    "h = 12\n",
    "w = 8\n",
    "\n",
    "# Yttre for-loop (y-koordinat)\n",
    "for y in range (0, h+1):\n",
    "    # Inre for-loop (x-koordinat)\n",
    "    for x in range (0, w+1):\n",
    "        # Aktuell koordinat (x,y)\n",
    "        coord = \"(\" + str(x) + \",\" + str(y) + \")\"\n",
    "        # Skriv ut med 8 teckens bredd\n",
    "        print(\"{0:8}\".format(coord), end=\"\")\n",
    "    # Ny rad\n",
    "    print(\"\")"
   ]
  },
  {
   "cell_type": "markdown",
   "metadata": {},
   "source": [
    "<span></span>\n",
    "<h1>Primtal</h1>\n",
    "<h3>\n",
    "<ul>\n",
    "    <li>Vi kan använda nästlade loopar för att kontrollera om ett tal är ett primtal</li>\n",
    "    <li>Ett primtal är inte jämnt delbart med någon annat tal än 1 eller sig självt</li>\n",
    "    <li>För varje tal kan vi då iterera från 2 till talet - 1 och se om det är jämnt delbart</li>\n",
    "    <li>Denna algoritm kallas <font color=\"#BB2222\"><em>Eratosthenes såll</em></font></li>\n",
    "</ul>\n",
    "</h3>"
   ]
  },
  {
   "cell_type": "code",
   "execution_count": 30,
   "metadata": {},
   "outputs": [
    {
     "name": "stdout",
     "output_type": "stream",
     "text": [
      "2 3 5 7 11 13 17 19 23 29 31 37 41 43 47 53 59 61 67 71 73 79 83 89 97 "
     ]
    }
   ],
   "source": [
    "# Ange högsta talet vi vill undersöka\n",
    "max = 100\n",
    "\n",
    "# Loopa igenom alla tal från 2 till max\n",
    "for n in range(2, max+1):\n",
    "    # Kontrollera om talet är jämnt delbart med något tal mellan 2 och talet - 1\n",
    "    for factor in range(2, n):\n",
    "        if (n % factor == 0):\n",
    "            # Jämnt delbart - avsluta loopen\n",
    "            break\n",
    "    else:\n",
    "        # Körs endast om loopen avslutades normalt (inte avbruten med break)\n",
    "        # I detta fall är talet ett primtal\n",
    "        print(n, end=\" \")"
   ]
  },
  {
   "cell_type": "markdown",
   "metadata": {},
   "source": [
    "<span></span>\n",
    "<h3>\n",
    "<ul>\n",
    "    <li>Denna algoritm fungerar, men är dessvärre alldeles för långsam för stora tal</li>\n",
    "    <li>Det finns andra, snabbare algoritmer för att hitta primtal som du kan undersöka om du är intresserad</li>\n",
    "</ul>\n",
    "</h3>"
   ]
  },
  {
   "cell_type": "markdown",
   "metadata": {},
   "source": [
    "<span></span>\n",
    "<h1>Exempel: Gissa talet</h1>\n",
    "<h3>\n",
    "<ul>\n",
    "    <li>Som lite större exempel ska vi göra ett spel där användaren ska gissa ett hemligt tal med så få gissningar som möjligt</li>\n",
    "    <li>Efter varje gissning får användaren reda på om det hemliga talet är större än, mindre än eller lika med gissningen</li>\n",
    "</ul>\n",
    "</h3>"
   ]
  },
  {
   "cell_type": "code",
   "execution_count": 31,
   "metadata": {},
   "outputs": [
    {
     "name": "stdout",
     "output_type": "stream",
     "text": [
      "Välkommen till Gissa Talet\n",
      "Du ska gissa det hemliga talet mellan 1 och 100 på så få försök som möjligt!\n",
      "Lycka till!\n",
      "\n",
      "Ange gissning 1 (1-100):\n",
      "50\n",
      "Talet är mindre än din gissning\n",
      "Ange gissning 2 (1-100):\n",
      "25\n",
      "Talet är mindre än din gissning\n",
      "Ange gissning 3 (1-100):\n",
      "12\n",
      "Talet är mindre än din gissning\n",
      "Ange gissning 4 (1-100):\n",
      "6\n",
      "Talet är större än din gissning\n",
      "Ange gissning 5 (1-100):\n",
      "9\n",
      "Talet är större än din gissning\n",
      "Ange gissning 6 (1-100):\n",
      "10\n",
      "Talet är större än din gissning\n",
      "Ange gissning 7 (1-100):\n",
      "11\n",
      "Du klarade det på 7 gissningar!\n"
     ]
    }
   ],
   "source": [
    "# Importera random-biblioteket\n",
    "# Vi återkommer till import senare i kursen\n",
    "import random\n",
    "\n",
    "print(\"Välkommen till Gissa Talet\")\n",
    "print(\"Du ska gissa det hemliga talet mellan 1 och 100 på så få försök som möjligt!\")\n",
    "print(\"Lycka till!\\n\")\n",
    "\n",
    "# Hitta ett slumpmässigt hemligt tal\n",
    "secret = random.randint(1, 100)\n",
    "# Ta bort kommentaren här om du vill fuska...\n",
    "# print(\"Psst, hemliga talet är \" + str(secret))\n",
    "\n",
    "# Definiera räknare för antalet gissningar\n",
    "no = 0\n",
    "# Aktuell gissning\n",
    "guess = 0\n",
    "\n",
    "# Iterera tills talet är hittat\n",
    "while (guess != secret):\n",
    "    # Ny gissning\n",
    "    no += 1\n",
    "    print(\"Ange gissning \" + str(no) + \" (1-100):\")\n",
    "    guess = int(input())\n",
    "    if guess == secret:\n",
    "        print(\"Du klarade det på \" + str(no) + \" gissningar!\")\n",
    "    elif secret < guess:\n",
    "        print(\"Talet är mindre än din gissning\")\n",
    "    elif secret > guess:\n",
    "        print(\"Talet är större än din gissning\")"
   ]
  },
  {
   "cell_type": "code",
   "execution_count": null,
   "metadata": {},
   "outputs": [],
   "source": []
  }
 ],
 "metadata": {
  "kernelspec": {
   "display_name": "Python 3",
   "language": "python",
   "name": "python3"
  },
  "language_info": {
   "codemirror_mode": {
    "name": "ipython",
    "version": 3
   },
   "file_extension": ".py",
   "mimetype": "text/x-python",
   "name": "python",
   "nbconvert_exporter": "python",
   "pygments_lexer": "ipython3",
   "version": "3.7.2"
  }
 },
 "nbformat": 4,
 "nbformat_minor": 2
}
